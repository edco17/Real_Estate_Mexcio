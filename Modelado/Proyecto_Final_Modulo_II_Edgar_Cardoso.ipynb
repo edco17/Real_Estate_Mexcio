{
 "cells": [
  {
   "cell_type": "markdown",
   "metadata": {},
   "source": [
    "# Modelación Supervisada"
   ]
  },
  {
   "cell_type": "markdown",
   "metadata": {},
   "source": [
    "## Importar Librerías"
   ]
  },
  {
   "cell_type": "code",
   "execution_count": 1,
   "metadata": {},
   "outputs": [],
   "source": [
    "import pandas as pd\n",
    "import numpy as np\n",
    "import matplotlib.pyplot as plt"
   ]
  },
  {
   "cell_type": "markdown",
   "metadata": {},
   "source": [
    "## Importar Tabal de Datos Limpia y Reducida"
   ]
  },
  {
   "cell_type": "code",
   "execution_count": 2,
   "metadata": {},
   "outputs": [],
   "source": [
    "data = pd.read_csv('real_estate.csv') "
   ]
  },
  {
   "cell_type": "markdown",
   "metadata": {},
   "source": [
    "## Estructura de Datos"
   ]
  },
  {
   "cell_type": "code",
   "execution_count": 3,
   "metadata": {},
   "outputs": [
    {
     "data": {
      "text/html": [
       "<div>\n",
       "<style scoped>\n",
       "    .dataframe tbody tr th:only-of-type {\n",
       "        vertical-align: middle;\n",
       "    }\n",
       "\n",
       "    .dataframe tbody tr th {\n",
       "        vertical-align: top;\n",
       "    }\n",
       "\n",
       "    .dataframe thead th {\n",
       "        text-align: right;\n",
       "    }\n",
       "</style>\n",
       "<table border=\"1\" class=\"dataframe\">\n",
       "  <thead>\n",
       "    <tr style=\"text-align: right;\">\n",
       "      <th></th>\n",
       "      <th>d_created_on</th>\n",
       "      <th>c_lat</th>\n",
       "      <th>c_lon</th>\n",
       "      <th>c_price</th>\n",
       "      <th>c_surface_covered_in_m2</th>\n",
       "      <th>v_estado</th>\n",
       "      <th>v_anio_2015</th>\n",
       "      <th>v_anio_2016</th>\n",
       "      <th>v_mes_2</th>\n",
       "      <th>v_mes_3</th>\n",
       "      <th>...</th>\n",
       "      <th>descr_comedor</th>\n",
       "      <th>descr_id</th>\n",
       "      <th>descr_nocnok</th>\n",
       "      <th>descr_recamaras</th>\n",
       "      <th>descr_sala</th>\n",
       "      <th>descr_sistema</th>\n",
       "      <th>v_region_norte</th>\n",
       "      <th>v_region_sur</th>\n",
       "      <th>v_tamanio_grande</th>\n",
       "      <th>v_tamanio_mediano</th>\n",
       "    </tr>\n",
       "  </thead>\n",
       "  <tbody>\n",
       "    <tr>\n",
       "      <th>0</th>\n",
       "      <td>2014-01-02</td>\n",
       "      <td>19.497295</td>\n",
       "      <td>-96.879250</td>\n",
       "      <td>750000.0</td>\n",
       "      <td>90.0</td>\n",
       "      <td>Veracruz de Ignacio de la Llave</td>\n",
       "      <td>0</td>\n",
       "      <td>0</td>\n",
       "      <td>0</td>\n",
       "      <td>0</td>\n",
       "      <td>...</td>\n",
       "      <td>1</td>\n",
       "      <td>0</td>\n",
       "      <td>0</td>\n",
       "      <td>2</td>\n",
       "      <td>1</td>\n",
       "      <td>0</td>\n",
       "      <td>0</td>\n",
       "      <td>0</td>\n",
       "      <td>0</td>\n",
       "      <td>1</td>\n",
       "    </tr>\n",
       "    <tr>\n",
       "      <th>1</th>\n",
       "      <td>2014-01-02</td>\n",
       "      <td>19.200068</td>\n",
       "      <td>-96.170279</td>\n",
       "      <td>140000.0</td>\n",
       "      <td>174.5</td>\n",
       "      <td>Veracruz de Ignacio de la Llave</td>\n",
       "      <td>0</td>\n",
       "      <td>0</td>\n",
       "      <td>0</td>\n",
       "      <td>0</td>\n",
       "      <td>...</td>\n",
       "      <td>0</td>\n",
       "      <td>0</td>\n",
       "      <td>0</td>\n",
       "      <td>1</td>\n",
       "      <td>0</td>\n",
       "      <td>0</td>\n",
       "      <td>0</td>\n",
       "      <td>0</td>\n",
       "      <td>1</td>\n",
       "      <td>0</td>\n",
       "    </tr>\n",
       "    <tr>\n",
       "      <th>2</th>\n",
       "      <td>2014-01-02</td>\n",
       "      <td>19.497295</td>\n",
       "      <td>-96.879250</td>\n",
       "      <td>440000.0</td>\n",
       "      <td>60.0</td>\n",
       "      <td>Veracruz de Ignacio de la Llave</td>\n",
       "      <td>0</td>\n",
       "      <td>0</td>\n",
       "      <td>0</td>\n",
       "      <td>0</td>\n",
       "      <td>...</td>\n",
       "      <td>1</td>\n",
       "      <td>0</td>\n",
       "      <td>0</td>\n",
       "      <td>1</td>\n",
       "      <td>1</td>\n",
       "      <td>0</td>\n",
       "      <td>0</td>\n",
       "      <td>0</td>\n",
       "      <td>0</td>\n",
       "      <td>1</td>\n",
       "    </tr>\n",
       "    <tr>\n",
       "      <th>3</th>\n",
       "      <td>2014-01-02</td>\n",
       "      <td>19.497295</td>\n",
       "      <td>-96.879250</td>\n",
       "      <td>2950000.0</td>\n",
       "      <td>177.0</td>\n",
       "      <td>Veracruz de Ignacio de la Llave</td>\n",
       "      <td>0</td>\n",
       "      <td>0</td>\n",
       "      <td>0</td>\n",
       "      <td>0</td>\n",
       "      <td>...</td>\n",
       "      <td>1</td>\n",
       "      <td>0</td>\n",
       "      <td>0</td>\n",
       "      <td>0</td>\n",
       "      <td>1</td>\n",
       "      <td>0</td>\n",
       "      <td>0</td>\n",
       "      <td>0</td>\n",
       "      <td>0</td>\n",
       "      <td>1</td>\n",
       "    </tr>\n",
       "    <tr>\n",
       "      <th>4</th>\n",
       "      <td>2014-01-02</td>\n",
       "      <td>19.497295</td>\n",
       "      <td>-96.879250</td>\n",
       "      <td>750000.0</td>\n",
       "      <td>70.0</td>\n",
       "      <td>Veracruz de Ignacio de la Llave</td>\n",
       "      <td>0</td>\n",
       "      <td>0</td>\n",
       "      <td>0</td>\n",
       "      <td>0</td>\n",
       "      <td>...</td>\n",
       "      <td>1</td>\n",
       "      <td>0</td>\n",
       "      <td>0</td>\n",
       "      <td>1</td>\n",
       "      <td>1</td>\n",
       "      <td>0</td>\n",
       "      <td>0</td>\n",
       "      <td>0</td>\n",
       "      <td>0</td>\n",
       "      <td>1</td>\n",
       "    </tr>\n",
       "  </tbody>\n",
       "</table>\n",
       "<p>5 rows × 53 columns</p>\n",
       "</div>"
      ],
      "text/plain": [
       "  d_created_on      c_lat      c_lon    c_price  c_surface_covered_in_m2  \\\n",
       "0   2014-01-02  19.497295 -96.879250   750000.0                     90.0   \n",
       "1   2014-01-02  19.200068 -96.170279   140000.0                    174.5   \n",
       "2   2014-01-02  19.497295 -96.879250   440000.0                     60.0   \n",
       "3   2014-01-02  19.497295 -96.879250  2950000.0                    177.0   \n",
       "4   2014-01-02  19.497295 -96.879250   750000.0                     70.0   \n",
       "\n",
       "                          v_estado  v_anio_2015  v_anio_2016  v_mes_2  \\\n",
       "0  Veracruz de Ignacio de la Llave            0            0        0   \n",
       "1  Veracruz de Ignacio de la Llave            0            0        0   \n",
       "2  Veracruz de Ignacio de la Llave            0            0        0   \n",
       "3  Veracruz de Ignacio de la Llave            0            0        0   \n",
       "4  Veracruz de Ignacio de la Llave            0            0        0   \n",
       "\n",
       "   v_mes_3  ...  descr_comedor  descr_id  descr_nocnok  descr_recamaras  \\\n",
       "0        0  ...              1         0             0                2   \n",
       "1        0  ...              0         0             0                1   \n",
       "2        0  ...              1         0             0                1   \n",
       "3        0  ...              1         0             0                0   \n",
       "4        0  ...              1         0             0                1   \n",
       "\n",
       "   descr_sala  descr_sistema  v_region_norte  v_region_sur  v_tamanio_grande  \\\n",
       "0           1              0               0             0                 0   \n",
       "1           0              0               0             0                 1   \n",
       "2           1              0               0             0                 0   \n",
       "3           1              0               0             0                 0   \n",
       "4           1              0               0             0                 0   \n",
       "\n",
       "   v_tamanio_mediano  \n",
       "0                  1  \n",
       "1                  0  \n",
       "2                  1  \n",
       "3                  1  \n",
       "4                  1  \n",
       "\n",
       "[5 rows x 53 columns]"
      ]
     },
     "execution_count": 3,
     "metadata": {},
     "output_type": "execute_result"
    }
   ],
   "source": [
    "data.head()"
   ]
  },
  {
   "cell_type": "markdown",
   "metadata": {},
   "source": [
    "## Enriquecimiento de Tabla"
   ]
  },
  {
   "cell_type": "code",
   "execution_count": 4,
   "metadata": {},
   "outputs": [],
   "source": [
    "estados = list(data['v_estado'].value_counts().index.sort_values())"
   ]
  },
  {
   "cell_type": "code",
   "execution_count": 5,
   "metadata": {},
   "outputs": [],
   "source": [
    "# datos de superficie por inegi\n",
    "superficie = [5616,\n",
    "71450,\n",
    "73909,\n",
    "57507,\n",
    "73311,\n",
    "247455,\n",
    "151562,\n",
    "5627,\n",
    "1495,\n",
    "123317,\n",
    "22351,\n",
    "30608,\n",
    "63596,\n",
    "20813,\n",
    "78588,\n",
    "58599,\n",
    "4879,\n",
    "27857,\n",
    "64156,\n",
    "93757,\n",
    "34306,\n",
    "11699,\n",
    "44705,\n",
    "61137,\n",
    "58200,\n",
    "179355,\n",
    "24731,\n",
    "80249,\n",
    "4016,\n",
    "71826,\n",
    "39524,\n",
    "75284]\n",
    "# diccionario de superficie\n",
    "sup_estado = dict(zip(estados, superficie))"
   ]
  },
  {
   "cell_type": "code",
   "execution_count": 6,
   "metadata": {},
   "outputs": [],
   "source": [
    "# Población\n",
    "poblacion = [1312544,\n",
    "3315766,\n",
    "712029,\n",
    "899931,\n",
    "5217908,\n",
    "3556574,\n",
    "2954915,\n",
    "711235,\n",
    "8918653,\n",
    "1754754,\n",
    "16187608,\n",
    "5853677,\n",
    "3533251,\n",
    "2858359,\n",
    "7844830,\n",
    "4584471,\n",
    "1903811,\n",
    "1181050,\n",
    "5119504,\n",
    "3967889,\n",
    "6168883,\n",
    "2038372,\n",
    "1501562,\n",
    "2717820,\n",
    "2966321,\n",
    "2850330,\n",
    "2395272,\n",
    "3441698,\n",
    "1272847,\n",
    "8112505,\n",
    "2097175,\n",
    "1579209]\n",
    "# diccionario de población\n",
    "pob_estado = dict(zip(estados, poblacion))"
   ]
  },
  {
   "cell_type": "code",
   "execution_count": 7,
   "metadata": {},
   "outputs": [],
   "source": [
    "# tasa hipotecaria promedio por año datos Banxico\n",
    "tasa_hipotecaria = {2013: 0.119145454545455, 2014: 0.107691666666667,\n",
    "                   2015: 0.103133333333333, 2016: 0.102191666666667}"
   ]
  },
  {
   "cell_type": "code",
   "execution_count": 8,
   "metadata": {},
   "outputs": [],
   "source": [
    "## nuevas variables\n",
    "# población\n",
    "data['c_poblacion'] = data['v_estado'].apply(lambda x: pob_estado[x])\n",
    "# superficie\n",
    "data['c_superficie'] = data['v_estado'].apply(lambda x: sup_estado[x])\n",
    "# densidad poblacional\n",
    "data['c_densidad'] = data['c_poblacion'] / data['c_superficie']\n",
    "# tasa hipotecaria\n",
    "data['c_tasa'] = pd.to_datetime(data['d_created_on']).apply(lambda x: tasa_hipotecaria[x.year])\n",
    "# dummy estados\n",
    "data = pd.get_dummies(data, columns = ['v_estado'], drop_first = True)"
   ]
  },
  {
   "cell_type": "code",
   "execution_count": 9,
   "metadata": {},
   "outputs": [
    {
     "data": {
      "text/plain": [
       "Index(['d_created_on', 'c_lat', 'c_lon', 'c_price', 'c_surface_covered_in_m2',\n",
       "       'v_anio_2015', 'v_anio_2016', 'v_mes_2', 'v_mes_3', 'v_mes_4',\n",
       "       'v_mes_5', 'v_mes_6', 'v_mes_7', 'v_mes_8', 'v_mes_9', 'v_mes_10',\n",
       "       'v_mes_11', 'v_mes_12', 'v_dia_semama_Jueves', 'v_dia_semama_Lunes',\n",
       "       'v_dia_semama_Martes', 'v_dia_semama_Miercoles', 'v_dia_semama_Sábado',\n",
       "       'v_dia_semama_Viernes', 'v_operation_sell', 'v_property_type_house',\n",
       "       'v_property_type_store', 'v_conteo_geo', 'title_casa', 'title_centro',\n",
       "       'title_departamento', 'title_fracc', 'title_local', 'title_lomas',\n",
       "       'title_renta', 'title_residencial', 'title_san', 'title_venta',\n",
       "       'descr_baao', 'descr_br', 'descr_casa', 'descr_cocina', 'descr_comedor',\n",
       "       'descr_id', 'descr_nocnok', 'descr_recamaras', 'descr_sala',\n",
       "       'descr_sistema', 'v_region_norte', 'v_region_sur', 'v_tamanio_grande',\n",
       "       'v_tamanio_mediano', 'c_poblacion', 'c_superficie', 'c_densidad',\n",
       "       'c_tasa', 'v_estado_Baja California', 'v_estado_Baja California Sur',\n",
       "       'v_estado_Campeche', 'v_estado_Chiapas', 'v_estado_Chihuahua',\n",
       "       'v_estado_Coahuila de Zaragoza', 'v_estado_Colima',\n",
       "       'v_estado_Distrito Federal', 'v_estado_Durango',\n",
       "       'v_estado_Estado de MÃ©xico', 'v_estado_Guanajuato',\n",
       "       'v_estado_Guerrero', 'v_estado_Hidalgo', 'v_estado_Jalisco',\n",
       "       'v_estado_Morelos', 'v_estado_Nayarit', 'v_estado_Nuevo LeÃ³n',\n",
       "       'v_estado_Oaxaca', 'v_estado_Puebla', 'v_estado_QuerÃ©taro',\n",
       "       'v_estado_Quintana Roo', 'v_estado_San Luis PotosÃ­',\n",
       "       'v_estado_Sinaloa', 'v_estado_Sonora', 'v_estado_Tabasco',\n",
       "       'v_estado_Tamaulipas', 'v_estado_Tlaxcala',\n",
       "       'v_estado_Veracruz de Ignacio de la Llave', 'v_estado_YucatÃ¡n',\n",
       "       'v_estado_Zacatecas'],\n",
       "      dtype='object')"
      ]
     },
     "execution_count": 9,
     "metadata": {},
     "output_type": "execute_result"
    }
   ],
   "source": [
    "data.columns"
   ]
  },
  {
   "cell_type": "code",
   "execution_count": 10,
   "metadata": {},
   "outputs": [],
   "source": [
    "columnas = ['c_lat', 'c_lon', 'c_surface_covered_in_m2',\n",
    "            'c_poblacion', 'c_superficie', 'c_densidad','c_tasa', 'v_conteo_geo',\n",
    "       'v_anio_2015', 'v_anio_2016', 'v_mes_2', 'v_mes_3', 'v_mes_4',\n",
    "       'v_mes_5', 'v_mes_6', 'v_mes_7', 'v_mes_8', 'v_mes_9', 'v_mes_10',\n",
    "       'v_mes_11', 'v_mes_12', 'v_dia_semama_Jueves', 'v_dia_semama_Lunes',\n",
    "       'v_dia_semama_Martes', 'v_dia_semama_Miercoles', 'v_dia_semama_Sábado',\n",
    "       'v_dia_semama_Viernes', 'v_operation_sell', 'v_property_type_house',\n",
    "       'v_property_type_store', 'title_casa', 'title_centro',\n",
    "       'title_departamento', 'title_fracc', 'title_local', 'title_lomas',\n",
    "       'title_renta', 'title_residencial', 'title_san', 'title_venta',\n",
    "       'descr_baao', 'descr_br', 'descr_casa', 'descr_cocina', 'descr_comedor',\n",
    "       'descr_id', 'descr_nocnok', 'descr_recamaras', 'descr_sala',\n",
    "       'descr_sistema', 'v_region_norte', 'v_region_sur', 'v_tamanio_grande',\n",
    "       'v_tamanio_mediano', 'v_estado_Baja California', 'v_estado_Baja California Sur',\n",
    "       'v_estado_Campeche', 'v_estado_Chiapas', 'v_estado_Chihuahua',\n",
    "       'v_estado_Coahuila de Zaragoza', 'v_estado_Colima',\n",
    "       'v_estado_Distrito Federal', 'v_estado_Durango',\n",
    "       'v_estado_Estado de MÃ©xico', 'v_estado_Guanajuato',\n",
    "       'v_estado_Guerrero', 'v_estado_Hidalgo', 'v_estado_Jalisco',\n",
    "       'v_estado_Morelos', 'v_estado_Nayarit', 'v_estado_Nuevo LeÃ³n',\n",
    "       'v_estado_Oaxaca', 'v_estado_Puebla', 'v_estado_QuerÃ©taro',\n",
    "       'v_estado_Quintana Roo', 'v_estado_San Luis PotosÃ­',\n",
    "       'v_estado_Sinaloa', 'v_estado_Sonora', 'v_estado_Tabasco',\n",
    "       'v_estado_Tamaulipas', 'v_estado_Tlaxcala',\n",
    "       'v_estado_Veracruz de Ignacio de la Llave', 'v_estado_YucatÃ¡n',\n",
    "       'v_estado_Zacatecas']"
   ]
  },
  {
   "cell_type": "code",
   "execution_count": 11,
   "metadata": {},
   "outputs": [
    {
     "name": "stdout",
     "output_type": "stream",
     "text": [
      "<class 'pandas.core.frame.DataFrame'>\n",
      "RangeIndex: 125684 entries, 0 to 125683\n",
      "Data columns (total 86 columns):\n",
      " #   Column                                    Non-Null Count   Dtype  \n",
      "---  ------                                    --------------   -----  \n",
      " 0   d_created_on                              125684 non-null  object \n",
      " 1   c_lat                                     125684 non-null  float64\n",
      " 2   c_lon                                     125684 non-null  float64\n",
      " 3   c_price                                   125684 non-null  float64\n",
      " 4   c_surface_covered_in_m2                   125684 non-null  float64\n",
      " 5   v_anio_2015                               125684 non-null  int64  \n",
      " 6   v_anio_2016                               125684 non-null  int64  \n",
      " 7   v_mes_2                                   125684 non-null  int64  \n",
      " 8   v_mes_3                                   125684 non-null  int64  \n",
      " 9   v_mes_4                                   125684 non-null  int64  \n",
      " 10  v_mes_5                                   125684 non-null  int64  \n",
      " 11  v_mes_6                                   125684 non-null  int64  \n",
      " 12  v_mes_7                                   125684 non-null  int64  \n",
      " 13  v_mes_8                                   125684 non-null  int64  \n",
      " 14  v_mes_9                                   125684 non-null  int64  \n",
      " 15  v_mes_10                                  125684 non-null  int64  \n",
      " 16  v_mes_11                                  125684 non-null  int64  \n",
      " 17  v_mes_12                                  125684 non-null  int64  \n",
      " 18  v_dia_semama_Jueves                       125684 non-null  int64  \n",
      " 19  v_dia_semama_Lunes                        125684 non-null  int64  \n",
      " 20  v_dia_semama_Martes                       125684 non-null  int64  \n",
      " 21  v_dia_semama_Miercoles                    125684 non-null  int64  \n",
      " 22  v_dia_semama_Sábado                       125684 non-null  int64  \n",
      " 23  v_dia_semama_Viernes                      125684 non-null  int64  \n",
      " 24  v_operation_sell                          125684 non-null  int64  \n",
      " 25  v_property_type_house                     125684 non-null  int64  \n",
      " 26  v_property_type_store                     125684 non-null  int64  \n",
      " 27  v_conteo_geo                              125684 non-null  float64\n",
      " 28  title_casa                                125684 non-null  int64  \n",
      " 29  title_centro                              125684 non-null  int64  \n",
      " 30  title_departamento                        125684 non-null  int64  \n",
      " 31  title_fracc                               125684 non-null  int64  \n",
      " 32  title_local                               125684 non-null  int64  \n",
      " 33  title_lomas                               125684 non-null  int64  \n",
      " 34  title_renta                               125684 non-null  int64  \n",
      " 35  title_residencial                         125684 non-null  int64  \n",
      " 36  title_san                                 125684 non-null  int64  \n",
      " 37  title_venta                               125684 non-null  int64  \n",
      " 38  descr_baao                                125684 non-null  int64  \n",
      " 39  descr_br                                  125684 non-null  int64  \n",
      " 40  descr_casa                                125684 non-null  int64  \n",
      " 41  descr_cocina                              125684 non-null  int64  \n",
      " 42  descr_comedor                             125684 non-null  int64  \n",
      " 43  descr_id                                  125684 non-null  int64  \n",
      " 44  descr_nocnok                              125684 non-null  int64  \n",
      " 45  descr_recamaras                           125684 non-null  int64  \n",
      " 46  descr_sala                                125684 non-null  int64  \n",
      " 47  descr_sistema                             125684 non-null  int64  \n",
      " 48  v_region_norte                            125684 non-null  int64  \n",
      " 49  v_region_sur                              125684 non-null  int64  \n",
      " 50  v_tamanio_grande                          125684 non-null  int64  \n",
      " 51  v_tamanio_mediano                         125684 non-null  int64  \n",
      " 52  c_poblacion                               125684 non-null  int64  \n",
      " 53  c_superficie                              125684 non-null  int64  \n",
      " 54  c_densidad                                125684 non-null  float64\n",
      " 55  c_tasa                                    125684 non-null  float64\n",
      " 56  v_estado_Baja California                  125684 non-null  uint8  \n",
      " 57  v_estado_Baja California Sur              125684 non-null  uint8  \n",
      " 58  v_estado_Campeche                         125684 non-null  uint8  \n",
      " 59  v_estado_Chiapas                          125684 non-null  uint8  \n",
      " 60  v_estado_Chihuahua                        125684 non-null  uint8  \n",
      " 61  v_estado_Coahuila de Zaragoza             125684 non-null  uint8  \n",
      " 62  v_estado_Colima                           125684 non-null  uint8  \n",
      " 63  v_estado_Distrito Federal                 125684 non-null  uint8  \n",
      " 64  v_estado_Durango                          125684 non-null  uint8  \n",
      " 65  v_estado_Estado de MÃ©xico                125684 non-null  uint8  \n",
      " 66  v_estado_Guanajuato                       125684 non-null  uint8  \n",
      " 67  v_estado_Guerrero                         125684 non-null  uint8  \n",
      " 68  v_estado_Hidalgo                          125684 non-null  uint8  \n",
      " 69  v_estado_Jalisco                          125684 non-null  uint8  \n",
      " 70  v_estado_Morelos                          125684 non-null  uint8  \n",
      " 71  v_estado_Nayarit                          125684 non-null  uint8  \n",
      " 72  v_estado_Nuevo LeÃ³n                      125684 non-null  uint8  \n",
      " 73  v_estado_Oaxaca                           125684 non-null  uint8  \n",
      " 74  v_estado_Puebla                           125684 non-null  uint8  \n",
      " 75  v_estado_QuerÃ©taro                       125684 non-null  uint8  \n",
      " 76  v_estado_Quintana Roo                     125684 non-null  uint8  \n",
      " 77  v_estado_San Luis PotosÃ­                 125684 non-null  uint8  \n",
      " 78  v_estado_Sinaloa                          125684 non-null  uint8  \n",
      " 79  v_estado_Sonora                           125684 non-null  uint8  \n",
      " 80  v_estado_Tabasco                          125684 non-null  uint8  \n",
      " 81  v_estado_Tamaulipas                       125684 non-null  uint8  \n",
      " 82  v_estado_Tlaxcala                         125684 non-null  uint8  \n",
      " 83  v_estado_Veracruz de Ignacio de la Llave  125684 non-null  uint8  \n",
      " 84  v_estado_YucatÃ¡n                         125684 non-null  uint8  \n",
      " 85  v_estado_Zacatecas                        125684 non-null  uint8  \n",
      "dtypes: float64(7), int64(48), object(1), uint8(30)\n",
      "memory usage: 57.3+ MB\n"
     ]
    }
   ],
   "source": [
    "# información de los datos\n",
    "data.info()"
   ]
  },
  {
   "cell_type": "markdown",
   "metadata": {},
   "source": [
    "## División Cojunto de Datos"
   ]
  },
  {
   "cell_type": "code",
   "execution_count": 12,
   "metadata": {},
   "outputs": [],
   "source": [
    "X = data.loc[:, columnas]\n",
    "y = data.loc[:, 'c_price']\n",
    "\n",
    "## y reshape\n",
    "y = np.array(y).reshape(-1, 1)"
   ]
  },
  {
   "cell_type": "code",
   "execution_count": 13,
   "metadata": {},
   "outputs": [],
   "source": [
    "## train test\n",
    "from sklearn.model_selection import train_test_split\n",
    "\n",
    "X_train, X_test, y_train, y_test = train_test_split(X, y, test_size = 0.2)"
   ]
  },
  {
   "cell_type": "code",
   "execution_count": 14,
   "metadata": {},
   "outputs": [],
   "source": [
    "X_train.reset_index(drop = True, inplace = True)\n",
    "X_test.reset_index(drop = True, inplace = True)"
   ]
  },
  {
   "cell_type": "code",
   "execution_count": 15,
   "metadata": {},
   "outputs": [
    {
     "data": {
      "text/html": [
       "<div>\n",
       "<style scoped>\n",
       "    .dataframe tbody tr th:only-of-type {\n",
       "        vertical-align: middle;\n",
       "    }\n",
       "\n",
       "    .dataframe tbody tr th {\n",
       "        vertical-align: top;\n",
       "    }\n",
       "\n",
       "    .dataframe thead th {\n",
       "        text-align: right;\n",
       "    }\n",
       "</style>\n",
       "<table border=\"1\" class=\"dataframe\">\n",
       "  <thead>\n",
       "    <tr style=\"text-align: right;\">\n",
       "      <th></th>\n",
       "      <th>c_lat</th>\n",
       "      <th>c_lon</th>\n",
       "      <th>c_surface_covered_in_m2</th>\n",
       "      <th>c_poblacion</th>\n",
       "      <th>c_superficie</th>\n",
       "      <th>c_densidad</th>\n",
       "      <th>c_tasa</th>\n",
       "      <th>v_conteo_geo</th>\n",
       "      <th>v_anio_2015</th>\n",
       "      <th>v_anio_2016</th>\n",
       "      <th>...</th>\n",
       "      <th>v_estado_Quintana Roo</th>\n",
       "      <th>v_estado_San Luis PotosÃ­</th>\n",
       "      <th>v_estado_Sinaloa</th>\n",
       "      <th>v_estado_Sonora</th>\n",
       "      <th>v_estado_Tabasco</th>\n",
       "      <th>v_estado_Tamaulipas</th>\n",
       "      <th>v_estado_Tlaxcala</th>\n",
       "      <th>v_estado_Veracruz de Ignacio de la Llave</th>\n",
       "      <th>v_estado_YucatÃ¡n</th>\n",
       "      <th>v_estado_Zacatecas</th>\n",
       "    </tr>\n",
       "  </thead>\n",
       "  <tbody>\n",
       "    <tr>\n",
       "      <th>0</th>\n",
       "      <td>19.417923</td>\n",
       "      <td>-99.148384</td>\n",
       "      <td>63.0</td>\n",
       "      <td>8918653</td>\n",
       "      <td>1495</td>\n",
       "      <td>5965.654181</td>\n",
       "      <td>0.102192</td>\n",
       "      <td>34.0</td>\n",
       "      <td>0</td>\n",
       "      <td>1</td>\n",
       "      <td>...</td>\n",
       "      <td>0</td>\n",
       "      <td>0</td>\n",
       "      <td>0</td>\n",
       "      <td>0</td>\n",
       "      <td>0</td>\n",
       "      <td>0</td>\n",
       "      <td>0</td>\n",
       "      <td>0</td>\n",
       "      <td>0</td>\n",
       "      <td>0</td>\n",
       "    </tr>\n",
       "    <tr>\n",
       "      <th>1</th>\n",
       "      <td>18.967873</td>\n",
       "      <td>-98.290262</td>\n",
       "      <td>184.0</td>\n",
       "      <td>3967889</td>\n",
       "      <td>93757</td>\n",
       "      <td>42.320989</td>\n",
       "      <td>0.102192</td>\n",
       "      <td>5.0</td>\n",
       "      <td>0</td>\n",
       "      <td>1</td>\n",
       "      <td>...</td>\n",
       "      <td>0</td>\n",
       "      <td>0</td>\n",
       "      <td>0</td>\n",
       "      <td>0</td>\n",
       "      <td>0</td>\n",
       "      <td>0</td>\n",
       "      <td>0</td>\n",
       "      <td>0</td>\n",
       "      <td>0</td>\n",
       "      <td>0</td>\n",
       "    </tr>\n",
       "    <tr>\n",
       "      <th>2</th>\n",
       "      <td>19.311177</td>\n",
       "      <td>-99.602480</td>\n",
       "      <td>120.0</td>\n",
       "      <td>16187608</td>\n",
       "      <td>22351</td>\n",
       "      <td>724.245358</td>\n",
       "      <td>0.102192</td>\n",
       "      <td>1.0</td>\n",
       "      <td>0</td>\n",
       "      <td>1</td>\n",
       "      <td>...</td>\n",
       "      <td>0</td>\n",
       "      <td>0</td>\n",
       "      <td>0</td>\n",
       "      <td>0</td>\n",
       "      <td>0</td>\n",
       "      <td>0</td>\n",
       "      <td>0</td>\n",
       "      <td>0</td>\n",
       "      <td>0</td>\n",
       "      <td>0</td>\n",
       "    </tr>\n",
       "    <tr>\n",
       "      <th>3</th>\n",
       "      <td>20.580246</td>\n",
       "      <td>-100.391907</td>\n",
       "      <td>0.0</td>\n",
       "      <td>6168883</td>\n",
       "      <td>34306</td>\n",
       "      <td>179.819361</td>\n",
       "      <td>0.102192</td>\n",
       "      <td>46.0</td>\n",
       "      <td>0</td>\n",
       "      <td>1</td>\n",
       "      <td>...</td>\n",
       "      <td>0</td>\n",
       "      <td>0</td>\n",
       "      <td>0</td>\n",
       "      <td>0</td>\n",
       "      <td>0</td>\n",
       "      <td>0</td>\n",
       "      <td>0</td>\n",
       "      <td>0</td>\n",
       "      <td>0</td>\n",
       "      <td>0</td>\n",
       "    </tr>\n",
       "    <tr>\n",
       "      <th>4</th>\n",
       "      <td>20.563862</td>\n",
       "      <td>-100.360016</td>\n",
       "      <td>340.0</td>\n",
       "      <td>6168883</td>\n",
       "      <td>34306</td>\n",
       "      <td>179.819361</td>\n",
       "      <td>0.103133</td>\n",
       "      <td>1.0</td>\n",
       "      <td>1</td>\n",
       "      <td>0</td>\n",
       "      <td>...</td>\n",
       "      <td>0</td>\n",
       "      <td>0</td>\n",
       "      <td>0</td>\n",
       "      <td>0</td>\n",
       "      <td>0</td>\n",
       "      <td>0</td>\n",
       "      <td>0</td>\n",
       "      <td>0</td>\n",
       "      <td>0</td>\n",
       "      <td>0</td>\n",
       "    </tr>\n",
       "  </tbody>\n",
       "</table>\n",
       "<p>5 rows × 84 columns</p>\n",
       "</div>"
      ],
      "text/plain": [
       "       c_lat       c_lon  c_surface_covered_in_m2  c_poblacion  c_superficie  \\\n",
       "0  19.417923  -99.148384                     63.0      8918653          1495   \n",
       "1  18.967873  -98.290262                    184.0      3967889         93757   \n",
       "2  19.311177  -99.602480                    120.0     16187608         22351   \n",
       "3  20.580246 -100.391907                      0.0      6168883         34306   \n",
       "4  20.563862 -100.360016                    340.0      6168883         34306   \n",
       "\n",
       "    c_densidad    c_tasa  v_conteo_geo  v_anio_2015  v_anio_2016  ...  \\\n",
       "0  5965.654181  0.102192          34.0            0            1  ...   \n",
       "1    42.320989  0.102192           5.0            0            1  ...   \n",
       "2   724.245358  0.102192           1.0            0            1  ...   \n",
       "3   179.819361  0.102192          46.0            0            1  ...   \n",
       "4   179.819361  0.103133           1.0            1            0  ...   \n",
       "\n",
       "   v_estado_Quintana Roo  v_estado_San Luis PotosÃ­  v_estado_Sinaloa  \\\n",
       "0                      0                          0                 0   \n",
       "1                      0                          0                 0   \n",
       "2                      0                          0                 0   \n",
       "3                      0                          0                 0   \n",
       "4                      0                          0                 0   \n",
       "\n",
       "   v_estado_Sonora  v_estado_Tabasco  v_estado_Tamaulipas  v_estado_Tlaxcala  \\\n",
       "0                0                 0                    0                  0   \n",
       "1                0                 0                    0                  0   \n",
       "2                0                 0                    0                  0   \n",
       "3                0                 0                    0                  0   \n",
       "4                0                 0                    0                  0   \n",
       "\n",
       "   v_estado_Veracruz de Ignacio de la Llave  v_estado_YucatÃ¡n  \\\n",
       "0                                         0                  0   \n",
       "1                                         0                  0   \n",
       "2                                         0                  0   \n",
       "3                                         0                  0   \n",
       "4                                         0                  0   \n",
       "\n",
       "   v_estado_Zacatecas  \n",
       "0                   0  \n",
       "1                   0  \n",
       "2                   0  \n",
       "3                   0  \n",
       "4                   0  \n",
       "\n",
       "[5 rows x 84 columns]"
      ]
     },
     "execution_count": 15,
     "metadata": {},
     "output_type": "execute_result"
    }
   ],
   "source": [
    "X_train.head()"
   ]
  },
  {
   "cell_type": "markdown",
   "metadata": {},
   "source": [
    "## Standar Scaler"
   ]
  },
  {
   "cell_type": "code",
   "execution_count": 16,
   "metadata": {},
   "outputs": [],
   "source": [
    "X_train_feat_scal = X_train.iloc[:, 0:8]\n",
    "X_test_feat_scal = X_test.iloc[:, 0:8]\n",
    "col_names = X_train.iloc[:, 0:8].columns"
   ]
  },
  {
   "cell_type": "code",
   "execution_count": 17,
   "metadata": {},
   "outputs": [],
   "source": [
    "from sklearn.preprocessing import StandardScaler\n",
    "\n",
    "ss = StandardScaler()\n",
    "# X scaler\n",
    "X_train_ss = ss.fit_transform(X_train_feat_scal)\n",
    "X_test_ss = ss.transform(X_test_feat_scal)"
   ]
  },
  {
   "cell_type": "code",
   "execution_count": 18,
   "metadata": {},
   "outputs": [],
   "source": [
    "## unión de conjunto de datos\n",
    "X_train_ss = pd.DataFrame(X_train_ss, columns = col_names).join(X_train.iloc[:, 8:])\n",
    "X_test_ss = pd.DataFrame(X_test_ss, columns = col_names).join(X_test.iloc[:, 8:])"
   ]
  },
  {
   "cell_type": "markdown",
   "metadata": {},
   "source": [
    "## Modelación"
   ]
  },
  {
   "cell_type": "markdown",
   "metadata": {},
   "source": [
    "### Métricas"
   ]
  },
  {
   "cell_type": "code",
   "execution_count": 19,
   "metadata": {},
   "outputs": [],
   "source": [
    "from sklearn.metrics import r2_score, mean_absolute_error, mean_squared_error\n",
    "\n",
    "def metricas(y_true, y_pred):\n",
    "    print('R2 Score: {}'.format(r2_score(y_true, y_pred)))\n",
    "    print('MAE: {}'.format(mean_absolute_error(y_true, y_pred)))\n",
    "    print('MSE: {}'.format(mean_squared_error(y_true, y_pred)))"
   ]
  },
  {
   "cell_type": "markdown",
   "metadata": {},
   "source": [
    "### Regresión Lineal"
   ]
  },
  {
   "cell_type": "code",
   "execution_count": 20,
   "metadata": {},
   "outputs": [
    {
     "data": {
      "text/plain": [
       "LinearRegression()"
      ]
     },
     "execution_count": 20,
     "metadata": {},
     "output_type": "execute_result"
    }
   ],
   "source": [
    "from sklearn.linear_model import LinearRegression\n",
    "\n",
    "lr = LinearRegression()\n",
    "lr.fit(X_train_ss, y_train)"
   ]
  },
  {
   "cell_type": "markdown",
   "metadata": {},
   "source": [
    "### Train Score"
   ]
  },
  {
   "cell_type": "code",
   "execution_count": 21,
   "metadata": {},
   "outputs": [
    {
     "name": "stdout",
     "output_type": "stream",
     "text": [
      "R2 Score: 0.5841014186922967\n",
      "MAE: 882842.1224537226\n",
      "MSE: 1569743371389.6697\n"
     ]
    }
   ],
   "source": [
    "y_pred_train = lr.predict(X_train_ss)\n",
    "metricas(y_train, y_pred_train)"
   ]
  },
  {
   "cell_type": "markdown",
   "metadata": {},
   "source": [
    "### Test Score"
   ]
  },
  {
   "cell_type": "code",
   "execution_count": 22,
   "metadata": {},
   "outputs": [],
   "source": [
    "y_pred = lr.predict(X_test_ss)"
   ]
  },
  {
   "cell_type": "code",
   "execution_count": 23,
   "metadata": {},
   "outputs": [
    {
     "data": {
      "image/png": "[encoded data removed]",
      "text/plain": [
       "<Figure size 432x288 with 1 Axes>"
      ]
     },
     "metadata": {
      "needs_background": "light"
     },
     "output_type": "display_data"
    }
   ],
   "source": [
    "plt.plot(np.arange(0, len(y_test)), y_test, color = 'red')\n",
    "plt.plot(np.arange(0, len(y_test)), y_pred, color = 'blue')\n",
    "plt.title('House Price')\n",
    "plt.xlabel('Observaciones')\n",
    "plt.ylabel('Precio Coche')\n",
    "plt.show()"
   ]
  },
  {
   "cell_type": "code",
   "execution_count": 24,
   "metadata": {},
   "outputs": [
    {
     "name": "stdout",
     "output_type": "stream",
     "text": [
      "R2 Score: 0.5923586008966145\n",
      "MAE: 885547.5356611644\n",
      "MSE: 1584337300623.42\n"
     ]
    }
   ],
   "source": [
    "metricas(y_test, y_pred)"
   ]
  },
  {
   "cell_type": "markdown",
   "metadata": {},
   "source": [
    "### Cross Validation"
   ]
  },
  {
   "cell_type": "code",
   "execution_count": 25,
   "metadata": {},
   "outputs": [],
   "source": [
    "from sklearn.model_selection import cross_val_score\n",
    "lr_cv_media = cross_val_score(lr, X_train_ss, y_train, cv = 4, n_jobs = -1)"
   ]
  },
  {
   "cell_type": "code",
   "execution_count": 26,
   "metadata": {},
   "outputs": [
    {
     "data": {
      "text/plain": [
       "(0.5833714832210424, 0.002291598542248398)"
      ]
     },
     "execution_count": 26,
     "metadata": {},
     "output_type": "execute_result"
    }
   ],
   "source": [
    "# cross validation score\n",
    "np.mean(lr_cv_media), np.std(lr_cv_media)"
   ]
  },
  {
   "cell_type": "markdown",
   "metadata": {},
   "source": [
    "### Hiperparametrización"
   ]
  },
  {
   "cell_type": "code",
   "execution_count": 27,
   "metadata": {},
   "outputs": [],
   "source": [
    "# se crea el grid de variables para el modelo de regresión\n",
    "param_grid_lr = {'fit_intercept': [True, False],\n",
    "                'positive': [True, False]}"
   ]
  },
  {
   "cell_type": "code",
   "execution_count": 28,
   "metadata": {},
   "outputs": [
    {
     "name": "stdout",
     "output_type": "stream",
     "text": [
      "Fitting 4 folds for each of 4 candidates, totalling 16 fits\n",
      "Best score: 0.5833714832210424\n"
     ]
    }
   ],
   "source": [
    "from sklearn.model_selection import GridSearchCV\n",
    "\n",
    "# modelo\n",
    "lr_cv = LinearRegression()\n",
    "\n",
    "# Grid Search\n",
    "lr_gs = GridSearchCV(lr_cv, param_grid_lr, cv=4, error_score=-1000, n_jobs=-1, scoring=\"r2\", verbose=5)\n",
    "lr_gs.fit(X_train_ss, y_train)\n",
    "print(\"Best score: \" + str(lr_gs.best_score_))"
   ]
  },
  {
   "cell_type": "code",
   "execution_count": 29,
   "metadata": {},
   "outputs": [],
   "source": [
    "lr_best = lr_gs.best_estimator_"
   ]
  },
  {
   "cell_type": "markdown",
   "metadata": {},
   "source": [
    "### Train & Test Score"
   ]
  },
  {
   "cell_type": "code",
   "execution_count": 30,
   "metadata": {},
   "outputs": [],
   "source": [
    "y_pred_train_best = lr_best.predict(X_train_ss)\n",
    "y_pred_test_best = lr_best.predict(X_test_ss)"
   ]
  },
  {
   "cell_type": "code",
   "execution_count": 31,
   "metadata": {},
   "outputs": [
    {
     "name": "stdout",
     "output_type": "stream",
     "text": [
      "Train Score\n",
      "R2 Score: 0.5841014186922967\n",
      "MAE: 882842.1224537226\n",
      "MSE: 1569743371389.6697\n",
      "\n",
      "Test Score\n",
      "R2 Score: 0.5923586008966145\n",
      "MAE: 885547.5356611644\n",
      "MSE: 1584337300623.42\n"
     ]
    }
   ],
   "source": [
    "print('Train Score')\n",
    "metricas(y_train, y_pred_train)\n",
    "print('')\n",
    "print('Test Score')\n",
    "metricas(y_test, y_pred_test_best)"
   ]
  },
  {
   "cell_type": "markdown",
   "metadata": {},
   "source": [
    "## LightGBM"
   ]
  },
  {
   "cell_type": "code",
   "execution_count": 32,
   "metadata": {},
   "outputs": [],
   "source": [
    "import lightgbm as lgb"
   ]
  },
  {
   "cell_type": "code",
   "execution_count": 33,
   "metadata": {},
   "outputs": [],
   "source": [
    "params = {'task': 'train',\n",
    "    'boosting_type': 'gbdt',\n",
    "    'objective': 'regression',\n",
    "    'metric': 'mse',\n",
    "    'learning_rate': 0.1,\n",
    "    'num_iterations': 10000,\n",
    "    'num_threads': 8,      \n",
    "    'max_depth': 30,\n",
    "    'num_leaves': 31,\n",
    "    'feature_fraction': 1,\n",
    "    'bagging_fraction': 1,\n",
    "    'bagging_freq': 17}"
   ]
  },
  {
   "cell_type": "code",
   "execution_count": 34,
   "metadata": {},
   "outputs": [],
   "source": [
    "y_train_lgb = pd.Series(y_train.reshape(y_train.shape[0]))"
   ]
  },
  {
   "cell_type": "code",
   "execution_count": 35,
   "metadata": {},
   "outputs": [
    {
     "name": "stderr",
     "output_type": "stream",
     "text": [
      "/home/edco17/anaconda3/envs/tf15/lib/python3.7/site-packages/lightgbm/engine.py:151: UserWarning: Found `num_iterations` in params. Will use it instead of argument\n",
      "  warnings.warn(\"Found `{}` in params. Will use it instead of argument\".format(alias))\n"
     ]
    },
    {
     "name": "stdout",
     "output_type": "stream",
     "text": [
      "[LightGBM] [Warning] Accuracy may be bad since you didn't explicitly set num_leaves OR 2^max_depth > num_leaves. (num_leaves=31).\n",
      "[LightGBM] [Warning] Find whitespaces in feature_names, replace with underlines\n",
      "[LightGBM] [Warning] Accuracy may be bad since you didn't explicitly set num_leaves OR 2^max_depth > num_leaves. (num_leaves=31).\n",
      "[LightGBM] [Warning] Auto-choosing row-wise multi-threading, the overhead of testing was 0.003542 seconds.\n",
      "You can set `force_row_wise=true` to remove the overhead.\n",
      "And if memory is not enough, you can set `force_col_wise=true`.\n",
      "[LightGBM] [Info] Total Bins 1371\n",
      "[LightGBM] [Info] Number of data points in the train set: 100547, number of used features: 80\n",
      "[LightGBM] [Info] Start training from score 1911144.507255\n"
     ]
    }
   ],
   "source": [
    "data_lgb = lgb.Dataset(X_train_ss, y_train_lgb)\n",
    "model_gbm = lgb.train(params, data_lgb)"
   ]
  },
  {
   "cell_type": "code",
   "execution_count": 36,
   "metadata": {},
   "outputs": [],
   "source": [
    "y_pred_train_best = model_gbm.predict(X_train_ss)\n",
    "y_pred_test_best = model_gbm.predict(X_test_ss)"
   ]
  },
  {
   "cell_type": "code",
   "execution_count": 37,
   "metadata": {},
   "outputs": [
    {
     "name": "stdout",
     "output_type": "stream",
     "text": [
      "Train Score\n",
      "R2 Score: 0.5841014186922967\n",
      "MAE: 882842.1224537226\n",
      "MSE: 1569743371389.6697\n",
      "\n",
      "Test Score\n",
      "R2 Score: 0.8385323030213345\n",
      "MAE: 449474.32798055874\n",
      "MSE: 627559653488.9203\n"
     ]
    }
   ],
   "source": [
    "print('Train Score')\n",
    "metricas(y_train, y_pred_train)\n",
    "print('')\n",
    "print('Test Score')\n",
    "metricas(y_test, y_pred_test_best)"
   ]
  },
  {
   "cell_type": "markdown",
   "metadata": {},
   "source": [
    "### Regularización"
   ]
  },
  {
   "cell_type": "markdown",
   "metadata": {},
   "source": [
    "## LASSO"
   ]
  },
  {
   "cell_type": "code",
   "execution_count": 38,
   "metadata": {
    "scrolled": true
   },
   "outputs": [
    {
     "name": "stderr",
     "output_type": "stream",
     "text": [
      "/home/edco17/anaconda3/envs/tf15/lib/python3.7/site-packages/sklearn/linear_model/_coordinate_descent.py:532: ConvergenceWarning: Objective did not converge. You might want to increase the number of iterations. Duality gap: 3.315731648209344e+16, tolerance: 37949873805014.04\n",
      "  positive)\n"
     ]
    },
    {
     "data": {
      "text/plain": [
       "Lasso(alpha=0.0001)"
      ]
     },
     "execution_count": 38,
     "metadata": {},
     "output_type": "execute_result"
    }
   ],
   "source": [
    "from sklearn.linear_model import Lasso\n",
    "\n",
    "lasso=Lasso(alpha = 0.0001)\n",
    "lasso.fit(X_train_ss,y_train)"
   ]
  },
  {
   "cell_type": "markdown",
   "metadata": {},
   "source": [
    "### Train Score"
   ]
  },
  {
   "cell_type": "code",
   "execution_count": 39,
   "metadata": {},
   "outputs": [
    {
     "name": "stdout",
     "output_type": "stream",
     "text": [
      "R2 Score: 0.5841014186922967\n",
      "MAE: 882842.1224537226\n",
      "MSE: 1569743371389.6697\n"
     ]
    }
   ],
   "source": [
    "y_pred_train_lasso = lasso.predict(X_train_ss)\n",
    "metricas(y_train, y_pred_train)"
   ]
  },
  {
   "cell_type": "markdown",
   "metadata": {},
   "source": [
    "### Test Score"
   ]
  },
  {
   "cell_type": "code",
   "execution_count": 40,
   "metadata": {},
   "outputs": [],
   "source": [
    "y_pred = lasso.predict(X_test_ss)"
   ]
  },
  {
   "cell_type": "code",
   "execution_count": 41,
   "metadata": {},
   "outputs": [
    {
     "data": {
      "image/png": "[encoded data removed]",
      "text/plain": [
       "<Figure size 432x288 with 1 Axes>"
      ]
     },
     "metadata": {
      "needs_background": "light"
     },
     "output_type": "display_data"
    }
   ],
   "source": [
    "plt.plot(np.arange(0, len(y_test)), y_test, color = 'red')\n",
    "plt.plot(np.arange(0, len(y_test)), y_pred, color = 'blue')\n",
    "plt.title('House Price')\n",
    "plt.xlabel('Observaciones')\n",
    "plt.ylabel('Precio Coche')\n",
    "plt.show()"
   ]
  },
  {
   "cell_type": "code",
   "execution_count": 42,
   "metadata": {},
   "outputs": [
    {
     "name": "stdout",
     "output_type": "stream",
     "text": [
      "R2 Score: 0.592358600942496\n",
      "MAE: 885547.5350350218\n",
      "MSE: 1584337300445.097\n"
     ]
    }
   ],
   "source": [
    "metricas(y_test, y_pred)"
   ]
  },
  {
   "cell_type": "markdown",
   "metadata": {},
   "source": [
    "### Cross Validation"
   ]
  },
  {
   "cell_type": "code",
   "execution_count": 43,
   "metadata": {},
   "outputs": [
    {
     "data": {
      "text/plain": [
       "(0.5833714832210424, 0.002291598542248398)"
      ]
     },
     "execution_count": 43,
     "metadata": {},
     "output_type": "execute_result"
    }
   ],
   "source": [
    "lasso_cv_media = cross_val_score(lasso, X_train_ss, y_train, cv = 4, n_jobs = -1)\n",
    "# cross validation score\n",
    "np.mean(lr_cv_media), np.std(lr_cv_media)"
   ]
  },
  {
   "cell_type": "markdown",
   "metadata": {},
   "source": [
    "### Hiperparametrización"
   ]
  },
  {
   "cell_type": "code",
   "execution_count": 44,
   "metadata": {},
   "outputs": [
    {
     "name": "stdout",
     "output_type": "stream",
     "text": [
      "Fitting 4 folds for each of 10 candidates, totalling 40 fits\n",
      "Best score: 0.583264161240994\n"
     ]
    }
   ],
   "source": [
    "from sklearn.model_selection import RandomizedSearchCV\n",
    "\n",
    "# modelo\n",
    "lasso_cv = Lasso()\n",
    "\n",
    "# se crea el grid de variables para el modelo lasso\n",
    "param_grid_lasso = {'alpha': np.linspace(0.0001, 100, 10),\n",
    "                'fit_intercept': [True, False],\n",
    "                'warm_start': [True, False],\n",
    "                'tol': [0.00001, 0.0000001, 0.01],\n",
    "                'positive': [True, False]}\n",
    "\n",
    "# Grid Search\n",
    "lasso_gs = RandomizedSearchCV(lasso_cv, param_grid_lasso, cv=4, error_score=-1000, n_jobs=-1,\n",
    "                              scoring=\"r2\", verbose=5)\n",
    "lasso_gs.fit(X_train_ss, y_train)\n",
    "print(\"Best score: \" + str(lasso_gs.best_score_))"
   ]
  },
  {
   "cell_type": "code",
   "execution_count": 45,
   "metadata": {},
   "outputs": [],
   "source": [
    "lasso_best = lasso_gs.best_estimator_"
   ]
  },
  {
   "cell_type": "markdown",
   "metadata": {},
   "source": [
    "### Train & Test Score"
   ]
  },
  {
   "cell_type": "code",
   "execution_count": 46,
   "metadata": {},
   "outputs": [],
   "source": [
    "y_pred_train_best = lasso_best.predict(X_train_ss)\n",
    "y_pred_test_best = lasso_best.predict(X_test_ss)"
   ]
  },
  {
   "cell_type": "code",
   "execution_count": 47,
   "metadata": {},
   "outputs": [
    {
     "name": "stdout",
     "output_type": "stream",
     "text": [
      "Train Score\n",
      "R2 Score: 0.5841014186922967\n",
      "MAE: 882842.1224537226\n",
      "MSE: 1569743371389.6697\n",
      "\n",
      "Test Score\n",
      "R2 Score: 0.5921594262574097\n",
      "MAE: 885654.3903906788\n",
      "MSE: 1585111411915.66\n"
     ]
    }
   ],
   "source": [
    "print('Train Score')\n",
    "metricas(y_train, y_pred_train)\n",
    "print('')\n",
    "print('Test Score')\n",
    "metricas(y_test, y_pred_test_best)"
   ]
  },
  {
   "cell_type": "markdown",
   "metadata": {},
   "source": [
    "## Ridge"
   ]
  },
  {
   "cell_type": "code",
   "execution_count": 48,
   "metadata": {},
   "outputs": [
    {
     "data": {
      "text/plain": [
       "Ridge(alpha=0.014)"
      ]
     },
     "execution_count": 48,
     "metadata": {},
     "output_type": "execute_result"
    }
   ],
   "source": [
    "from sklearn.linear_model import Ridge\n",
    "\n",
    "ridge=Ridge(alpha = 0.014)\n",
    "ridge.fit(X_train_ss,y_train)"
   ]
  },
  {
   "cell_type": "markdown",
   "metadata": {},
   "source": [
    "### Train Score"
   ]
  },
  {
   "cell_type": "code",
   "execution_count": 49,
   "metadata": {},
   "outputs": [
    {
     "name": "stdout",
     "output_type": "stream",
     "text": [
      "R2 Score: 0.5841014114616894\n",
      "MAE: 882841.7487822648\n",
      "MSE: 1569743398680.4524\n"
     ]
    }
   ],
   "source": [
    "y_pred_train = ridge.predict(X_train_ss)\n",
    "metricas(y_train, y_pred_train)"
   ]
  },
  {
   "cell_type": "markdown",
   "metadata": {},
   "source": [
    "### Test Score"
   ]
  },
  {
   "cell_type": "code",
   "execution_count": 50,
   "metadata": {},
   "outputs": [],
   "source": [
    "y_pred = ridge.predict(X_test_ss)"
   ]
  },
  {
   "cell_type": "code",
   "execution_count": 51,
   "metadata": {},
   "outputs": [
    {
     "data": {
      "image/png": "[encoded data removed]",
      "text/plain": [
       "<Figure size 432x288 with 1 Axes>"
      ]
     },
     "metadata": {
      "needs_background": "light"
     },
     "output_type": "display_data"
    }
   ],
   "source": [
    "plt.plot(np.arange(0, len(y_test)), y_test, color = 'red')\n",
    "plt.plot(np.arange(0, len(y_test)), y_pred, color = 'blue')\n",
    "plt.title('House Price')\n",
    "plt.xlabel('Observaciones')\n",
    "plt.ylabel('Precio Coche')\n",
    "plt.show()"
   ]
  },
  {
   "cell_type": "code",
   "execution_count": 52,
   "metadata": {},
   "outputs": [
    {
     "name": "stdout",
     "output_type": "stream",
     "text": [
      "R2 Score: 0.5923590717268183\n",
      "MAE: 885545.7381301029\n",
      "MSE: 1584335470696.784\n"
     ]
    }
   ],
   "source": [
    "metricas(y_test, y_pred)"
   ]
  },
  {
   "cell_type": "markdown",
   "metadata": {},
   "source": [
    "### Cross Validation"
   ]
  },
  {
   "cell_type": "code",
   "execution_count": 53,
   "metadata": {},
   "outputs": [
    {
     "data": {
      "text/plain": [
       "(0.583372769348278, 0.0022957588979110187)"
      ]
     },
     "execution_count": 53,
     "metadata": {},
     "output_type": "execute_result"
    }
   ],
   "source": [
    "ridge_cv_media = cross_val_score(ridge, X_train_ss, y_train, cv = 4, n_jobs = -1)\n",
    "# cross validation score\n",
    "np.mean(ridge_cv_media), np.std(ridge_cv_media)"
   ]
  },
  {
   "cell_type": "markdown",
   "metadata": {},
   "source": [
    "### Hiperparametrización"
   ]
  },
  {
   "cell_type": "code",
   "execution_count": 54,
   "metadata": {},
   "outputs": [
    {
     "name": "stdout",
     "output_type": "stream",
     "text": [
      "Fitting 4 folds for each of 10 candidates, totalling 40 fits\n",
      "Best score: 0.5833580302778072\n"
     ]
    }
   ],
   "source": [
    "# modelo\n",
    "ridge_cv = Ridge()\n",
    "\n",
    "# se crea el grid de variables para el modelo lasso\n",
    "param_grid_ridge = {'alpha': np.linspace(0.001, 10.0, 10),\n",
    "                'fit_intercept': [True, False],\n",
    "                'tol': [0.00001, 0.0000001, 0.01],\n",
    "                'solver': ['auto', 'svd', 'cholesky', 'lsqr', 'sparse_cg', 'sag', 'saga']}\n",
    "\n",
    "# Grid Search\n",
    "ridge_gs = RandomizedSearchCV(ridge_cv, param_grid_ridge, cv=4, error_score=-1000, n_jobs=-1,\n",
    "                              scoring=\"r2\", verbose=5)\n",
    "ridge_gs.fit(X_train_ss, y_train)\n",
    "print(\"Best score: \" + str(ridge_gs.best_score_))"
   ]
  },
  {
   "cell_type": "code",
   "execution_count": 55,
   "metadata": {},
   "outputs": [],
   "source": [
    "ridge_best = ridge_gs.best_estimator_"
   ]
  },
  {
   "cell_type": "markdown",
   "metadata": {},
   "source": [
    "### Train & Test Score"
   ]
  },
  {
   "cell_type": "code",
   "execution_count": 56,
   "metadata": {},
   "outputs": [],
   "source": [
    "y_pred_train_best = ridge_best.predict(X_train_ss)\n",
    "y_pred_test_best = ridge_best.predict(X_test_ss)"
   ]
  },
  {
   "cell_type": "code",
   "execution_count": 57,
   "metadata": {},
   "outputs": [
    {
     "name": "stdout",
     "output_type": "stream",
     "text": [
      "Train Score\n",
      "R2 Score: 0.5841014114616894\n",
      "MAE: 882841.7487822648\n",
      "MSE: 1569743398680.4524\n",
      "\n",
      "Test Score\n",
      "R2 Score: 0.592314029206558\n",
      "MAE: 885568.054602352\n",
      "MSE: 1584510532761.4307\n"
     ]
    }
   ],
   "source": [
    "print('Train Score')\n",
    "metricas(y_train, y_pred_train)\n",
    "print('')\n",
    "print('Test Score')\n",
    "metricas(y_test, y_pred_test_best)"
   ]
  },
  {
   "cell_type": "markdown",
   "metadata": {},
   "source": [
    "## Elastic Net"
   ]
  },
  {
   "cell_type": "code",
   "execution_count": 58,
   "metadata": {},
   "outputs": [
    {
     "name": "stderr",
     "output_type": "stream",
     "text": [
      "/home/edco17/anaconda3/envs/tf15/lib/python3.7/site-packages/sklearn/linear_model/_coordinate_descent.py:532: ConvergenceWarning: Objective did not converge. You might want to increase the number of iterations. Duality gap: 7.891720061658434e+16, tolerance: 37949873805014.04\n",
      "  positive)\n"
     ]
    },
    {
     "data": {
      "text/plain": [
       "ElasticNet(alpha=1e-06)"
      ]
     },
     "execution_count": 58,
     "metadata": {},
     "output_type": "execute_result"
    }
   ],
   "source": [
    "from sklearn.linear_model import ElasticNet\n",
    "elastic=ElasticNet(alpha=0.000001)\n",
    "\n",
    "elastic.fit(X_train_ss,y_train)"
   ]
  },
  {
   "cell_type": "markdown",
   "metadata": {},
   "source": [
    "### Train Score"
   ]
  },
  {
   "cell_type": "code",
   "execution_count": 59,
   "metadata": {},
   "outputs": [
    {
     "name": "stdout",
     "output_type": "stream",
     "text": [
      "R2 Score: 0.5841013286517951\n",
      "MAE: 882840.7750821285\n",
      "MSE: 1569743711233.2922\n"
     ]
    }
   ],
   "source": [
    "y_pred_train = elastic.predict(X_train_ss)\n",
    "metricas(y_train, y_pred_train)"
   ]
  },
  {
   "cell_type": "markdown",
   "metadata": {},
   "source": [
    "### Test Score"
   ]
  },
  {
   "cell_type": "code",
   "execution_count": 60,
   "metadata": {},
   "outputs": [],
   "source": [
    "y_pred = elastic.predict(X_test_ss)"
   ]
  },
  {
   "cell_type": "code",
   "execution_count": 61,
   "metadata": {},
   "outputs": [
    {
     "data": {
      "image/png": "[encoded data removed]",
      "text/plain": [
       "<Figure size 432x288 with 1 Axes>"
      ]
     },
     "metadata": {
      "needs_background": "light"
     },
     "output_type": "display_data"
    }
   ],
   "source": [
    "plt.plot(np.arange(0, len(y_test)), y_test, color = 'red')\n",
    "plt.plot(np.arange(0, len(y_test)), y_pred, color = 'blue')\n",
    "plt.title('House Price')\n",
    "plt.xlabel('Observaciones')\n",
    "plt.ylabel('Precio Coche')\n",
    "plt.show()"
   ]
  },
  {
   "cell_type": "code",
   "execution_count": 62,
   "metadata": {},
   "outputs": [
    {
     "name": "stdout",
     "output_type": "stream",
     "text": [
      "R2 Score: 0.5923601391915818\n",
      "MAE: 885541.1381025318\n",
      "MSE: 1584331321892.8455\n"
     ]
    }
   ],
   "source": [
    "metricas(y_test, y_pred)"
   ]
  },
  {
   "cell_type": "markdown",
   "metadata": {},
   "source": [
    "### Cross Validation"
   ]
  },
  {
   "cell_type": "code",
   "execution_count": 63,
   "metadata": {},
   "outputs": [
    {
     "data": {
      "text/plain": [
       "(0.5833747396973621, 0.002302385307040787)"
      ]
     },
     "execution_count": 63,
     "metadata": {},
     "output_type": "execute_result"
    }
   ],
   "source": [
    "elastic_cv_media = cross_val_score(elastic, X_train_ss, y_train, cv = 4, n_jobs = -1)\n",
    "# cross validation score\n",
    "np.mean(elastic_cv_media), np.std(elastic_cv_media)"
   ]
  },
  {
   "cell_type": "markdown",
   "metadata": {},
   "source": [
    "### Hiperparametrización"
   ]
  },
  {
   "cell_type": "code",
   "execution_count": 64,
   "metadata": {},
   "outputs": [
    {
     "name": "stdout",
     "output_type": "stream",
     "text": [
      "Fitting 4 folds for each of 10 candidates, totalling 40 fits\n",
      "Best score: 0.5832509677894775\n"
     ]
    },
    {
     "name": "stderr",
     "output_type": "stream",
     "text": [
      "/home/edco17/anaconda3/envs/tf15/lib/python3.7/site-packages/sklearn/linear_model/_coordinate_descent.py:532: ConvergenceWarning: Objective did not converge. You might want to increase the number of iterations. Duality gap: 7.91449611777949e+16, tolerance: 37949873805.01403\n",
      "  positive)\n"
     ]
    }
   ],
   "source": [
    "# modelo\n",
    "elastic_cv = ElasticNet()\n",
    "\n",
    "# se crea el grid de variables para el modelo lasso\n",
    "param_grid_elastic = {'alpha': np.linspace(0.001, 10.0, 10),\n",
    "                    'l1_ratio': np.linspace(0.001, 1, 10),\n",
    "                    'fit_intercept': [True, False],\n",
    "                    'tol': [0.00001, 0.0000001, 0.01],\n",
    "                    'warm_start': [True, False]}\n",
    "\n",
    "# Grid Search\n",
    "elastic_gs = RandomizedSearchCV(elastic_cv, param_grid_elastic, cv=4, error_score=-1000, n_jobs=-1,\n",
    "                              scoring=\"r2\", verbose=5)\n",
    "elastic_gs.fit(X_train_ss, y_train)\n",
    "print(\"Best score: \" + str(elastic_gs.best_score_))"
   ]
  },
  {
   "cell_type": "code",
   "execution_count": 65,
   "metadata": {},
   "outputs": [],
   "source": [
    "elastic_best = elastic_gs.best_estimator_"
   ]
  },
  {
   "cell_type": "markdown",
   "metadata": {},
   "source": [
    "### Train & Test Score"
   ]
  },
  {
   "cell_type": "code",
   "execution_count": 66,
   "metadata": {},
   "outputs": [],
   "source": [
    "y_pred_train_best = elastic_best.predict(X_train_ss)\n",
    "y_pred_test_best = elastic_best.predict(X_test_ss)"
   ]
  },
  {
   "cell_type": "code",
   "execution_count": 67,
   "metadata": {},
   "outputs": [
    {
     "name": "stdout",
     "output_type": "stream",
     "text": [
      "Train Score\n",
      "R2 Score: 0.5841013286517951\n",
      "MAE: 882840.7750821285\n",
      "MSE: 1569743711233.2922\n",
      "\n",
      "Test Score\n",
      "R2 Score: 0.5920795393897836\n",
      "MAE: 885366.3218317628\n",
      "MSE: 1585421899870.24\n"
     ]
    }
   ],
   "source": [
    "print('Train Score')\n",
    "metricas(y_train, y_pred_train)\n",
    "print('')\n",
    "print('Test Score')\n",
    "metricas(y_test, y_pred_test_best)"
   ]
  },
  {
   "cell_type": "markdown",
   "metadata": {},
   "source": [
    "## LARS"
   ]
  },
  {
   "cell_type": "code",
   "execution_count": 68,
   "metadata": {},
   "outputs": [
    {
     "name": "stderr",
     "output_type": "stream",
     "text": [
      "/home/edco17/anaconda3/envs/tf15/lib/python3.7/site-packages/sklearn/linear_model/_least_angle.py:622: ConvergenceWarning: Regressors in active set degenerate. Dropping a regressor, after 103 iterations, i.e. alpha=7.003e+09, with an active set of 83 regressors, and the smallest cholesky pivot element being 6.144e-08. Reduce max_iter or increase eps parameters.\n",
      "  ConvergenceWarning)\n"
     ]
    },
    {
     "data": {
      "text/plain": [
       "Lars()"
      ]
     },
     "execution_count": 68,
     "metadata": {},
     "output_type": "execute_result"
    }
   ],
   "source": [
    "from sklearn.linear_model import Lars\n",
    "\n",
    "lars=Lars()\n",
    "lars.fit(X_train_ss, y_train)"
   ]
  },
  {
   "cell_type": "markdown",
   "metadata": {},
   "source": [
    "### Train Score"
   ]
  },
  {
   "cell_type": "code",
   "execution_count": 69,
   "metadata": {},
   "outputs": [
    {
     "name": "stdout",
     "output_type": "stream",
     "text": [
      "R2 Score: -1.220816628974507e+21\n",
      "MAE: 5530038172417065.0\n",
      "MSE: 4.6077791489199266e+33\n"
     ]
    }
   ],
   "source": [
    "metricas(y_train, lars.predict(X_train_ss))"
   ]
  },
  {
   "cell_type": "markdown",
   "metadata": {},
   "source": [
    "### Test Score"
   ]
  },
  {
   "cell_type": "code",
   "execution_count": 70,
   "metadata": {},
   "outputs": [],
   "source": [
    "y_pred = lars.predict(X_test_ss)"
   ]
  },
  {
   "cell_type": "code",
   "execution_count": 71,
   "metadata": {},
   "outputs": [
    {
     "data": {
      "image/png": "[encoded data removed]",
      "text/plain": [
       "<Figure size 432x288 with 1 Axes>"
      ]
     },
     "metadata": {
      "needs_background": "light"
     },
     "output_type": "display_data"
    }
   ],
   "source": [
    "plt.plot(np.arange(0, len(y_test)), y_test, color = 'red')\n",
    "plt.plot(np.arange(0, len(y_test)), y_pred, color = 'blue')\n",
    "plt.title('House Price')\n",
    "plt.xlabel('Observaciones')\n",
    "plt.ylabel('Precio Coche')\n",
    "plt.show()"
   ]
  },
  {
   "cell_type": "code",
   "execution_count": 72,
   "metadata": {},
   "outputs": [
    {
     "name": "stdout",
     "output_type": "stream",
     "text": [
      "R2 Score: -3.5724103188414307e+20\n",
      "MAE: 5018066506329358.0\n",
      "MSE: 1.3884514511336533e+33\n"
     ]
    }
   ],
   "source": [
    "metricas(y_test, y_pred)"
   ]
  },
  {
   "cell_type": "markdown",
   "metadata": {},
   "source": [
    "### Cross Validation"
   ]
  },
  {
   "cell_type": "code",
   "execution_count": 73,
   "metadata": {},
   "outputs": [
    {
     "data": {
      "text/plain": [
       "(-3.504151327485039e+17, 6.000254679046812e+17)"
      ]
     },
     "execution_count": 73,
     "metadata": {},
     "output_type": "execute_result"
    }
   ],
   "source": [
    "lars_cv_media = cross_val_score(lars, X_train_ss, y_train, cv = 4, n_jobs = -1)\n",
    "# cross validation score\n",
    "np.mean(lars_cv_media), np.std(lars_cv_media)"
   ]
  },
  {
   "cell_type": "markdown",
   "metadata": {},
   "source": [
    "### Hiperparametrización"
   ]
  },
  {
   "cell_type": "code",
   "execution_count": 74,
   "metadata": {},
   "outputs": [
    {
     "name": "stdout",
     "output_type": "stream",
     "text": [
      "Fitting 4 folds for each of 2 candidates, totalling 8 fits\n",
      "Best score: -3.504151327485039e+17\n"
     ]
    },
    {
     "name": "stderr",
     "output_type": "stream",
     "text": [
      "/home/edco17/anaconda3/envs/tf15/lib/python3.7/site-packages/sklearn/linear_model/_least_angle.py:622: ConvergenceWarning: Regressors in active set degenerate. Dropping a regressor, after 103 iterations, i.e. alpha=7.003e+09, with an active set of 83 regressors, and the smallest cholesky pivot element being 6.144e-08. Reduce max_iter or increase eps parameters.\n",
      "  ConvergenceWarning)\n"
     ]
    }
   ],
   "source": [
    "# modelo\n",
    "lars_cv = Lars()\n",
    "\n",
    "# se crea el grid de variables para el modelo lasso\n",
    "param_grid_lars = {'fit_intercept': [True, False]}\n",
    "\n",
    "# Grid Search\n",
    "lars_gs = GridSearchCV(lars_cv, param_grid_lars, cv=4, error_score=-1000, n_jobs=-1,\n",
    "                          scoring=\"r2\", verbose=5)\n",
    "\n",
    "lars_gs.fit(X_train_ss, y_train)\n",
    "print(\"Best score: \" + str(lars_gs.best_score_))"
   ]
  },
  {
   "cell_type": "code",
   "execution_count": 75,
   "metadata": {},
   "outputs": [],
   "source": [
    "lars_best = lars_gs.best_estimator_"
   ]
  },
  {
   "cell_type": "markdown",
   "metadata": {},
   "source": [
    "### Train & Test Score"
   ]
  },
  {
   "cell_type": "code",
   "execution_count": 76,
   "metadata": {},
   "outputs": [],
   "source": [
    "y_pred_train_best = lars_best.predict(X_train_ss)\n",
    "y_pred_test_best = lars_best.predict(X_test_ss)"
   ]
  },
  {
   "cell_type": "code",
   "execution_count": 77,
   "metadata": {},
   "outputs": [
    {
     "name": "stdout",
     "output_type": "stream",
     "text": [
      "Train Score\n",
      "R2 Score: 0.5841013286517951\n",
      "MAE: 882840.7750821285\n",
      "MSE: 1569743711233.2922\n",
      "\n",
      "Test Score\n",
      "R2 Score: -3.5724103188414307e+20\n",
      "MAE: 5018066506329358.0\n",
      "MSE: 1.3884514511336533e+33\n"
     ]
    }
   ],
   "source": [
    "print('Train Score')\n",
    "metricas(y_train, y_pred_train)\n",
    "print('')\n",
    "print('Test Score')\n",
    "metricas(y_test, y_pred_test_best)"
   ]
  },
  {
   "cell_type": "markdown",
   "metadata": {},
   "source": [
    "## Bayesian"
   ]
  },
  {
   "cell_type": "code",
   "execution_count": 78,
   "metadata": {},
   "outputs": [
    {
     "name": "stderr",
     "output_type": "stream",
     "text": [
      "/home/edco17/anaconda3/envs/tf15/lib/python3.7/site-packages/sklearn/utils/validation.py:63: DataConversionWarning: A column-vector y was passed when a 1d array was expected. Please change the shape of y to (n_samples, ), for example using ravel().\n",
      "  return f(*args, **kwargs)\n"
     ]
    },
    {
     "data": {
      "text/plain": [
       "BayesianRidge()"
      ]
     },
     "execution_count": 78,
     "metadata": {},
     "output_type": "execute_result"
    }
   ],
   "source": [
    "from sklearn.linear_model import BayesianRidge\n",
    "\n",
    "bayes = BayesianRidge()\n",
    "bayes.fit(X_train_ss, y_train)"
   ]
  },
  {
   "cell_type": "markdown",
   "metadata": {},
   "source": [
    "### Train Score"
   ]
  },
  {
   "cell_type": "code",
   "execution_count": 79,
   "metadata": {},
   "outputs": [
    {
     "name": "stdout",
     "output_type": "stream",
     "text": [
      "R2 Score: 0.5839897371097458\n",
      "MAE: 882750.8451157273\n",
      "MSE: 1570164895847.3018\n"
     ]
    }
   ],
   "source": [
    "metricas(y_train, bayes.predict(X_train_ss))"
   ]
  },
  {
   "cell_type": "markdown",
   "metadata": {},
   "source": [
    "### Test Score"
   ]
  },
  {
   "cell_type": "code",
   "execution_count": 80,
   "metadata": {},
   "outputs": [],
   "source": [
    "y_pred = bayes.predict(X_test_ss)"
   ]
  },
  {
   "cell_type": "code",
   "execution_count": 81,
   "metadata": {},
   "outputs": [
    {
     "data": {
      "image/png": "[encoded data removed]",
      "text/plain": [
       "<Figure size 432x288 with 1 Axes>"
      ]
     },
     "metadata": {
      "needs_background": "light"
     },
     "output_type": "display_data"
    }
   ],
   "source": [
    "plt.plot(np.arange(0, len(y_test)), y_test, color = 'red')\n",
    "plt.plot(np.arange(0, len(y_test)), y_pred, color = 'blue')\n",
    "plt.title('House Price')\n",
    "plt.xlabel('Observaciones')\n",
    "plt.ylabel('Precio Coche')\n",
    "plt.show()"
   ]
  },
  {
   "cell_type": "code",
   "execution_count": 82,
   "metadata": {},
   "outputs": [
    {
     "name": "stdout",
     "output_type": "stream",
     "text": [
      "R2 Score: 0.5922114136611781\n",
      "MAE: 885555.5608142717\n",
      "MSE: 1584909357896.7744\n"
     ]
    }
   ],
   "source": [
    "metricas(y_test, y_pred)"
   ]
  },
  {
   "cell_type": "markdown",
   "metadata": {},
   "source": [
    "### Cross Validation"
   ]
  },
  {
   "cell_type": "code",
   "execution_count": 83,
   "metadata": {},
   "outputs": [
    {
     "data": {
      "text/plain": [
       "(0.5833127956660633, 0.0024424491606427705)"
      ]
     },
     "execution_count": 83,
     "metadata": {},
     "output_type": "execute_result"
    }
   ],
   "source": [
    "bayes_cv_media = cross_val_score(bayes, X_train_ss, y_train, cv = 4, n_jobs = -1)\n",
    "# cross validation score\n",
    "np.mean(bayes_cv_media), np.std(bayes_cv_media)"
   ]
  },
  {
   "cell_type": "markdown",
   "metadata": {},
   "source": [
    "### Hiperparametrización"
   ]
  },
  {
   "cell_type": "code",
   "execution_count": 84,
   "metadata": {},
   "outputs": [
    {
     "name": "stdout",
     "output_type": "stream",
     "text": [
      "Fitting 4 folds for each of 10 candidates, totalling 40 fits\n"
     ]
    },
    {
     "name": "stderr",
     "output_type": "stream",
     "text": [
      "/home/edco17/anaconda3/envs/tf15/lib/python3.7/site-packages/sklearn/utils/validation.py:63: DataConversionWarning: A column-vector y was passed when a 1d array was expected. Please change the shape of y to (n_samples, ), for example using ravel().\n",
      "  return f(*args, **kwargs)\n"
     ]
    },
    {
     "name": "stdout",
     "output_type": "stream",
     "text": [
      "Best score: 0.5833127956660633\n"
     ]
    }
   ],
   "source": [
    "# modelo\n",
    "bayes_cv = BayesianRidge()\n",
    "\n",
    "# se crea el grid de variables para el modelo lasso\n",
    "param_grid_bayes = {'alpha_1': np.linspace(1e-06, 10, 10),\n",
    "                'tol': [0.00001, 0.0000001, 0.01],\n",
    "                'alpha_2': np.linspace(1e-06, 10, 10),\n",
    "                'lambda_1': np.linspace(1e-06, 1, 10),\n",
    "                'lambda_2': np.linspace(1e-06, 1, 10),    \n",
    "                'fit_intercept': [True, False]}\n",
    "\n",
    "# Grid Search\n",
    "bayes_gs = RandomizedSearchCV(bayes_cv, param_grid_bayes, cv=4, error_score=-1000, n_jobs=-1,\n",
    "                              scoring=\"r2\", verbose=5)\n",
    "bayes_gs.fit(X_train_ss, y_train)\n",
    "print(\"Best score: \" + str(bayes_gs.best_score_))"
   ]
  },
  {
   "cell_type": "code",
   "execution_count": 85,
   "metadata": {},
   "outputs": [],
   "source": [
    "bayes_best = bayes_gs.best_estimator_"
   ]
  },
  {
   "cell_type": "markdown",
   "metadata": {},
   "source": [
    "### Train & Test Score"
   ]
  },
  {
   "cell_type": "code",
   "execution_count": 86,
   "metadata": {},
   "outputs": [],
   "source": [
    "y_pred_train_best = bayes_best.predict(X_train_ss)\n",
    "y_pred_test_best = bayes_best.predict(X_test_ss)"
   ]
  },
  {
   "cell_type": "code",
   "execution_count": 87,
   "metadata": {},
   "outputs": [
    {
     "name": "stdout",
     "output_type": "stream",
     "text": [
      "Train Score\n",
      "R2 Score: 0.5841013286517951\n",
      "MAE: 882840.7750821285\n",
      "MSE: 1569743711233.2922\n",
      "\n",
      "Test Score\n",
      "R2 Score: 0.5922114136611785\n",
      "MAE: 885555.5608142719\n",
      "MSE: 1584909357896.773\n"
     ]
    }
   ],
   "source": [
    "print('Train Score')\n",
    "metricas(y_train, y_pred_train)\n",
    "print('')\n",
    "print('Test Score')\n",
    "metricas(y_test, y_pred_test_best)"
   ]
  },
  {
   "cell_type": "markdown",
   "metadata": {},
   "source": [
    "## SGDRegressor"
   ]
  },
  {
   "cell_type": "code",
   "execution_count": 88,
   "metadata": {},
   "outputs": [
    {
     "name": "stderr",
     "output_type": "stream",
     "text": [
      "/home/edco17/anaconda3/envs/tf15/lib/python3.7/site-packages/sklearn/utils/validation.py:63: DataConversionWarning: A column-vector y was passed when a 1d array was expected. Please change the shape of y to (n_samples, ), for example using ravel().\n",
      "  return f(*args, **kwargs)\n"
     ]
    },
    {
     "data": {
      "text/plain": [
       "SGDRegressor()"
      ]
     },
     "execution_count": 88,
     "metadata": {},
     "output_type": "execute_result"
    }
   ],
   "source": [
    "from sklearn.linear_model import SGDRegressor\n",
    "\n",
    "#entrenamiento con sgd \n",
    "sgdr = SGDRegressor()\n",
    "sgdr.fit(X_train_ss, y_train)"
   ]
  },
  {
   "cell_type": "markdown",
   "metadata": {},
   "source": [
    "### Train Score"
   ]
  },
  {
   "cell_type": "code",
   "execution_count": 89,
   "metadata": {},
   "outputs": [
    {
     "name": "stdout",
     "output_type": "stream",
     "text": [
      "R2 Score: 0.5740978620689358\n",
      "MAE: 869192.0860098163\n",
      "MSE: 1607500212613.9587\n"
     ]
    }
   ],
   "source": [
    "metricas(y_train, sgdr.predict(X_train_ss))"
   ]
  },
  {
   "cell_type": "markdown",
   "metadata": {},
   "source": [
    "### Test Score"
   ]
  },
  {
   "cell_type": "code",
   "execution_count": 90,
   "metadata": {},
   "outputs": [],
   "source": [
    "y_pred = sgdr.predict(X_test_ss)"
   ]
  },
  {
   "cell_type": "code",
   "execution_count": 91,
   "metadata": {},
   "outputs": [
    {
     "data": {
      "image/png": "[encoded data removed]",
      "text/plain": [
       "<Figure size 432x288 with 1 Axes>"
      ]
     },
     "metadata": {
      "needs_background": "light"
     },
     "output_type": "display_data"
    }
   ],
   "source": [
    "plt.plot(np.arange(0, len(y_test)), y_test, color = 'red')\n",
    "plt.plot(np.arange(0, len(y_test)), y_pred, color = 'blue')\n",
    "plt.title('House Price')\n",
    "plt.xlabel('Observaciones')\n",
    "plt.ylabel('Precio Coche')\n",
    "plt.show()"
   ]
  },
  {
   "cell_type": "code",
   "execution_count": 92,
   "metadata": {},
   "outputs": [
    {
     "name": "stdout",
     "output_type": "stream",
     "text": [
      "R2 Score: 0.5798868775564562\n",
      "MAE: 875104.8504028291\n",
      "MSE: 1632809846675.734\n"
     ]
    }
   ],
   "source": [
    "metricas(y_test, y_pred)"
   ]
  },
  {
   "cell_type": "markdown",
   "metadata": {},
   "source": [
    "### Cross Validation"
   ]
  },
  {
   "cell_type": "code",
   "execution_count": 93,
   "metadata": {},
   "outputs": [
    {
     "data": {
      "text/plain": [
       "(0.5684287215627715, 0.016843568212467627)"
      ]
     },
     "execution_count": 93,
     "metadata": {},
     "output_type": "execute_result"
    }
   ],
   "source": [
    "sgdr_cv_media = cross_val_score(sgdr, X_train_ss, y_train, cv = 4, n_jobs = -1)\n",
    "# cross validation score\n",
    "np.mean(sgdr_cv_media), np.std(sgdr_cv_media)"
   ]
  },
  {
   "cell_type": "markdown",
   "metadata": {},
   "source": [
    "### Hiperparametrización"
   ]
  },
  {
   "cell_type": "code",
   "execution_count": 94,
   "metadata": {},
   "outputs": [],
   "source": [
    "# modelo\n",
    "sgdr_cv = SGDRegressor()"
   ]
  },
  {
   "cell_type": "code",
   "execution_count": 95,
   "metadata": {},
   "outputs": [
    {
     "name": "stdout",
     "output_type": "stream",
     "text": [
      "Fitting 4 folds for each of 10 candidates, totalling 40 fits\n"
     ]
    },
    {
     "name": "stderr",
     "output_type": "stream",
     "text": [
      "/home/edco17/anaconda3/envs/tf15/lib/python3.7/site-packages/sklearn/utils/validation.py:63: DataConversionWarning: A column-vector y was passed when a 1d array was expected. Please change the shape of y to (n_samples, ), for example using ravel().\n",
      "  return f(*args, **kwargs)\n"
     ]
    },
    {
     "name": "stdout",
     "output_type": "stream",
     "text": [
      "Best score: 0.5706377146559429\n"
     ]
    }
   ],
   "source": [
    "# modelo\n",
    "sgdr_cv = SGDRegressor()\n",
    "\n",
    "# se crea el grid de variables para el modelo lasso\n",
    "param_grid_sgdr = {'loss': ['squared_loss', 'huber', 'epsilon_insensitive','squared_epsilon_insensitive'],\n",
    "                'penalty': ['l2', 'l1', 'elasticnet'],\n",
    "                'alpha': np.linspace(1e-06, 10, 10),\n",
    "                'l1_ratio': np.linspace(1e-06, 1, 10),\n",
    "                'tol': [0.00001, 0.0000001, 0.01],    \n",
    "                'fit_intercept': [True, False]}\n",
    "\n",
    "# Grid Search\n",
    "sgdr_gs = RandomizedSearchCV(sgdr_cv, param_grid_sgdr, cv=4, error_score=-1000, n_jobs=-1,\n",
    "                              scoring=\"r2\", verbose=5)\n",
    "sgdr_gs.fit(X_train_ss, y_train)\n",
    "print(\"Best score: \" + str(sgdr_gs.best_score_))"
   ]
  },
  {
   "cell_type": "code",
   "execution_count": 96,
   "metadata": {},
   "outputs": [],
   "source": [
    "sgdr_best = sgdr_gs.best_estimator_"
   ]
  },
  {
   "cell_type": "markdown",
   "metadata": {},
   "source": [
    "### Train & Test Score"
   ]
  },
  {
   "cell_type": "code",
   "execution_count": 97,
   "metadata": {},
   "outputs": [],
   "source": [
    "y_pred_train_best = sgdr_best.predict(X_train_ss)\n",
    "y_pred_test_best = sgdr_best.predict(X_test_ss)"
   ]
  },
  {
   "cell_type": "code",
   "execution_count": 98,
   "metadata": {},
   "outputs": [
    {
     "name": "stdout",
     "output_type": "stream",
     "text": [
      "Train Score\n",
      "R2 Score: 0.5841013286517951\n",
      "MAE: 882840.7750821285\n",
      "MSE: 1569743711233.2922\n",
      "\n",
      "Test Score\n",
      "R2 Score: 0.5267001382916241\n",
      "MAE: 1018333.7820662542\n",
      "MSE: 1839525197719.935\n"
     ]
    }
   ],
   "source": [
    "print('Train Score')\n",
    "metricas(y_train, y_pred_train)\n",
    "print('')\n",
    "print('Test Score')\n",
    "metricas(y_test, y_pred_test_best)"
   ]
  }
 ],
 "metadata": {
  "kernelspec": {
   "display_name": "tf15",
   "language": "python",
   "name": "tf15"
  },
  "language_info": {
   "codemirror_mode": {
    "name": "ipython",
    "version": 3
   },
   "file_extension": ".py",
   "mimetype": "text/x-python",
   "name": "python",
   "nbconvert_exporter": "python",
   "pygments_lexer": "ipython3",
   "version": "3.7.0"
  }
 },
 "nbformat": 4,
 "nbformat_minor": 4
}
