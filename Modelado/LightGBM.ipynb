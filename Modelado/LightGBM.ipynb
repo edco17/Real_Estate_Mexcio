{
 "cells": [
  {
   "cell_type": "markdown",
   "metadata": {},
   "source": [
    "# Modelación Supervisada"
   ]
  },
  {
   "cell_type": "markdown",
   "metadata": {},
   "source": [
    "## Importar Librerías"
   ]
  },
  {
   "cell_type": "code",
   "execution_count": 1,
   "metadata": {},
   "outputs": [],
   "source": [
    "import pandas as pd\n",
    "import numpy as np\n",
    "import matplotlib.pyplot as plt\n",
    "from sklearn.metrics import r2_score, mean_absolute_error, accuracy_score"
   ]
  },
  {
   "cell_type": "markdown",
   "metadata": {},
   "source": [
    "## Importar Tabal de Datos Limpia y Reducida"
   ]
  },
  {
   "cell_type": "code",
   "execution_count": 2,
   "metadata": {},
   "outputs": [],
   "source": [
    "data = pd.read_csv('real_estate.csv') "
   ]
  },
  {
   "cell_type": "markdown",
   "metadata": {},
   "source": [
    "## Estructura de Datos"
   ]
  },
  {
   "cell_type": "code",
   "execution_count": 3,
   "metadata": {},
   "outputs": [
    {
     "data": {
      "text/html": [
       "<div>\n",
       "<style scoped>\n",
       "    .dataframe tbody tr th:only-of-type {\n",
       "        vertical-align: middle;\n",
       "    }\n",
       "\n",
       "    .dataframe tbody tr th {\n",
       "        vertical-align: top;\n",
       "    }\n",
       "\n",
       "    .dataframe thead th {\n",
       "        text-align: right;\n",
       "    }\n",
       "</style>\n",
       "<table border=\"1\" class=\"dataframe\">\n",
       "  <thead>\n",
       "    <tr style=\"text-align: right;\">\n",
       "      <th></th>\n",
       "      <th>d_created_on</th>\n",
       "      <th>c_lat</th>\n",
       "      <th>c_lon</th>\n",
       "      <th>c_price</th>\n",
       "      <th>c_surface_covered_in_m2</th>\n",
       "      <th>v_estado</th>\n",
       "      <th>v_anio_2015</th>\n",
       "      <th>v_anio_2016</th>\n",
       "      <th>v_mes_2</th>\n",
       "      <th>v_mes_3</th>\n",
       "      <th>...</th>\n",
       "      <th>descr_comedor</th>\n",
       "      <th>descr_id</th>\n",
       "      <th>descr_nocnok</th>\n",
       "      <th>descr_recamaras</th>\n",
       "      <th>descr_sala</th>\n",
       "      <th>descr_sistema</th>\n",
       "      <th>v_region_norte</th>\n",
       "      <th>v_region_sur</th>\n",
       "      <th>v_tamanio_grande</th>\n",
       "      <th>v_tamanio_mediano</th>\n",
       "    </tr>\n",
       "  </thead>\n",
       "  <tbody>\n",
       "    <tr>\n",
       "      <th>0</th>\n",
       "      <td>2014-01-02</td>\n",
       "      <td>19.497295</td>\n",
       "      <td>-96.879250</td>\n",
       "      <td>750000.0</td>\n",
       "      <td>90.0</td>\n",
       "      <td>Veracruz de Ignacio de la Llave</td>\n",
       "      <td>0</td>\n",
       "      <td>0</td>\n",
       "      <td>0</td>\n",
       "      <td>0</td>\n",
       "      <td>...</td>\n",
       "      <td>1</td>\n",
       "      <td>0</td>\n",
       "      <td>0</td>\n",
       "      <td>2</td>\n",
       "      <td>1</td>\n",
       "      <td>0</td>\n",
       "      <td>0</td>\n",
       "      <td>0</td>\n",
       "      <td>0</td>\n",
       "      <td>1</td>\n",
       "    </tr>\n",
       "    <tr>\n",
       "      <th>1</th>\n",
       "      <td>2014-01-02</td>\n",
       "      <td>19.200068</td>\n",
       "      <td>-96.170279</td>\n",
       "      <td>140000.0</td>\n",
       "      <td>174.5</td>\n",
       "      <td>Veracruz de Ignacio de la Llave</td>\n",
       "      <td>0</td>\n",
       "      <td>0</td>\n",
       "      <td>0</td>\n",
       "      <td>0</td>\n",
       "      <td>...</td>\n",
       "      <td>0</td>\n",
       "      <td>0</td>\n",
       "      <td>0</td>\n",
       "      <td>1</td>\n",
       "      <td>0</td>\n",
       "      <td>0</td>\n",
       "      <td>0</td>\n",
       "      <td>0</td>\n",
       "      <td>1</td>\n",
       "      <td>0</td>\n",
       "    </tr>\n",
       "    <tr>\n",
       "      <th>2</th>\n",
       "      <td>2014-01-02</td>\n",
       "      <td>19.497295</td>\n",
       "      <td>-96.879250</td>\n",
       "      <td>440000.0</td>\n",
       "      <td>60.0</td>\n",
       "      <td>Veracruz de Ignacio de la Llave</td>\n",
       "      <td>0</td>\n",
       "      <td>0</td>\n",
       "      <td>0</td>\n",
       "      <td>0</td>\n",
       "      <td>...</td>\n",
       "      <td>1</td>\n",
       "      <td>0</td>\n",
       "      <td>0</td>\n",
       "      <td>1</td>\n",
       "      <td>1</td>\n",
       "      <td>0</td>\n",
       "      <td>0</td>\n",
       "      <td>0</td>\n",
       "      <td>0</td>\n",
       "      <td>1</td>\n",
       "    </tr>\n",
       "    <tr>\n",
       "      <th>3</th>\n",
       "      <td>2014-01-02</td>\n",
       "      <td>19.497295</td>\n",
       "      <td>-96.879250</td>\n",
       "      <td>2950000.0</td>\n",
       "      <td>177.0</td>\n",
       "      <td>Veracruz de Ignacio de la Llave</td>\n",
       "      <td>0</td>\n",
       "      <td>0</td>\n",
       "      <td>0</td>\n",
       "      <td>0</td>\n",
       "      <td>...</td>\n",
       "      <td>1</td>\n",
       "      <td>0</td>\n",
       "      <td>0</td>\n",
       "      <td>0</td>\n",
       "      <td>1</td>\n",
       "      <td>0</td>\n",
       "      <td>0</td>\n",
       "      <td>0</td>\n",
       "      <td>0</td>\n",
       "      <td>1</td>\n",
       "    </tr>\n",
       "    <tr>\n",
       "      <th>4</th>\n",
       "      <td>2014-01-02</td>\n",
       "      <td>19.497295</td>\n",
       "      <td>-96.879250</td>\n",
       "      <td>750000.0</td>\n",
       "      <td>70.0</td>\n",
       "      <td>Veracruz de Ignacio de la Llave</td>\n",
       "      <td>0</td>\n",
       "      <td>0</td>\n",
       "      <td>0</td>\n",
       "      <td>0</td>\n",
       "      <td>...</td>\n",
       "      <td>1</td>\n",
       "      <td>0</td>\n",
       "      <td>0</td>\n",
       "      <td>1</td>\n",
       "      <td>1</td>\n",
       "      <td>0</td>\n",
       "      <td>0</td>\n",
       "      <td>0</td>\n",
       "      <td>0</td>\n",
       "      <td>1</td>\n",
       "    </tr>\n",
       "  </tbody>\n",
       "</table>\n",
       "<p>5 rows × 53 columns</p>\n",
       "</div>"
      ],
      "text/plain": [
       "  d_created_on      c_lat      c_lon    c_price  c_surface_covered_in_m2  \\\n",
       "0   2014-01-02  19.497295 -96.879250   750000.0                     90.0   \n",
       "1   2014-01-02  19.200068 -96.170279   140000.0                    174.5   \n",
       "2   2014-01-02  19.497295 -96.879250   440000.0                     60.0   \n",
       "3   2014-01-02  19.497295 -96.879250  2950000.0                    177.0   \n",
       "4   2014-01-02  19.497295 -96.879250   750000.0                     70.0   \n",
       "\n",
       "                          v_estado  v_anio_2015  v_anio_2016  v_mes_2  \\\n",
       "0  Veracruz de Ignacio de la Llave            0            0        0   \n",
       "1  Veracruz de Ignacio de la Llave            0            0        0   \n",
       "2  Veracruz de Ignacio de la Llave            0            0        0   \n",
       "3  Veracruz de Ignacio de la Llave            0            0        0   \n",
       "4  Veracruz de Ignacio de la Llave            0            0        0   \n",
       "\n",
       "   v_mes_3  ...  descr_comedor  descr_id  descr_nocnok  descr_recamaras  \\\n",
       "0        0  ...              1         0             0                2   \n",
       "1        0  ...              0         0             0                1   \n",
       "2        0  ...              1         0             0                1   \n",
       "3        0  ...              1         0             0                0   \n",
       "4        0  ...              1         0             0                1   \n",
       "\n",
       "   descr_sala  descr_sistema  v_region_norte  v_region_sur  v_tamanio_grande  \\\n",
       "0           1              0               0             0                 0   \n",
       "1           0              0               0             0                 1   \n",
       "2           1              0               0             0                 0   \n",
       "3           1              0               0             0                 0   \n",
       "4           1              0               0             0                 0   \n",
       "\n",
       "   v_tamanio_mediano  \n",
       "0                  1  \n",
       "1                  0  \n",
       "2                  1  \n",
       "3                  1  \n",
       "4                  1  \n",
       "\n",
       "[5 rows x 53 columns]"
      ]
     },
     "execution_count": 3,
     "metadata": {},
     "output_type": "execute_result"
    }
   ],
   "source": [
    "data.head()"
   ]
  },
  {
   "cell_type": "markdown",
   "metadata": {},
   "source": [
    "## Enriquecimiento de Tabla"
   ]
  },
  {
   "cell_type": "code",
   "execution_count": 4,
   "metadata": {},
   "outputs": [],
   "source": [
    "estados = list(data['v_estado'].value_counts().index.sort_values())"
   ]
  },
  {
   "cell_type": "code",
   "execution_count": 5,
   "metadata": {},
   "outputs": [],
   "source": [
    "# datos de superficie por inegi\n",
    "superficie = [5616,\n",
    "71450,\n",
    "73909,\n",
    "57507,\n",
    "73311,\n",
    "247455,\n",
    "151562,\n",
    "5627,\n",
    "1495,\n",
    "123317,\n",
    "22351,\n",
    "30608,\n",
    "63596,\n",
    "20813,\n",
    "78588,\n",
    "58599,\n",
    "4879,\n",
    "27857,\n",
    "64156,\n",
    "93757,\n",
    "34306,\n",
    "11699,\n",
    "44705,\n",
    "61137,\n",
    "58200,\n",
    "179355,\n",
    "24731,\n",
    "80249,\n",
    "4016,\n",
    "71826,\n",
    "39524,\n",
    "75284]\n",
    "# diccionario de superficie\n",
    "sup_estado = dict(zip(estados, superficie))"
   ]
  },
  {
   "cell_type": "code",
   "execution_count": 6,
   "metadata": {},
   "outputs": [],
   "source": [
    "# Población\n",
    "poblacion = [1312544,\n",
    "3315766,\n",
    "712029,\n",
    "899931,\n",
    "5217908,\n",
    "3556574,\n",
    "2954915,\n",
    "711235,\n",
    "8918653,\n",
    "1754754,\n",
    "16187608,\n",
    "5853677,\n",
    "3533251,\n",
    "2858359,\n",
    "7844830,\n",
    "4584471,\n",
    "1903811,\n",
    "1181050,\n",
    "5119504,\n",
    "3967889,\n",
    "6168883,\n",
    "2038372,\n",
    "1501562,\n",
    "2717820,\n",
    "2966321,\n",
    "2850330,\n",
    "2395272,\n",
    "3441698,\n",
    "1272847,\n",
    "8112505,\n",
    "2097175,\n",
    "1579209]\n",
    "# diccionario de población\n",
    "pob_estado = dict(zip(estados, poblacion))"
   ]
  },
  {
   "cell_type": "code",
   "execution_count": 7,
   "metadata": {},
   "outputs": [],
   "source": [
    "# tasa hipotecaria promedio por año datos Banxico\n",
    "tasa_hipotecaria = {2013: 0.119145454545455, 2014: 0.107691666666667,\n",
    "                   2015: 0.103133333333333, 2016: 0.102191666666667}"
   ]
  },
  {
   "cell_type": "code",
   "execution_count": 8,
   "metadata": {},
   "outputs": [],
   "source": [
    "## nuevas variables\n",
    "# población\n",
    "data['c_poblacion'] = data['v_estado'].apply(lambda x: pob_estado[x])\n",
    "# superficie\n",
    "data['c_superficie'] = data['v_estado'].apply(lambda x: sup_estado[x])\n",
    "# densidad poblacional\n",
    "data['c_densidad'] = data['c_poblacion'] / data['c_superficie']\n",
    "# tasa hipotecaria\n",
    "data['c_tasa'] = pd.to_datetime(data['d_created_on']).apply(lambda x: tasa_hipotecaria[x.year])\n",
    "# dummy estados\n",
    "data = pd.get_dummies(data, columns = ['v_estado'], drop_first = True)"
   ]
  },
  {
   "cell_type": "code",
   "execution_count": 9,
   "metadata": {},
   "outputs": [
    {
     "data": {
      "text/plain": [
       "Index(['d_created_on', 'c_lat', 'c_lon', 'c_price', 'c_surface_covered_in_m2',\n",
       "       'v_anio_2015', 'v_anio_2016', 'v_mes_2', 'v_mes_3', 'v_mes_4',\n",
       "       'v_mes_5', 'v_mes_6', 'v_mes_7', 'v_mes_8', 'v_mes_9', 'v_mes_10',\n",
       "       'v_mes_11', 'v_mes_12', 'v_dia_semama_Jueves', 'v_dia_semama_Lunes',\n",
       "       'v_dia_semama_Martes', 'v_dia_semama_Miercoles', 'v_dia_semama_Sábado',\n",
       "       'v_dia_semama_Viernes', 'v_operation_sell', 'v_property_type_house',\n",
       "       'v_property_type_store', 'v_conteo_geo', 'title_casa', 'title_centro',\n",
       "       'title_departamento', 'title_fracc', 'title_local', 'title_lomas',\n",
       "       'title_renta', 'title_residencial', 'title_san', 'title_venta',\n",
       "       'descr_baao', 'descr_br', 'descr_casa', 'descr_cocina', 'descr_comedor',\n",
       "       'descr_id', 'descr_nocnok', 'descr_recamaras', 'descr_sala',\n",
       "       'descr_sistema', 'v_region_norte', 'v_region_sur', 'v_tamanio_grande',\n",
       "       'v_tamanio_mediano', 'c_poblacion', 'c_superficie', 'c_densidad',\n",
       "       'c_tasa', 'v_estado_Baja California', 'v_estado_Baja California Sur',\n",
       "       'v_estado_Campeche', 'v_estado_Chiapas', 'v_estado_Chihuahua',\n",
       "       'v_estado_Coahuila de Zaragoza', 'v_estado_Colima',\n",
       "       'v_estado_Distrito Federal', 'v_estado_Durango',\n",
       "       'v_estado_Estado de MÃ©xico', 'v_estado_Guanajuato',\n",
       "       'v_estado_Guerrero', 'v_estado_Hidalgo', 'v_estado_Jalisco',\n",
       "       'v_estado_Morelos', 'v_estado_Nayarit', 'v_estado_Nuevo LeÃ³n',\n",
       "       'v_estado_Oaxaca', 'v_estado_Puebla', 'v_estado_QuerÃ©taro',\n",
       "       'v_estado_Quintana Roo', 'v_estado_San Luis PotosÃ­',\n",
       "       'v_estado_Sinaloa', 'v_estado_Sonora', 'v_estado_Tabasco',\n",
       "       'v_estado_Tamaulipas', 'v_estado_Tlaxcala',\n",
       "       'v_estado_Veracruz de Ignacio de la Llave', 'v_estado_YucatÃ¡n',\n",
       "       'v_estado_Zacatecas'],\n",
       "      dtype='object')"
      ]
     },
     "execution_count": 9,
     "metadata": {},
     "output_type": "execute_result"
    }
   ],
   "source": [
    "data.columns"
   ]
  },
  {
   "cell_type": "code",
   "execution_count": 10,
   "metadata": {},
   "outputs": [],
   "source": [
    "columnas = ['c_lat', 'c_lon', 'c_surface_covered_in_m2',\n",
    "            'c_poblacion', 'c_superficie', 'c_densidad','c_tasa', 'v_conteo_geo',\n",
    "       'v_anio_2015', 'v_anio_2016', 'v_mes_2', 'v_mes_3', 'v_mes_4',\n",
    "       'v_mes_5', 'v_mes_6', 'v_mes_7', 'v_mes_8', 'v_mes_9', 'v_mes_10',\n",
    "       'v_mes_11', 'v_mes_12', 'v_dia_semama_Jueves', 'v_dia_semama_Lunes',\n",
    "       'v_dia_semama_Martes', 'v_dia_semama_Miercoles', 'v_dia_semama_Sábado',\n",
    "       'v_dia_semama_Viernes', 'v_operation_sell', 'v_property_type_house',\n",
    "       'v_property_type_store', 'title_casa', 'title_centro',\n",
    "       'title_departamento', 'title_fracc', 'title_local', 'title_lomas',\n",
    "       'title_renta', 'title_residencial', 'title_san', 'title_venta',\n",
    "       'descr_baao', 'descr_br', 'descr_casa', 'descr_cocina', 'descr_comedor',\n",
    "       'descr_id', 'descr_nocnok', 'descr_recamaras', 'descr_sala',\n",
    "       'descr_sistema', 'v_region_norte', 'v_region_sur', 'v_tamanio_grande',\n",
    "       'v_tamanio_mediano', 'v_estado_Baja California', 'v_estado_Baja California Sur',\n",
    "       'v_estado_Campeche', 'v_estado_Chiapas', 'v_estado_Chihuahua',\n",
    "       'v_estado_Coahuila de Zaragoza', 'v_estado_Colima',\n",
    "       'v_estado_Distrito Federal', 'v_estado_Durango',\n",
    "       'v_estado_Estado de MÃ©xico', 'v_estado_Guanajuato',\n",
    "       'v_estado_Guerrero', 'v_estado_Hidalgo', 'v_estado_Jalisco',\n",
    "       'v_estado_Morelos', 'v_estado_Nayarit', 'v_estado_Nuevo LeÃ³n',\n",
    "       'v_estado_Oaxaca', 'v_estado_Puebla', 'v_estado_QuerÃ©taro',\n",
    "       'v_estado_Quintana Roo', 'v_estado_San Luis PotosÃ­',\n",
    "       'v_estado_Sinaloa', 'v_estado_Sonora', 'v_estado_Tabasco',\n",
    "       'v_estado_Tamaulipas', 'v_estado_Tlaxcala',\n",
    "       'v_estado_Veracruz de Ignacio de la Llave', 'v_estado_YucatÃ¡n',\n",
    "       'v_estado_Zacatecas']"
   ]
  },
  {
   "cell_type": "code",
   "execution_count": 11,
   "metadata": {},
   "outputs": [
    {
     "name": "stdout",
     "output_type": "stream",
     "text": [
      "<class 'pandas.core.frame.DataFrame'>\n",
      "RangeIndex: 125684 entries, 0 to 125683\n",
      "Data columns (total 86 columns):\n",
      " #   Column                                    Non-Null Count   Dtype  \n",
      "---  ------                                    --------------   -----  \n",
      " 0   d_created_on                              125684 non-null  object \n",
      " 1   c_lat                                     125684 non-null  float64\n",
      " 2   c_lon                                     125684 non-null  float64\n",
      " 3   c_price                                   125684 non-null  float64\n",
      " 4   c_surface_covered_in_m2                   125684 non-null  float64\n",
      " 5   v_anio_2015                               125684 non-null  int64  \n",
      " 6   v_anio_2016                               125684 non-null  int64  \n",
      " 7   v_mes_2                                   125684 non-null  int64  \n",
      " 8   v_mes_3                                   125684 non-null  int64  \n",
      " 9   v_mes_4                                   125684 non-null  int64  \n",
      " 10  v_mes_5                                   125684 non-null  int64  \n",
      " 11  v_mes_6                                   125684 non-null  int64  \n",
      " 12  v_mes_7                                   125684 non-null  int64  \n",
      " 13  v_mes_8                                   125684 non-null  int64  \n",
      " 14  v_mes_9                                   125684 non-null  int64  \n",
      " 15  v_mes_10                                  125684 non-null  int64  \n",
      " 16  v_mes_11                                  125684 non-null  int64  \n",
      " 17  v_mes_12                                  125684 non-null  int64  \n",
      " 18  v_dia_semama_Jueves                       125684 non-null  int64  \n",
      " 19  v_dia_semama_Lunes                        125684 non-null  int64  \n",
      " 20  v_dia_semama_Martes                       125684 non-null  int64  \n",
      " 21  v_dia_semama_Miercoles                    125684 non-null  int64  \n",
      " 22  v_dia_semama_Sábado                       125684 non-null  int64  \n",
      " 23  v_dia_semama_Viernes                      125684 non-null  int64  \n",
      " 24  v_operation_sell                          125684 non-null  int64  \n",
      " 25  v_property_type_house                     125684 non-null  int64  \n",
      " 26  v_property_type_store                     125684 non-null  int64  \n",
      " 27  v_conteo_geo                              125684 non-null  float64\n",
      " 28  title_casa                                125684 non-null  int64  \n",
      " 29  title_centro                              125684 non-null  int64  \n",
      " 30  title_departamento                        125684 non-null  int64  \n",
      " 31  title_fracc                               125684 non-null  int64  \n",
      " 32  title_local                               125684 non-null  int64  \n",
      " 33  title_lomas                               125684 non-null  int64  \n",
      " 34  title_renta                               125684 non-null  int64  \n",
      " 35  title_residencial                         125684 non-null  int64  \n",
      " 36  title_san                                 125684 non-null  int64  \n",
      " 37  title_venta                               125684 non-null  int64  \n",
      " 38  descr_baao                                125684 non-null  int64  \n",
      " 39  descr_br                                  125684 non-null  int64  \n",
      " 40  descr_casa                                125684 non-null  int64  \n",
      " 41  descr_cocina                              125684 non-null  int64  \n",
      " 42  descr_comedor                             125684 non-null  int64  \n",
      " 43  descr_id                                  125684 non-null  int64  \n",
      " 44  descr_nocnok                              125684 non-null  int64  \n",
      " 45  descr_recamaras                           125684 non-null  int64  \n",
      " 46  descr_sala                                125684 non-null  int64  \n",
      " 47  descr_sistema                             125684 non-null  int64  \n",
      " 48  v_region_norte                            125684 non-null  int64  \n",
      " 49  v_region_sur                              125684 non-null  int64  \n",
      " 50  v_tamanio_grande                          125684 non-null  int64  \n",
      " 51  v_tamanio_mediano                         125684 non-null  int64  \n",
      " 52  c_poblacion                               125684 non-null  int64  \n",
      " 53  c_superficie                              125684 non-null  int64  \n",
      " 54  c_densidad                                125684 non-null  float64\n",
      " 55  c_tasa                                    125684 non-null  float64\n",
      " 56  v_estado_Baja California                  125684 non-null  uint8  \n",
      " 57  v_estado_Baja California Sur              125684 non-null  uint8  \n",
      " 58  v_estado_Campeche                         125684 non-null  uint8  \n",
      " 59  v_estado_Chiapas                          125684 non-null  uint8  \n",
      " 60  v_estado_Chihuahua                        125684 non-null  uint8  \n",
      " 61  v_estado_Coahuila de Zaragoza             125684 non-null  uint8  \n",
      " 62  v_estado_Colima                           125684 non-null  uint8  \n",
      " 63  v_estado_Distrito Federal                 125684 non-null  uint8  \n",
      " 64  v_estado_Durango                          125684 non-null  uint8  \n",
      " 65  v_estado_Estado de MÃ©xico                125684 non-null  uint8  \n",
      " 66  v_estado_Guanajuato                       125684 non-null  uint8  \n",
      " 67  v_estado_Guerrero                         125684 non-null  uint8  \n",
      " 68  v_estado_Hidalgo                          125684 non-null  uint8  \n",
      " 69  v_estado_Jalisco                          125684 non-null  uint8  \n",
      " 70  v_estado_Morelos                          125684 non-null  uint8  \n",
      " 71  v_estado_Nayarit                          125684 non-null  uint8  \n",
      " 72  v_estado_Nuevo LeÃ³n                      125684 non-null  uint8  \n",
      " 73  v_estado_Oaxaca                           125684 non-null  uint8  \n",
      " 74  v_estado_Puebla                           125684 non-null  uint8  \n",
      " 75  v_estado_QuerÃ©taro                       125684 non-null  uint8  \n",
      " 76  v_estado_Quintana Roo                     125684 non-null  uint8  \n",
      " 77  v_estado_San Luis PotosÃ­                 125684 non-null  uint8  \n",
      " 78  v_estado_Sinaloa                          125684 non-null  uint8  \n",
      " 79  v_estado_Sonora                           125684 non-null  uint8  \n",
      " 80  v_estado_Tabasco                          125684 non-null  uint8  \n",
      " 81  v_estado_Tamaulipas                       125684 non-null  uint8  \n",
      " 82  v_estado_Tlaxcala                         125684 non-null  uint8  \n",
      " 83  v_estado_Veracruz de Ignacio de la Llave  125684 non-null  uint8  \n",
      " 84  v_estado_YucatÃ¡n                         125684 non-null  uint8  \n",
      " 85  v_estado_Zacatecas                        125684 non-null  uint8  \n",
      "dtypes: float64(7), int64(48), object(1), uint8(30)\n",
      "memory usage: 57.3+ MB\n"
     ]
    }
   ],
   "source": [
    "# información de los datos\n",
    "data.info()"
   ]
  },
  {
   "cell_type": "markdown",
   "metadata": {},
   "source": [
    "## División Cojunto de Datos"
   ]
  },
  {
   "cell_type": "code",
   "execution_count": 12,
   "metadata": {},
   "outputs": [],
   "source": [
    "X = data.loc[:, columnas]\n",
    "y = data.loc[:, 'c_price']\n",
    "\n",
    "## y reshape\n",
    "y = np.array(y).reshape(-1, 1)"
   ]
  },
  {
   "cell_type": "code",
   "execution_count": 13,
   "metadata": {},
   "outputs": [],
   "source": [
    "## train test\n",
    "from sklearn.model_selection import train_test_split\n",
    "\n",
    "X_train, X_test, y_train, y_test = train_test_split(X, y, test_size = 0.2)"
   ]
  },
  {
   "cell_type": "code",
   "execution_count": 14,
   "metadata": {},
   "outputs": [],
   "source": [
    "X_train.reset_index(drop = True, inplace = True)\n",
    "X_test.reset_index(drop = True, inplace = True)"
   ]
  },
  {
   "cell_type": "code",
   "execution_count": 15,
   "metadata": {
    "scrolled": false
   },
   "outputs": [
    {
     "data": {
      "text/html": [
       "<div>\n",
       "<style scoped>\n",
       "    .dataframe tbody tr th:only-of-type {\n",
       "        vertical-align: middle;\n",
       "    }\n",
       "\n",
       "    .dataframe tbody tr th {\n",
       "        vertical-align: top;\n",
       "    }\n",
       "\n",
       "    .dataframe thead th {\n",
       "        text-align: right;\n",
       "    }\n",
       "</style>\n",
       "<table border=\"1\" class=\"dataframe\">\n",
       "  <thead>\n",
       "    <tr style=\"text-align: right;\">\n",
       "      <th></th>\n",
       "      <th>c_lat</th>\n",
       "      <th>c_lon</th>\n",
       "      <th>c_surface_covered_in_m2</th>\n",
       "      <th>c_poblacion</th>\n",
       "      <th>c_superficie</th>\n",
       "      <th>c_densidad</th>\n",
       "      <th>c_tasa</th>\n",
       "      <th>v_conteo_geo</th>\n",
       "      <th>v_anio_2015</th>\n",
       "      <th>v_anio_2016</th>\n",
       "      <th>...</th>\n",
       "      <th>v_estado_Quintana Roo</th>\n",
       "      <th>v_estado_San Luis PotosÃ­</th>\n",
       "      <th>v_estado_Sinaloa</th>\n",
       "      <th>v_estado_Sonora</th>\n",
       "      <th>v_estado_Tabasco</th>\n",
       "      <th>v_estado_Tamaulipas</th>\n",
       "      <th>v_estado_Tlaxcala</th>\n",
       "      <th>v_estado_Veracruz de Ignacio de la Llave</th>\n",
       "      <th>v_estado_YucatÃ¡n</th>\n",
       "      <th>v_estado_Zacatecas</th>\n",
       "    </tr>\n",
       "  </thead>\n",
       "  <tbody>\n",
       "    <tr>\n",
       "      <th>0</th>\n",
       "      <td>20.666897</td>\n",
       "      <td>-103.372797</td>\n",
       "      <td>78.0</td>\n",
       "      <td>7844830</td>\n",
       "      <td>78588</td>\n",
       "      <td>99.822237</td>\n",
       "      <td>0.102192</td>\n",
       "      <td>1.0</td>\n",
       "      <td>0</td>\n",
       "      <td>1</td>\n",
       "      <td>...</td>\n",
       "      <td>0</td>\n",
       "      <td>0</td>\n",
       "      <td>0</td>\n",
       "      <td>0</td>\n",
       "      <td>0</td>\n",
       "      <td>0</td>\n",
       "      <td>0</td>\n",
       "      <td>0</td>\n",
       "      <td>0</td>\n",
       "      <td>0</td>\n",
       "    </tr>\n",
       "    <tr>\n",
       "      <th>1</th>\n",
       "      <td>18.957352</td>\n",
       "      <td>-99.260544</td>\n",
       "      <td>317.0</td>\n",
       "      <td>4584471</td>\n",
       "      <td>58599</td>\n",
       "      <td>78.234629</td>\n",
       "      <td>0.102192</td>\n",
       "      <td>973.0</td>\n",
       "      <td>0</td>\n",
       "      <td>1</td>\n",
       "      <td>...</td>\n",
       "      <td>0</td>\n",
       "      <td>0</td>\n",
       "      <td>0</td>\n",
       "      <td>0</td>\n",
       "      <td>0</td>\n",
       "      <td>0</td>\n",
       "      <td>0</td>\n",
       "      <td>0</td>\n",
       "      <td>0</td>\n",
       "      <td>0</td>\n",
       "    </tr>\n",
       "    <tr>\n",
       "      <th>2</th>\n",
       "      <td>25.706009</td>\n",
       "      <td>-100.227507</td>\n",
       "      <td>250.0</td>\n",
       "      <td>1181050</td>\n",
       "      <td>27857</td>\n",
       "      <td>42.396884</td>\n",
       "      <td>0.102192</td>\n",
       "      <td>1.0</td>\n",
       "      <td>0</td>\n",
       "      <td>1</td>\n",
       "      <td>...</td>\n",
       "      <td>0</td>\n",
       "      <td>0</td>\n",
       "      <td>0</td>\n",
       "      <td>0</td>\n",
       "      <td>0</td>\n",
       "      <td>0</td>\n",
       "      <td>0</td>\n",
       "      <td>0</td>\n",
       "      <td>0</td>\n",
       "      <td>0</td>\n",
       "    </tr>\n",
       "    <tr>\n",
       "      <th>3</th>\n",
       "      <td>25.600464</td>\n",
       "      <td>-103.421458</td>\n",
       "      <td>180.0</td>\n",
       "      <td>1272847</td>\n",
       "      <td>4016</td>\n",
       "      <td>316.943974</td>\n",
       "      <td>0.103133</td>\n",
       "      <td>1.0</td>\n",
       "      <td>1</td>\n",
       "      <td>0</td>\n",
       "      <td>...</td>\n",
       "      <td>0</td>\n",
       "      <td>0</td>\n",
       "      <td>0</td>\n",
       "      <td>0</td>\n",
       "      <td>0</td>\n",
       "      <td>0</td>\n",
       "      <td>0</td>\n",
       "      <td>1</td>\n",
       "      <td>0</td>\n",
       "      <td>0</td>\n",
       "    </tr>\n",
       "    <tr>\n",
       "      <th>4</th>\n",
       "      <td>18.957352</td>\n",
       "      <td>-99.260544</td>\n",
       "      <td>380.0</td>\n",
       "      <td>4584471</td>\n",
       "      <td>58599</td>\n",
       "      <td>78.234629</td>\n",
       "      <td>0.102192</td>\n",
       "      <td>973.0</td>\n",
       "      <td>0</td>\n",
       "      <td>1</td>\n",
       "      <td>...</td>\n",
       "      <td>0</td>\n",
       "      <td>0</td>\n",
       "      <td>0</td>\n",
       "      <td>0</td>\n",
       "      <td>0</td>\n",
       "      <td>0</td>\n",
       "      <td>0</td>\n",
       "      <td>0</td>\n",
       "      <td>0</td>\n",
       "      <td>0</td>\n",
       "    </tr>\n",
       "  </tbody>\n",
       "</table>\n",
       "<p>5 rows × 84 columns</p>\n",
       "</div>"
      ],
      "text/plain": [
       "       c_lat       c_lon  c_surface_covered_in_m2  c_poblacion  c_superficie  \\\n",
       "0  20.666897 -103.372797                     78.0      7844830         78588   \n",
       "1  18.957352  -99.260544                    317.0      4584471         58599   \n",
       "2  25.706009 -100.227507                    250.0      1181050         27857   \n",
       "3  25.600464 -103.421458                    180.0      1272847          4016   \n",
       "4  18.957352  -99.260544                    380.0      4584471         58599   \n",
       "\n",
       "   c_densidad    c_tasa  v_conteo_geo  v_anio_2015  v_anio_2016  ...  \\\n",
       "0   99.822237  0.102192           1.0            0            1  ...   \n",
       "1   78.234629  0.102192         973.0            0            1  ...   \n",
       "2   42.396884  0.102192           1.0            0            1  ...   \n",
       "3  316.943974  0.103133           1.0            1            0  ...   \n",
       "4   78.234629  0.102192         973.0            0            1  ...   \n",
       "\n",
       "   v_estado_Quintana Roo  v_estado_San Luis PotosÃ­  v_estado_Sinaloa  \\\n",
       "0                      0                          0                 0   \n",
       "1                      0                          0                 0   \n",
       "2                      0                          0                 0   \n",
       "3                      0                          0                 0   \n",
       "4                      0                          0                 0   \n",
       "\n",
       "   v_estado_Sonora  v_estado_Tabasco  v_estado_Tamaulipas  v_estado_Tlaxcala  \\\n",
       "0                0                 0                    0                  0   \n",
       "1                0                 0                    0                  0   \n",
       "2                0                 0                    0                  0   \n",
       "3                0                 0                    0                  0   \n",
       "4                0                 0                    0                  0   \n",
       "\n",
       "   v_estado_Veracruz de Ignacio de la Llave  v_estado_YucatÃ¡n  \\\n",
       "0                                         0                  0   \n",
       "1                                         0                  0   \n",
       "2                                         0                  0   \n",
       "3                                         1                  0   \n",
       "4                                         0                  0   \n",
       "\n",
       "   v_estado_Zacatecas  \n",
       "0                   0  \n",
       "1                   0  \n",
       "2                   0  \n",
       "3                   0  \n",
       "4                   0  \n",
       "\n",
       "[5 rows x 84 columns]"
      ]
     },
     "execution_count": 15,
     "metadata": {},
     "output_type": "execute_result"
    }
   ],
   "source": [
    "X_train.head()"
   ]
  },
  {
   "cell_type": "code",
   "execution_count": 16,
   "metadata": {},
   "outputs": [
    {
     "data": {
      "text/plain": [
       "Index(['c_lat', 'c_lon', 'c_surface_covered_in_m2', 'c_poblacion',\n",
       "       'c_superficie', 'c_densidad', 'c_tasa', 'v_conteo_geo', 'v_anio_2015',\n",
       "       'v_anio_2016', 'v_mes_2', 'v_mes_3', 'v_mes_4', 'v_mes_5', 'v_mes_6',\n",
       "       'v_mes_7', 'v_mes_8', 'v_mes_9', 'v_mes_10', 'v_mes_11', 'v_mes_12',\n",
       "       'v_dia_semama_Jueves', 'v_dia_semama_Lunes', 'v_dia_semama_Martes',\n",
       "       'v_dia_semama_Miercoles', 'v_dia_semama_Sábado', 'v_dia_semama_Viernes',\n",
       "       'v_operation_sell', 'v_property_type_house', 'v_property_type_store',\n",
       "       'title_casa', 'title_centro', 'title_departamento', 'title_fracc',\n",
       "       'title_local', 'title_lomas', 'title_renta', 'title_residencial',\n",
       "       'title_san', 'title_venta', 'descr_baao', 'descr_br', 'descr_casa',\n",
       "       'descr_cocina', 'descr_comedor', 'descr_id', 'descr_nocnok',\n",
       "       'descr_recamaras', 'descr_sala', 'descr_sistema', 'v_region_norte',\n",
       "       'v_region_sur', 'v_tamanio_grande', 'v_tamanio_mediano',\n",
       "       'v_estado_Baja California', 'v_estado_Baja California Sur',\n",
       "       'v_estado_Campeche', 'v_estado_Chiapas', 'v_estado_Chihuahua',\n",
       "       'v_estado_Coahuila de Zaragoza', 'v_estado_Colima',\n",
       "       'v_estado_Distrito Federal', 'v_estado_Durango',\n",
       "       'v_estado_Estado de MÃ©xico', 'v_estado_Guanajuato',\n",
       "       'v_estado_Guerrero', 'v_estado_Hidalgo', 'v_estado_Jalisco',\n",
       "       'v_estado_Morelos', 'v_estado_Nayarit', 'v_estado_Nuevo LeÃ³n',\n",
       "       'v_estado_Oaxaca', 'v_estado_Puebla', 'v_estado_QuerÃ©taro',\n",
       "       'v_estado_Quintana Roo', 'v_estado_San Luis PotosÃ­',\n",
       "       'v_estado_Sinaloa', 'v_estado_Sonora', 'v_estado_Tabasco',\n",
       "       'v_estado_Tamaulipas', 'v_estado_Tlaxcala',\n",
       "       'v_estado_Veracruz de Ignacio de la Llave', 'v_estado_YucatÃ¡n',\n",
       "       'v_estado_Zacatecas'],\n",
       "      dtype='object')"
      ]
     },
     "execution_count": 16,
     "metadata": {},
     "output_type": "execute_result"
    }
   ],
   "source": [
    "X_train.columns"
   ]
  },
  {
   "cell_type": "markdown",
   "metadata": {},
   "source": [
    "## Standar Scaler"
   ]
  },
  {
   "cell_type": "code",
   "execution_count": 17,
   "metadata": {},
   "outputs": [],
   "source": [
    "X_train_feat_scal = X_train.iloc[:, 0:8]\n",
    "X_test_feat_scal = X_test.iloc[:, 0:8]\n",
    "col_names = X_train.iloc[:, 0:8].columns"
   ]
  },
  {
   "cell_type": "code",
   "execution_count": 18,
   "metadata": {},
   "outputs": [],
   "source": [
    "from sklearn.preprocessing import StandardScaler\n",
    "\n",
    "ss = StandardScaler()\n",
    "# X scaler\n",
    "X_train_ss = ss.fit_transform(X_train_feat_scal)\n",
    "X_test_ss = ss.transform(X_test_feat_scal)"
   ]
  },
  {
   "cell_type": "code",
   "execution_count": 19,
   "metadata": {},
   "outputs": [],
   "source": [
    "## unión de conjunto de datos\n",
    "X_train_ss = pd.DataFrame(X_train_ss, columns = col_names).join(X_train.iloc[:, 8:])\n",
    "X_test_ss = pd.DataFrame(X_test_ss, columns = col_names).join(X_test.iloc[:, 8:])"
   ]
  },
  {
   "cell_type": "code",
   "execution_count": 20,
   "metadata": {},
   "outputs": [
    {
     "name": "stderr",
     "output_type": "stream",
     "text": [
      "C:\\Users\\edavi\\Anaconda3\\lib\\site-packages\\sklearn\\utils\\validation.py:72: DataConversionWarning: A column-vector y was passed when a 1d array was expected. Please change the shape of y to (n_samples, ), for example using ravel().\n",
      "  return f(**kwargs)\n",
      "C:\\Users\\edavi\\Anaconda3\\lib\\site-packages\\sklearn\\feature_selection\\_univariate_selection.py:116: RuntimeWarning: divide by zero encountered in true_divide\n",
      "  f = msb / msw\n"
     ]
    },
    {
     "data": {
      "text/plain": [
       "'from sklearn.decomposition import PCA\\npca = PCA(15)\\npca.fit(X_train_ss, y_train)'"
      ]
     },
     "execution_count": 20,
     "metadata": {},
     "output_type": "execute_result"
    }
   ],
   "source": [
    "from sklearn.feature_selection import SelectKBest\n",
    "kb = SelectKBest(k = 53)\n",
    "kb.fit(X_train_ss, y_train)\n",
    "\n",
    "\"\"\"from sklearn.decomposition import PCA\n",
    "pca = PCA(15)\n",
    "pca.fit(X_train_ss, y_train)\"\"\""
   ]
  },
  {
   "cell_type": "code",
   "execution_count": 21,
   "metadata": {},
   "outputs": [
    {
     "data": {
      "text/plain": [
       "Index(['c_lat', 'c_lon', 'c_surface_covered_in_m2', 'c_poblacion',\n",
       "       'c_superficie', 'c_densidad', 'v_conteo_geo', 'v_anio_2015',\n",
       "       'v_anio_2016', 'v_mes_10', 'v_dia_semama_Sábado', 'v_operation_sell',\n",
       "       'v_property_type_house', 'v_property_type_store', 'title_casa',\n",
       "       'title_centro', 'title_departamento', 'title_local', 'title_lomas',\n",
       "       'title_renta', 'title_residencial', 'title_san', 'title_venta',\n",
       "       'descr_baao', 'descr_br', 'descr_casa', 'descr_cocina', 'descr_comedor',\n",
       "       'descr_id', 'descr_nocnok', 'descr_recamaras', 'descr_sala',\n",
       "       'descr_sistema', 'v_region_norte', 'v_tamanio_grande',\n",
       "       'v_tamanio_mediano', 'v_estado_Baja California',\n",
       "       'v_estado_Baja California Sur', 'v_estado_Chihuahua',\n",
       "       'v_estado_Coahuila de Zaragoza', 'v_estado_Colima',\n",
       "       'v_estado_Distrito Federal', 'v_estado_Durango',\n",
       "       'v_estado_Estado de MÃ©xico', 'v_estado_Hidalgo', 'v_estado_Jalisco',\n",
       "       'v_estado_Nayarit', 'v_estado_Nuevo LeÃ³n', 'v_estado_Puebla',\n",
       "       'v_estado_QuerÃ©taro', 'v_estado_Quintana Roo', 'v_estado_Sinaloa',\n",
       "       'v_estado_YucatÃ¡n'],\n",
       "      dtype='object')"
      ]
     },
     "execution_count": 21,
     "metadata": {},
     "output_type": "execute_result"
    }
   ],
   "source": [
    "X_train.columns[kb.get_support()]"
   ]
  },
  {
   "cell_type": "code",
   "execution_count": 22,
   "metadata": {},
   "outputs": [
    {
     "data": {
      "text/plain": [
       "'X_train_ss = pca.transform(X_train_ss)\\nX_test_ss = pca.transform(X_test_ss)'"
      ]
     },
     "execution_count": 22,
     "metadata": {},
     "output_type": "execute_result"
    }
   ],
   "source": [
    "X_train_ss = X_train_ss[X_train.columns[kb.get_support()]]\n",
    "X_test_ss = X_test_ss[X_train.columns[kb.get_support()]]\n",
    "\n",
    "\"\"\"X_train_ss = pca.transform(X_train_ss)\n",
    "X_test_ss = pca.transform(X_test_ss)\"\"\""
   ]
  },
  {
   "cell_type": "markdown",
   "metadata": {},
   "source": [
    "## Modelación"
   ]
  },
  {
   "cell_type": "markdown",
   "metadata": {},
   "source": [
    "### Métricas"
   ]
  },
  {
   "cell_type": "code",
   "execution_count": 23,
   "metadata": {},
   "outputs": [],
   "source": [
    "def metricas(y_true, y_pred):\n",
    "    print('R2 Score:' + str(r2_score(y_true, y_pred)))\n",
    "    print('MAE:' + str(mean_absolute_error(y_true, y_pred)))"
   ]
  },
  {
   "cell_type": "markdown",
   "metadata": {},
   "source": [
    "## LightGBM"
   ]
  },
  {
   "cell_type": "code",
   "execution_count": 24,
   "metadata": {},
   "outputs": [],
   "source": [
    "import lightgbm as lgb"
   ]
  },
  {
   "cell_type": "code",
   "execution_count": 25,
   "metadata": {},
   "outputs": [],
   "source": [
    "params = {'task': 'train',\n",
    "    'boosting_type': 'gbdt',\n",
    "    'objective': 'regression',\n",
    "    'metric': 'mse',\n",
    "    'learning_rate': 0.1,\n",
    "    'num_iterations': 500,\n",
    "    'num_threads': 8,      \n",
    "    'max_depth': 10,\n",
    "    'num_leaves': 15,\n",
    "    'feature_fraction': .7,\n",
    "    'bagging_fraction': .6,\n",
    "    'bagging_freq': 17}"
   ]
  },
  {
   "cell_type": "code",
   "execution_count": 26,
   "metadata": {},
   "outputs": [],
   "source": [
    "y_train_lgb = pd.Series(y_train.reshape(y_train.shape[0]))"
   ]
  },
  {
   "cell_type": "code",
   "execution_count": 27,
   "metadata": {},
   "outputs": [
    {
     "name": "stderr",
     "output_type": "stream",
     "text": [
      "C:\\Users\\edavi\\Anaconda3\\lib\\site-packages\\lightgbm\\engine.py:151: UserWarning: Found `num_iterations` in params. Will use it instead of argument\n",
      "  warnings.warn(\"Found `{}` in params. Will use it instead of argument\".format(alias))\n"
     ]
    },
    {
     "name": "stdout",
     "output_type": "stream",
     "text": [
      "[LightGBM] [Warning] Find whitespaces in feature_names, replace with underlines\n",
      "[LightGBM] [Warning] Auto-choosing row-wise multi-threading, the overhead of testing was 0.002839 seconds.\n",
      "You can set `force_row_wise=true` to remove the overhead.\n",
      "And if memory is not enough, you can set `force_col_wise=true`.\n",
      "[LightGBM] [Info] Total Bins 1310\n",
      "[LightGBM] [Info] Number of data points in the train set: 100547, number of used features: 50\n",
      "[LightGBM] [Info] Start training from score 1917108.835012\n"
     ]
    }
   ],
   "source": [
    "data_lgb = lgb.Dataset(X_train_ss, y_train_lgb)\n",
    "model_gbm = lgb.train(params, data_lgb)"
   ]
  },
  {
   "cell_type": "code",
   "execution_count": 28,
   "metadata": {},
   "outputs": [],
   "source": [
    "y_pred_train = model_gbm.predict(X_train_ss)\n",
    "y_pred_test = model_gbm.predict(X_test_ss)"
   ]
  },
  {
   "cell_type": "code",
   "execution_count": 29,
   "metadata": {},
   "outputs": [
    {
     "name": "stdout",
     "output_type": "stream",
     "text": [
      "Train Score\n",
      "R2 Score:0.8317968733971104\n",
      "MAE:486858.25827392004\n",
      "\n",
      "Test Score\n",
      "R2 Score:0.8103012975662316\n",
      "MAE:509605.02009181\n"
     ]
    }
   ],
   "source": [
    "print('Train Score')\n",
    "metricas(y_train, y_pred_train)\n",
    "print('')\n",
    "print('Test Score')\n",
    "metricas(y_test, y_pred_test)"
   ]
  },
  {
   "cell_type": "code",
   "execution_count": 30,
   "metadata": {},
   "outputs": [
    {
     "ename": "NameError",
     "evalue": "name 'bb' is not defined",
     "output_type": "error",
     "traceback": [
      "\u001b[1;31m---------------------------------------------------------------------------\u001b[0m",
      "\u001b[1;31mNameError\u001b[0m                                 Traceback (most recent call last)",
      "\u001b[1;32m<ipython-input-30-9619a9b308cd>\u001b[0m in \u001b[0;36m<module>\u001b[1;34m\u001b[0m\n\u001b[1;32m----> 1\u001b[1;33m \u001b[0mbb\u001b[0m\u001b[1;33m\u001b[0m\u001b[1;33m\u001b[0m\u001b[0m\n\u001b[0m",
      "\u001b[1;31mNameError\u001b[0m: name 'bb' is not defined"
     ]
    }
   ],
   "source": [
    "bb"
   ]
  },
  {
   "cell_type": "markdown",
   "metadata": {},
   "source": [
    "## Clasificación"
   ]
  },
  {
   "cell_type": "code",
   "execution_count": null,
   "metadata": {},
   "outputs": [],
   "source": [
    "from os import listdir\n",
    "from PIL import Image\n",
    "\n",
    "china = []\n",
    "\n",
    "for i in listdir('.\\data'):\n",
    "    file = '.\\\\data\\\\' + i\n",
    "    china.append(np.array(Image.open(file).resize(size = (28,28)).getdata()))"
   ]
  },
  {
   "cell_type": "code",
   "execution_count": null,
   "metadata": {},
   "outputs": [],
   "source": [
    "china = np.array(china)/255"
   ]
  },
  {
   "cell_type": "code",
   "execution_count": null,
   "metadata": {},
   "outputs": [],
   "source": [
    "y_china = pd.read_csv('chinese_mnist.csv')['value']"
   ]
  },
  {
   "cell_type": "code",
   "execution_count": null,
   "metadata": {},
   "outputs": [],
   "source": [
    "tranform_label = dict(zip(y_china.unique(), np.arange(0, 15)))\n",
    "y_china_trans = y_china.apply(lambda x: tranform_label[x])"
   ]
  },
  {
   "cell_type": "code",
   "execution_count": null,
   "metadata": {},
   "outputs": [],
   "source": [
    "from sklearn.model_selection import train_test_split\n",
    "\n",
    "X_train_c, X_test_c, y_train_c, y_test_c = train_test_split(china, y_china_trans, test_size = 0.2)"
   ]
  },
  {
   "cell_type": "markdown",
   "metadata": {},
   "source": [
    "### Train lgb"
   ]
  },
  {
   "cell_type": "code",
   "execution_count": null,
   "metadata": {},
   "outputs": [],
   "source": [
    "params_c = {'task': 'train',\n",
    "           'boosting_type': 'gbdt',\n",
    "           'objective': 'multiclass',\n",
    "           'num_iterations': 100,\n",
    "           'learning_rate': 0.01,\n",
    "           'num_threads': 8,\n",
    "           'max_depth': 20,\n",
    "           'num_leaves': 15,\n",
    "           'feature_fraction': 1,\n",
    "           'num_class': 15,\n",
    "           'metrics': 'multi_logloss'}"
   ]
  },
  {
   "cell_type": "code",
   "execution_count": null,
   "metadata": {},
   "outputs": [],
   "source": [
    "import lightgbm as lgb\n",
    "china_data = lgb.Dataset(X_train_c, y_train_c)"
   ]
  },
  {
   "cell_type": "code",
   "execution_count": null,
   "metadata": {},
   "outputs": [],
   "source": [
    "model_c = lgb.train(params_c, china_data)"
   ]
  },
  {
   "cell_type": "code",
   "execution_count": null,
   "metadata": {},
   "outputs": [],
   "source": [
    "y_train_pred_c = np.argmax(model_c.predict(X_train_c), axis = 1)\n",
    "y_test_pred_c = np.argmax(model_c.predict(X_test_c), axis = 1)\n",
    "\n",
    "print(accuracy_score(y_train_c, y_train_pred_c))\n",
    "print(accuracy_score(y_test_c, y_test_pred_c))"
   ]
  },
  {
   "cell_type": "markdown",
   "metadata": {},
   "source": [
    "## SVR"
   ]
  },
  {
   "cell_type": "code",
   "execution_count": 31,
   "metadata": {},
   "outputs": [
    {
     "name": "stderr",
     "output_type": "stream",
     "text": [
      "C:\\Users\\edavi\\Anaconda3\\lib\\site-packages\\sklearn\\utils\\validation.py:67: FutureWarning: Pass kernel=linear as keyword args. From version 0.25 passing these as positional arguments will result in an error\n",
      "  warnings.warn(\"Pass {} as keyword args. From version 0.25 \"\n"
     ]
    }
   ],
   "source": [
    "from sklearn.svm import SVR\n",
    "svr = SVR('linear', degree = 2, C = 1.0, max_iter = 1000)"
   ]
  },
  {
   "cell_type": "code",
   "execution_count": 33,
   "metadata": {},
   "outputs": [
    {
     "name": "stderr",
     "output_type": "stream",
     "text": [
      "C:\\Users\\edavi\\Anaconda3\\lib\\site-packages\\sklearn\\utils\\validation.py:72: DataConversionWarning: A column-vector y was passed when a 1d array was expected. Please change the shape of y to (n_samples, ), for example using ravel().\n",
      "  return f(**kwargs)\n",
      "C:\\Users\\edavi\\Anaconda3\\lib\\site-packages\\sklearn\\svm\\_base.py:246: ConvergenceWarning: Solver terminated early (max_iter=1000).  Consider pre-processing your data with StandardScaler or MinMaxScaler.\n",
      "  warnings.warn('Solver terminated early (max_iter=%i).'\n"
     ]
    },
    {
     "data": {
      "text/plain": [
       "SVR(degree=2, kernel='linear', max_iter=1000)"
      ]
     },
     "execution_count": 33,
     "metadata": {},
     "output_type": "execute_result"
    }
   ],
   "source": [
    "svr.fit(X_train_ss, y_train)"
   ]
  },
  {
   "cell_type": "code",
   "execution_count": 34,
   "metadata": {},
   "outputs": [],
   "source": [
    "y_pred_train_svr = svr.predict(X_train_ss)\n",
    "y_pred_test_svr = svr.predict(X_test_ss)"
   ]
  },
  {
   "cell_type": "code",
   "execution_count": 35,
   "metadata": {},
   "outputs": [
    {
     "name": "stdout",
     "output_type": "stream",
     "text": [
      "Train Score\n",
      "R2 Score:-1.5511121328760544\n",
      "MAE:2846081.168105085\n",
      "\n",
      "Test Score\n",
      "R2 Score:-1.6113832807653292\n",
      "MAE:2852279.5351990107\n"
     ]
    }
   ],
   "source": [
    "print('Train Score')\n",
    "metricas(y_train, y_pred_train_svr)\n",
    "print('')\n",
    "print('Test Score')\n",
    "metricas(y_test, y_pred_test_svr)"
   ]
  }
 ],
 "metadata": {
  "kernelspec": {
   "display_name": "Python 3",
   "language": "python",
   "name": "python3"
  },
  "language_info": {
   "codemirror_mode": {
    "name": "ipython",
    "version": 3
   },
   "file_extension": ".py",
   "mimetype": "text/x-python",
   "name": "python",
   "nbconvert_exporter": "python",
   "pygments_lexer": "ipython3",
   "version": "3.8.5"
  }
 },
 "nbformat": 4,
 "nbformat_minor": 4
}
