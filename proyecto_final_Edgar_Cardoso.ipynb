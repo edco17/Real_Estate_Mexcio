{
 "cells": [
  {
   "cell_type": "markdown",
   "metadata": {},
   "source": [
    "# Proyecto Final Bienes Raices Mexico 2013-2016"
   ]
  },
  {
   "cell_type": "markdown",
   "metadata": {},
   "source": [
    "## Librerias"
   ]
  },
  {
   "cell_type": "code",
   "execution_count": 67,
   "metadata": {},
   "outputs": [],
   "source": [
    "import pandas as pd\n",
    "import numpy as np\n",
    "import matplotlib.pyplot as plt\n",
    "import seaborn as sns"
   ]
  },
  {
   "cell_type": "markdown",
   "metadata": {},
   "source": [
    "## Importar Datos de Ventas y Rentas de Bienes Raices en Mexico de 2013 a 2016"
   ]
  },
  {
   "cell_type": "code",
   "execution_count": 2,
   "metadata": {},
   "outputs": [
    {
     "data": {
      "text/html": [
       "<div>\n",
       "<style scoped>\n",
       "    .dataframe tbody tr th:only-of-type {\n",
       "        vertical-align: middle;\n",
       "    }\n",
       "\n",
       "    .dataframe tbody tr th {\n",
       "        vertical-align: top;\n",
       "    }\n",
       "\n",
       "    .dataframe thead th {\n",
       "        text-align: right;\n",
       "    }\n",
       "</style>\n",
       "<table border=\"1\" class=\"dataframe\">\n",
       "  <thead>\n",
       "    <tr style=\"text-align: right;\">\n",
       "      <th></th>\n",
       "      <th>created_on</th>\n",
       "      <th>operation</th>\n",
       "      <th>property_type</th>\n",
       "      <th>place_name</th>\n",
       "      <th>place_with_parent_names</th>\n",
       "      <th>geonames_id</th>\n",
       "      <th>lat-lon</th>\n",
       "      <th>lat</th>\n",
       "      <th>lon</th>\n",
       "      <th>price</th>\n",
       "      <th>...</th>\n",
       "      <th>surface_covered_in_m2</th>\n",
       "      <th>price_usd_per_m2</th>\n",
       "      <th>price_per_m2</th>\n",
       "      <th>floor</th>\n",
       "      <th>rooms</th>\n",
       "      <th>expenses</th>\n",
       "      <th>properati_url</th>\n",
       "      <th>description</th>\n",
       "      <th>title</th>\n",
       "      <th>image_thumbnail</th>\n",
       "    </tr>\n",
       "  </thead>\n",
       "  <tbody>\n",
       "    <tr>\n",
       "      <th>0</th>\n",
       "      <td>19/09/2013</td>\n",
       "      <td>sell</td>\n",
       "      <td>apartment</td>\n",
       "      <td>Nuevo Centro Urbano</td>\n",
       "      <td>|MÃ©xico|Quintana Roo|Solidaridad|Playa del Ca...</td>\n",
       "      <td>NaN</td>\n",
       "      <td>20.627527,-87.076686</td>\n",
       "      <td>20.627527</td>\n",
       "      <td>-87.076686</td>\n",
       "      <td>269000.0</td>\n",
       "      <td>...</td>\n",
       "      <td>110.0</td>\n",
       "      <td>2445.454545</td>\n",
       "      <td>2445.454545</td>\n",
       "      <td>NaN</td>\n",
       "      <td>NaN</td>\n",
       "      <td>NaN</td>\n",
       "      <td>http://nuevo-centro-urbano.properati.com.mx/o6...</td>\n",
       "      <td>Referencia #28010. En el centro de Playa del C...</td>\n",
       "      <td>Departamento en Venta. Ref. #28010. 3 Dormitor...</td>\n",
       "      <td>https://thumbs-cf.properati.com/3/q4Ws9xQT8Yu3...</td>\n",
       "    </tr>\n",
       "    <tr>\n",
       "      <th>1</th>\n",
       "      <td>19/09/2013</td>\n",
       "      <td>sell</td>\n",
       "      <td>apartment</td>\n",
       "      <td>Nuevo Centro Urbano</td>\n",
       "      <td>|MÃ©xico|Quintana Roo|Solidaridad|Playa del Ca...</td>\n",
       "      <td>NaN</td>\n",
       "      <td>20.627567,-87.076718</td>\n",
       "      <td>20.627567</td>\n",
       "      <td>-87.076718</td>\n",
       "      <td>230000.0</td>\n",
       "      <td>...</td>\n",
       "      <td>110.0</td>\n",
       "      <td>2090.909091</td>\n",
       "      <td>2090.909091</td>\n",
       "      <td>NaN</td>\n",
       "      <td>NaN</td>\n",
       "      <td>NaN</td>\n",
       "      <td>http://nuevo-centro-urbano.properati.com.mx/o8...</td>\n",
       "      <td>Referencia #28925. En el centro de Playa del C...</td>\n",
       "      <td>Departamento en Venta. Ref. #28925. 3 Dormitor...</td>\n",
       "      <td>https://thumbs-cf.properati.com/8/7W4OI5hIXPdY...</td>\n",
       "    </tr>\n",
       "    <tr>\n",
       "      <th>2</th>\n",
       "      <td>19/09/2013</td>\n",
       "      <td>sell</td>\n",
       "      <td>apartment</td>\n",
       "      <td>Nuevo Centro Urbano</td>\n",
       "      <td>|MÃ©xico|Quintana Roo|Solidaridad|Playa del Ca...</td>\n",
       "      <td>NaN</td>\n",
       "      <td>20.6267,-87.075866</td>\n",
       "      <td>20.626700</td>\n",
       "      <td>-87.075866</td>\n",
       "      <td>135000.0</td>\n",
       "      <td>...</td>\n",
       "      <td>41.0</td>\n",
       "      <td>3292.682927</td>\n",
       "      <td>3292.682927</td>\n",
       "      <td>NaN</td>\n",
       "      <td>NaN</td>\n",
       "      <td>NaN</td>\n",
       "      <td>http://nuevo-centro-urbano.properati.com.mx/o9...</td>\n",
       "      <td>Referencia #29031. La Papaya un proyecto altam...</td>\n",
       "      <td>Departamento en Venta. Ref. #29031. 1 Dormitor...</td>\n",
       "      <td>https://thumbs-cf.properati.com/0/4h1_ZbVNWly0...</td>\n",
       "    </tr>\n",
       "    <tr>\n",
       "      <th>3</th>\n",
       "      <td>19/09/2013</td>\n",
       "      <td>sell</td>\n",
       "      <td>apartment</td>\n",
       "      <td>Playa del Carmen</td>\n",
       "      <td>|MÃ©xico|Quintana Roo|Solidaridad|Playa del Ca...</td>\n",
       "      <td>NaN</td>\n",
       "      <td>20.635482,-87.070345</td>\n",
       "      <td>20.635482</td>\n",
       "      <td>-87.070345</td>\n",
       "      <td>185000.0</td>\n",
       "      <td>...</td>\n",
       "      <td>122.0</td>\n",
       "      <td>1516.393443</td>\n",
       "      <td>1516.393443</td>\n",
       "      <td>NaN</td>\n",
       "      <td>NaN</td>\n",
       "      <td>NaN</td>\n",
       "      <td>http://playa-del-carmen-playa-del-carmen.prope...</td>\n",
       "      <td>Referencia #29032. Visite las nuevas Acqua Ter...</td>\n",
       "      <td>Departamento en Venta. Ref. #29032. 2 Dormitor...</td>\n",
       "      <td>https://thumbs-cf.properati.com/0/Mxv1JulyoQBM...</td>\n",
       "    </tr>\n",
       "    <tr>\n",
       "      <th>4</th>\n",
       "      <td>19/09/2013</td>\n",
       "      <td>sell</td>\n",
       "      <td>apartment</td>\n",
       "      <td>Nuevo Centro Urbano</td>\n",
       "      <td>|MÃ©xico|Quintana Roo|Solidaridad|Playa del Ca...</td>\n",
       "      <td>NaN</td>\n",
       "      <td>20.629092,-87.074658</td>\n",
       "      <td>20.629092</td>\n",
       "      <td>-87.074658</td>\n",
       "      <td>180000.0</td>\n",
       "      <td>...</td>\n",
       "      <td>NaN</td>\n",
       "      <td>NaN</td>\n",
       "      <td>NaN</td>\n",
       "      <td>NaN</td>\n",
       "      <td>NaN</td>\n",
       "      <td>NaN</td>\n",
       "      <td>http://nuevo-centro-urbano.properati.com.mx/ok...</td>\n",
       "      <td>Referencia #33970. TodavÃ­a tenemos algunas un...</td>\n",
       "      <td>Departamento en Venta. Ref. #33970. Encanto Ri...</td>\n",
       "      <td>https://thumbs-cf.properati.com/9/jzkZFLJUFVEw...</td>\n",
       "    </tr>\n",
       "  </tbody>\n",
       "</table>\n",
       "<p>5 rows × 24 columns</p>\n",
       "</div>"
      ],
      "text/plain": [
       "   created_on operation property_type           place_name  \\\n",
       "0  19/09/2013      sell     apartment  Nuevo Centro Urbano   \n",
       "1  19/09/2013      sell     apartment  Nuevo Centro Urbano   \n",
       "2  19/09/2013      sell     apartment  Nuevo Centro Urbano   \n",
       "3  19/09/2013      sell     apartment     Playa del Carmen   \n",
       "4  19/09/2013      sell     apartment  Nuevo Centro Urbano   \n",
       "\n",
       "                             place_with_parent_names  geonames_id  \\\n",
       "0  |MÃ©xico|Quintana Roo|Solidaridad|Playa del Ca...          NaN   \n",
       "1  |MÃ©xico|Quintana Roo|Solidaridad|Playa del Ca...          NaN   \n",
       "2  |MÃ©xico|Quintana Roo|Solidaridad|Playa del Ca...          NaN   \n",
       "3  |MÃ©xico|Quintana Roo|Solidaridad|Playa del Ca...          NaN   \n",
       "4  |MÃ©xico|Quintana Roo|Solidaridad|Playa del Ca...          NaN   \n",
       "\n",
       "                lat-lon        lat        lon     price  ...  \\\n",
       "0  20.627527,-87.076686  20.627527 -87.076686  269000.0  ...   \n",
       "1  20.627567,-87.076718  20.627567 -87.076718  230000.0  ...   \n",
       "2    20.6267,-87.075866  20.626700 -87.075866  135000.0  ...   \n",
       "3  20.635482,-87.070345  20.635482 -87.070345  185000.0  ...   \n",
       "4  20.629092,-87.074658  20.629092 -87.074658  180000.0  ...   \n",
       "\n",
       "  surface_covered_in_m2  price_usd_per_m2  price_per_m2  floor  rooms  \\\n",
       "0                 110.0       2445.454545   2445.454545    NaN    NaN   \n",
       "1                 110.0       2090.909091   2090.909091    NaN    NaN   \n",
       "2                  41.0       3292.682927   3292.682927    NaN    NaN   \n",
       "3                 122.0       1516.393443   1516.393443    NaN    NaN   \n",
       "4                   NaN               NaN           NaN    NaN    NaN   \n",
       "\n",
       "   expenses                                      properati_url  \\\n",
       "0       NaN  http://nuevo-centro-urbano.properati.com.mx/o6...   \n",
       "1       NaN  http://nuevo-centro-urbano.properati.com.mx/o8...   \n",
       "2       NaN  http://nuevo-centro-urbano.properati.com.mx/o9...   \n",
       "3       NaN  http://playa-del-carmen-playa-del-carmen.prope...   \n",
       "4       NaN  http://nuevo-centro-urbano.properati.com.mx/ok...   \n",
       "\n",
       "                                         description  \\\n",
       "0  Referencia #28010. En el centro de Playa del C...   \n",
       "1  Referencia #28925. En el centro de Playa del C...   \n",
       "2  Referencia #29031. La Papaya un proyecto altam...   \n",
       "3  Referencia #29032. Visite las nuevas Acqua Ter...   \n",
       "4  Referencia #33970. TodavÃ­a tenemos algunas un...   \n",
       "\n",
       "                                               title  \\\n",
       "0  Departamento en Venta. Ref. #28010. 3 Dormitor...   \n",
       "1  Departamento en Venta. Ref. #28925. 3 Dormitor...   \n",
       "2  Departamento en Venta. Ref. #29031. 1 Dormitor...   \n",
       "3  Departamento en Venta. Ref. #29032. 2 Dormitor...   \n",
       "4  Departamento en Venta. Ref. #33970. Encanto Ri...   \n",
       "\n",
       "                                     image_thumbnail  \n",
       "0  https://thumbs-cf.properati.com/3/q4Ws9xQT8Yu3...  \n",
       "1  https://thumbs-cf.properati.com/8/7W4OI5hIXPdY...  \n",
       "2  https://thumbs-cf.properati.com/0/4h1_ZbVNWly0...  \n",
       "3  https://thumbs-cf.properati.com/0/Mxv1JulyoQBM...  \n",
       "4  https://thumbs-cf.properati.com/9/jzkZFLJUFVEw...  \n",
       "\n",
       "[5 rows x 24 columns]"
      ]
     },
     "execution_count": 2,
     "metadata": {},
     "output_type": "execute_result"
    }
   ],
   "source": [
    "# Se utiliza el 'latin' encoding ya que contiene descripciones de los inmuebles\n",
    "data = pd.read_csv('real_estate_mex_2013_2016.csv', encoding = 'latin')\n",
    "data.head()"
   ]
  },
  {
   "cell_type": "markdown",
   "metadata": {},
   "source": [
    "## Analisis de Tabla de Datos"
   ]
  },
  {
   "cell_type": "code",
   "execution_count": 3,
   "metadata": {},
   "outputs": [
    {
     "name": "stdout",
     "output_type": "stream",
     "text": [
      "<class 'pandas.core.frame.DataFrame'>\n",
      "RangeIndex: 188525 entries, 0 to 188524\n",
      "Data columns (total 24 columns):\n",
      " #   Column                      Non-Null Count   Dtype  \n",
      "---  ------                      --------------   -----  \n",
      " 0   created_on                  188525 non-null  object \n",
      " 1   operation                   188525 non-null  object \n",
      " 2   property_type               188525 non-null  object \n",
      " 3   place_name                  188525 non-null  object \n",
      " 4   place_with_parent_names     188525 non-null  object \n",
      " 5   geonames_id                 1 non-null       float64\n",
      " 6   lat-lon                     156591 non-null  object \n",
      " 7   lat                         156591 non-null  float64\n",
      " 8   lon                         156591 non-null  float64\n",
      " 9   price                       185911 non-null  float64\n",
      " 10  currency                    185911 non-null  object \n",
      " 11  price_aprox_local_currency  185911 non-null  float64\n",
      " 12  price_aprox_usd             185911 non-null  float64\n",
      " 13  surface_total_in_m2         97631 non-null   float64\n",
      " 14  surface_covered_in_m2       181082 non-null  float64\n",
      " 15  price_usd_per_m2            77691 non-null   float64\n",
      " 16  price_per_m2                167355 non-null  float64\n",
      " 17  floor                       28715 non-null   float64\n",
      " 18  rooms                       6076 non-null    float64\n",
      " 19  expenses                    207 non-null     float64\n",
      " 20  properati_url               188525 non-null  object \n",
      " 21  description                 188525 non-null  object \n",
      " 22  title                       188525 non-null  object \n",
      " 23  image_thumbnail             183003 non-null  object \n",
      "dtypes: float64(13), object(11)\n",
      "memory usage: 34.5+ MB\n"
     ]
    }
   ],
   "source": [
    "data.info()"
   ]
  },
  {
   "cell_type": "markdown",
   "metadata": {},
   "source": [
    "_Observamos que existen 188,525 registros en total, con variables como fechas, tipo de operaciones, tipo de propiedad, nombre del lugar, descripción más detallada del lugar, variables geograficas, precio, moneda, superficie, piso, numero de habitaciones, descripciones, etc._"
   ]
  },
  {
   "cell_type": "markdown",
   "metadata": {},
   "source": [
    "## Datos Nulos por Variable"
   ]
  },
  {
   "cell_type": "code",
   "execution_count": 4,
   "metadata": {},
   "outputs": [
    {
     "data": {
      "text/html": [
       "<div>\n",
       "<style scoped>\n",
       "    .dataframe tbody tr th:only-of-type {\n",
       "        vertical-align: middle;\n",
       "    }\n",
       "\n",
       "    .dataframe tbody tr th {\n",
       "        vertical-align: top;\n",
       "    }\n",
       "\n",
       "    .dataframe thead th {\n",
       "        text-align: right;\n",
       "    }\n",
       "</style>\n",
       "<table border=\"1\" class=\"dataframe\">\n",
       "  <thead>\n",
       "    <tr style=\"text-align: right;\">\n",
       "      <th></th>\n",
       "      <th>Nulos</th>\n",
       "      <th>%_Nulos</th>\n",
       "    </tr>\n",
       "  </thead>\n",
       "  <tbody>\n",
       "    <tr>\n",
       "      <th>created_on</th>\n",
       "      <td>0</td>\n",
       "      <td>0.00</td>\n",
       "    </tr>\n",
       "    <tr>\n",
       "      <th>operation</th>\n",
       "      <td>0</td>\n",
       "      <td>0.00</td>\n",
       "    </tr>\n",
       "    <tr>\n",
       "      <th>property_type</th>\n",
       "      <td>0</td>\n",
       "      <td>0.00</td>\n",
       "    </tr>\n",
       "    <tr>\n",
       "      <th>place_name</th>\n",
       "      <td>0</td>\n",
       "      <td>0.00</td>\n",
       "    </tr>\n",
       "    <tr>\n",
       "      <th>place_with_parent_names</th>\n",
       "      <td>0</td>\n",
       "      <td>0.00</td>\n",
       "    </tr>\n",
       "    <tr>\n",
       "      <th>geonames_id</th>\n",
       "      <td>188524</td>\n",
       "      <td>100.00</td>\n",
       "    </tr>\n",
       "    <tr>\n",
       "      <th>lat-lon</th>\n",
       "      <td>31934</td>\n",
       "      <td>16.94</td>\n",
       "    </tr>\n",
       "    <tr>\n",
       "      <th>lat</th>\n",
       "      <td>31934</td>\n",
       "      <td>16.94</td>\n",
       "    </tr>\n",
       "    <tr>\n",
       "      <th>lon</th>\n",
       "      <td>31934</td>\n",
       "      <td>16.94</td>\n",
       "    </tr>\n",
       "    <tr>\n",
       "      <th>price</th>\n",
       "      <td>2614</td>\n",
       "      <td>1.39</td>\n",
       "    </tr>\n",
       "    <tr>\n",
       "      <th>currency</th>\n",
       "      <td>2614</td>\n",
       "      <td>1.39</td>\n",
       "    </tr>\n",
       "    <tr>\n",
       "      <th>price_aprox_local_currency</th>\n",
       "      <td>2614</td>\n",
       "      <td>1.39</td>\n",
       "    </tr>\n",
       "    <tr>\n",
       "      <th>price_aprox_usd</th>\n",
       "      <td>2614</td>\n",
       "      <td>1.39</td>\n",
       "    </tr>\n",
       "    <tr>\n",
       "      <th>surface_total_in_m2</th>\n",
       "      <td>90894</td>\n",
       "      <td>48.21</td>\n",
       "    </tr>\n",
       "    <tr>\n",
       "      <th>surface_covered_in_m2</th>\n",
       "      <td>7443</td>\n",
       "      <td>3.95</td>\n",
       "    </tr>\n",
       "    <tr>\n",
       "      <th>price_usd_per_m2</th>\n",
       "      <td>110834</td>\n",
       "      <td>58.79</td>\n",
       "    </tr>\n",
       "    <tr>\n",
       "      <th>price_per_m2</th>\n",
       "      <td>21170</td>\n",
       "      <td>11.23</td>\n",
       "    </tr>\n",
       "    <tr>\n",
       "      <th>floor</th>\n",
       "      <td>159810</td>\n",
       "      <td>84.77</td>\n",
       "    </tr>\n",
       "    <tr>\n",
       "      <th>rooms</th>\n",
       "      <td>182449</td>\n",
       "      <td>96.78</td>\n",
       "    </tr>\n",
       "    <tr>\n",
       "      <th>expenses</th>\n",
       "      <td>188318</td>\n",
       "      <td>99.89</td>\n",
       "    </tr>\n",
       "    <tr>\n",
       "      <th>properati_url</th>\n",
       "      <td>0</td>\n",
       "      <td>0.00</td>\n",
       "    </tr>\n",
       "    <tr>\n",
       "      <th>description</th>\n",
       "      <td>0</td>\n",
       "      <td>0.00</td>\n",
       "    </tr>\n",
       "    <tr>\n",
       "      <th>title</th>\n",
       "      <td>0</td>\n",
       "      <td>0.00</td>\n",
       "    </tr>\n",
       "    <tr>\n",
       "      <th>image_thumbnail</th>\n",
       "      <td>5522</td>\n",
       "      <td>2.93</td>\n",
       "    </tr>\n",
       "  </tbody>\n",
       "</table>\n",
       "</div>"
      ],
      "text/plain": [
       "                             Nulos  %_Nulos\n",
       "created_on                       0     0.00\n",
       "operation                        0     0.00\n",
       "property_type                    0     0.00\n",
       "place_name                       0     0.00\n",
       "place_with_parent_names          0     0.00\n",
       "geonames_id                 188524   100.00\n",
       "lat-lon                      31934    16.94\n",
       "lat                          31934    16.94\n",
       "lon                          31934    16.94\n",
       "price                         2614     1.39\n",
       "currency                      2614     1.39\n",
       "price_aprox_local_currency    2614     1.39\n",
       "price_aprox_usd               2614     1.39\n",
       "surface_total_in_m2          90894    48.21\n",
       "surface_covered_in_m2         7443     3.95\n",
       "price_usd_per_m2            110834    58.79\n",
       "price_per_m2                 21170    11.23\n",
       "floor                       159810    84.77\n",
       "rooms                       182449    96.78\n",
       "expenses                    188318    99.89\n",
       "properati_url                    0     0.00\n",
       "description                      0     0.00\n",
       "title                            0     0.00\n",
       "image_thumbnail               5522     2.93"
      ]
     },
     "execution_count": 4,
     "metadata": {},
     "output_type": "execute_result"
    }
   ],
   "source": [
    "# Suma de Nulos por variable\n",
    "nulos = pd.DataFrame(data.isnull().sum(), columns = ['Nulos'])\n",
    "# Agrega porcentaje de nulos con respecto al total de registros\n",
    "nulos['%_Nulos'] = round(nulos['Nulos']/data.shape[0] * 100, 2).values\n",
    "nulos"
   ]
  },
  {
   "cell_type": "markdown",
   "metadata": {},
   "source": [
    "_Algunas variables como geonames_id que tiene un solo dato o expense con 207 datos seran eliminados ya que contienen mas del 90% de información nula_"
   ]
  },
  {
   "cell_type": "markdown",
   "metadata": {},
   "source": [
    "## Eliminar Variables con un Porcentaje Mayor del 50% de Informacion Nula"
   ]
  },
  {
   "cell_type": "code",
   "execution_count": 5,
   "metadata": {},
   "outputs": [
    {
     "data": {
      "text/plain": [
       "created_on                     0.00\n",
       "operation                      0.00\n",
       "property_type                  0.00\n",
       "place_name                     0.00\n",
       "place_with_parent_names        0.00\n",
       "lat-lon                       16.94\n",
       "lat                           16.94\n",
       "lon                           16.94\n",
       "price                          1.39\n",
       "currency                       1.39\n",
       "price_aprox_local_currency     1.39\n",
       "price_aprox_usd                1.39\n",
       "surface_total_in_m2           48.21\n",
       "surface_covered_in_m2          3.95\n",
       "price_per_m2                  11.23\n",
       "properati_url                  0.00\n",
       "description                    0.00\n",
       "title                          0.00\n",
       "image_thumbnail                2.93\n",
       "dtype: float64"
      ]
     },
     "execution_count": 5,
     "metadata": {},
     "output_type": "execute_result"
    }
   ],
   "source": [
    "# Nombres de columnas mayores con más del 50% de nulos\n",
    "col_null = nulos[nulos['%_Nulos'] > 50].index\n",
    "\n",
    "# Eliminar dichas columnas del data frame original\n",
    "df = data.drop(col_null, axis = 1)\n",
    "\n",
    "# Porcentaje de Nulos\n",
    "round(df.isnull().sum()/df.shape[0] * 100, 2)"
   ]
  },
  {
   "cell_type": "markdown",
   "metadata": {},
   "source": [
    "## Analisis y Separación de la Variable place_with_parent_names"
   ]
  },
  {
   "cell_type": "code",
   "execution_count": 6,
   "metadata": {},
   "outputs": [
    {
     "data": {
      "text/plain": [
       "'|MÃ©xico|Quintana Roo|Solidaridad|Playa del Carmen|Nuevo Centro Urbano|'"
      ]
     },
     "execution_count": 6,
     "metadata": {},
     "output_type": "execute_result"
    }
   ],
   "source": [
    "df['place_with_parent_names'][0]"
   ]
  },
  {
   "cell_type": "markdown",
   "metadata": {},
   "source": [
    "_En la mayoria de los casos los nombres se dividen en país, estados, municipio y colonia_"
   ]
  },
  {
   "cell_type": "code",
   "execution_count": 7,
   "metadata": {},
   "outputs": [
    {
     "data": {
      "text/plain": [
       "4    139874\n",
       "5     35146\n",
       "6      8989\n",
       "3      4516\n",
       "Name: place_with_parent_names, dtype: int64"
      ]
     },
     "execution_count": 7,
     "metadata": {},
     "output_type": "execute_result"
    }
   ],
   "source": [
    "# Número de Registros en la mayoría de los casos\n",
    "df['place_with_parent_names'].map(lambda x: len(x.split('|')[1:])).value_counts()"
   ]
  },
  {
   "cell_type": "markdown",
   "metadata": {},
   "source": [
    "_Se utilizaran los 4 primeros datos en cada uno de los registros, al ser un a analisis de Mexico se eliminaran las columnas con distintos pais, la columna pais sera eliminada_"
   ]
  },
  {
   "cell_type": "code",
   "execution_count": 8,
   "metadata": {},
   "outputs": [],
   "source": [
    "pais = df['place_with_parent_names'].map(lambda x: x.split('|')[1])\n",
    "estado = df['place_with_parent_names'].map(lambda x: x.split('|')[2])\n",
    "municipio = df['place_with_parent_names'].map(lambda x: x.split('|')[3])\n",
    "colonia = df['place_with_parent_names'].map(lambda x: x.split('|')[4:])"
   ]
  },
  {
   "cell_type": "code",
   "execution_count": 9,
   "metadata": {},
   "outputs": [],
   "source": [
    "# Relleno de Nan\n",
    "for i in range(len(colonia)):\n",
    "    try:\n",
    "        # Si la colonia es vacia\n",
    "        if colonia[i][0] == '':\n",
    "            colonia[i][0] = np.nan\n",
    "    except:\n",
    "        # Si no existe la colina\n",
    "        colonia[i].append(np.nan)"
   ]
  },
  {
   "cell_type": "code",
   "execution_count": 10,
   "metadata": {},
   "outputs": [],
   "source": [
    "# Solo un elemento\n",
    "colonia = colonia.map(lambda x: x[0])"
   ]
  },
  {
   "cell_type": "code",
   "execution_count": 11,
   "metadata": {},
   "outputs": [],
   "source": [
    "# Agregar nuevos elementos al data frame\n",
    "df['pais'] = pais\n",
    "df['estado'] = estado\n",
    "df['municipio'] = municipio\n",
    "df['colonia'] = colonia"
   ]
  },
  {
   "cell_type": "code",
   "execution_count": 12,
   "metadata": {},
   "outputs": [
    {
     "data": {
      "text/html": [
       "<div>\n",
       "<style scoped>\n",
       "    .dataframe tbody tr th:only-of-type {\n",
       "        vertical-align: middle;\n",
       "    }\n",
       "\n",
       "    .dataframe tbody tr th {\n",
       "        vertical-align: top;\n",
       "    }\n",
       "\n",
       "    .dataframe thead th {\n",
       "        text-align: right;\n",
       "    }\n",
       "</style>\n",
       "<table border=\"1\" class=\"dataframe\">\n",
       "  <thead>\n",
       "    <tr style=\"text-align: right;\">\n",
       "      <th></th>\n",
       "      <th>created_on</th>\n",
       "      <th>operation</th>\n",
       "      <th>property_type</th>\n",
       "      <th>place_name</th>\n",
       "      <th>place_with_parent_names</th>\n",
       "      <th>lat-lon</th>\n",
       "      <th>lat</th>\n",
       "      <th>lon</th>\n",
       "      <th>price</th>\n",
       "      <th>currency</th>\n",
       "      <th>...</th>\n",
       "      <th>surface_covered_in_m2</th>\n",
       "      <th>price_per_m2</th>\n",
       "      <th>properati_url</th>\n",
       "      <th>description</th>\n",
       "      <th>title</th>\n",
       "      <th>image_thumbnail</th>\n",
       "      <th>pais</th>\n",
       "      <th>estado</th>\n",
       "      <th>municipio</th>\n",
       "      <th>colonia</th>\n",
       "    </tr>\n",
       "  </thead>\n",
       "  <tbody>\n",
       "    <tr>\n",
       "      <th>0</th>\n",
       "      <td>19/09/2013</td>\n",
       "      <td>sell</td>\n",
       "      <td>apartment</td>\n",
       "      <td>Nuevo Centro Urbano</td>\n",
       "      <td>|MÃ©xico|Quintana Roo|Solidaridad|Playa del Ca...</td>\n",
       "      <td>20.627527,-87.076686</td>\n",
       "      <td>20.627527</td>\n",
       "      <td>-87.076686</td>\n",
       "      <td>269000.0</td>\n",
       "      <td>USD</td>\n",
       "      <td>...</td>\n",
       "      <td>110.0</td>\n",
       "      <td>2445.454545</td>\n",
       "      <td>http://nuevo-centro-urbano.properati.com.mx/o6...</td>\n",
       "      <td>Referencia #28010. En el centro de Playa del C...</td>\n",
       "      <td>Departamento en Venta. Ref. #28010. 3 Dormitor...</td>\n",
       "      <td>https://thumbs-cf.properati.com/3/q4Ws9xQT8Yu3...</td>\n",
       "      <td>MÃ©xico</td>\n",
       "      <td>Quintana Roo</td>\n",
       "      <td>Solidaridad</td>\n",
       "      <td>Playa del Carmen</td>\n",
       "    </tr>\n",
       "    <tr>\n",
       "      <th>1</th>\n",
       "      <td>19/09/2013</td>\n",
       "      <td>sell</td>\n",
       "      <td>apartment</td>\n",
       "      <td>Nuevo Centro Urbano</td>\n",
       "      <td>|MÃ©xico|Quintana Roo|Solidaridad|Playa del Ca...</td>\n",
       "      <td>20.627567,-87.076718</td>\n",
       "      <td>20.627567</td>\n",
       "      <td>-87.076718</td>\n",
       "      <td>230000.0</td>\n",
       "      <td>USD</td>\n",
       "      <td>...</td>\n",
       "      <td>110.0</td>\n",
       "      <td>2090.909091</td>\n",
       "      <td>http://nuevo-centro-urbano.properati.com.mx/o8...</td>\n",
       "      <td>Referencia #28925. En el centro de Playa del C...</td>\n",
       "      <td>Departamento en Venta. Ref. #28925. 3 Dormitor...</td>\n",
       "      <td>https://thumbs-cf.properati.com/8/7W4OI5hIXPdY...</td>\n",
       "      <td>MÃ©xico</td>\n",
       "      <td>Quintana Roo</td>\n",
       "      <td>Solidaridad</td>\n",
       "      <td>Playa del Carmen</td>\n",
       "    </tr>\n",
       "    <tr>\n",
       "      <th>2</th>\n",
       "      <td>19/09/2013</td>\n",
       "      <td>sell</td>\n",
       "      <td>apartment</td>\n",
       "      <td>Nuevo Centro Urbano</td>\n",
       "      <td>|MÃ©xico|Quintana Roo|Solidaridad|Playa del Ca...</td>\n",
       "      <td>20.6267,-87.075866</td>\n",
       "      <td>20.626700</td>\n",
       "      <td>-87.075866</td>\n",
       "      <td>135000.0</td>\n",
       "      <td>USD</td>\n",
       "      <td>...</td>\n",
       "      <td>41.0</td>\n",
       "      <td>3292.682927</td>\n",
       "      <td>http://nuevo-centro-urbano.properati.com.mx/o9...</td>\n",
       "      <td>Referencia #29031. La Papaya un proyecto altam...</td>\n",
       "      <td>Departamento en Venta. Ref. #29031. 1 Dormitor...</td>\n",
       "      <td>https://thumbs-cf.properati.com/0/4h1_ZbVNWly0...</td>\n",
       "      <td>MÃ©xico</td>\n",
       "      <td>Quintana Roo</td>\n",
       "      <td>Solidaridad</td>\n",
       "      <td>Playa del Carmen</td>\n",
       "    </tr>\n",
       "    <tr>\n",
       "      <th>3</th>\n",
       "      <td>19/09/2013</td>\n",
       "      <td>sell</td>\n",
       "      <td>apartment</td>\n",
       "      <td>Playa del Carmen</td>\n",
       "      <td>|MÃ©xico|Quintana Roo|Solidaridad|Playa del Ca...</td>\n",
       "      <td>20.635482,-87.070345</td>\n",
       "      <td>20.635482</td>\n",
       "      <td>-87.070345</td>\n",
       "      <td>185000.0</td>\n",
       "      <td>USD</td>\n",
       "      <td>...</td>\n",
       "      <td>122.0</td>\n",
       "      <td>1516.393443</td>\n",
       "      <td>http://playa-del-carmen-playa-del-carmen.prope...</td>\n",
       "      <td>Referencia #29032. Visite las nuevas Acqua Ter...</td>\n",
       "      <td>Departamento en Venta. Ref. #29032. 2 Dormitor...</td>\n",
       "      <td>https://thumbs-cf.properati.com/0/Mxv1JulyoQBM...</td>\n",
       "      <td>MÃ©xico</td>\n",
       "      <td>Quintana Roo</td>\n",
       "      <td>Solidaridad</td>\n",
       "      <td>Playa del Carmen</td>\n",
       "    </tr>\n",
       "    <tr>\n",
       "      <th>4</th>\n",
       "      <td>19/09/2013</td>\n",
       "      <td>sell</td>\n",
       "      <td>apartment</td>\n",
       "      <td>Nuevo Centro Urbano</td>\n",
       "      <td>|MÃ©xico|Quintana Roo|Solidaridad|Playa del Ca...</td>\n",
       "      <td>20.629092,-87.074658</td>\n",
       "      <td>20.629092</td>\n",
       "      <td>-87.074658</td>\n",
       "      <td>180000.0</td>\n",
       "      <td>USD</td>\n",
       "      <td>...</td>\n",
       "      <td>NaN</td>\n",
       "      <td>NaN</td>\n",
       "      <td>http://nuevo-centro-urbano.properati.com.mx/ok...</td>\n",
       "      <td>Referencia #33970. TodavÃ­a tenemos algunas un...</td>\n",
       "      <td>Departamento en Venta. Ref. #33970. Encanto Ri...</td>\n",
       "      <td>https://thumbs-cf.properati.com/9/jzkZFLJUFVEw...</td>\n",
       "      <td>MÃ©xico</td>\n",
       "      <td>Quintana Roo</td>\n",
       "      <td>Solidaridad</td>\n",
       "      <td>Playa del Carmen</td>\n",
       "    </tr>\n",
       "  </tbody>\n",
       "</table>\n",
       "<p>5 rows × 23 columns</p>\n",
       "</div>"
      ],
      "text/plain": [
       "   created_on operation property_type           place_name  \\\n",
       "0  19/09/2013      sell     apartment  Nuevo Centro Urbano   \n",
       "1  19/09/2013      sell     apartment  Nuevo Centro Urbano   \n",
       "2  19/09/2013      sell     apartment  Nuevo Centro Urbano   \n",
       "3  19/09/2013      sell     apartment     Playa del Carmen   \n",
       "4  19/09/2013      sell     apartment  Nuevo Centro Urbano   \n",
       "\n",
       "                             place_with_parent_names               lat-lon  \\\n",
       "0  |MÃ©xico|Quintana Roo|Solidaridad|Playa del Ca...  20.627527,-87.076686   \n",
       "1  |MÃ©xico|Quintana Roo|Solidaridad|Playa del Ca...  20.627567,-87.076718   \n",
       "2  |MÃ©xico|Quintana Roo|Solidaridad|Playa del Ca...    20.6267,-87.075866   \n",
       "3  |MÃ©xico|Quintana Roo|Solidaridad|Playa del Ca...  20.635482,-87.070345   \n",
       "4  |MÃ©xico|Quintana Roo|Solidaridad|Playa del Ca...  20.629092,-87.074658   \n",
       "\n",
       "         lat        lon     price currency  ...  surface_covered_in_m2  \\\n",
       "0  20.627527 -87.076686  269000.0      USD  ...                  110.0   \n",
       "1  20.627567 -87.076718  230000.0      USD  ...                  110.0   \n",
       "2  20.626700 -87.075866  135000.0      USD  ...                   41.0   \n",
       "3  20.635482 -87.070345  185000.0      USD  ...                  122.0   \n",
       "4  20.629092 -87.074658  180000.0      USD  ...                    NaN   \n",
       "\n",
       "   price_per_m2                                      properati_url  \\\n",
       "0   2445.454545  http://nuevo-centro-urbano.properati.com.mx/o6...   \n",
       "1   2090.909091  http://nuevo-centro-urbano.properati.com.mx/o8...   \n",
       "2   3292.682927  http://nuevo-centro-urbano.properati.com.mx/o9...   \n",
       "3   1516.393443  http://playa-del-carmen-playa-del-carmen.prope...   \n",
       "4           NaN  http://nuevo-centro-urbano.properati.com.mx/ok...   \n",
       "\n",
       "                                         description  \\\n",
       "0  Referencia #28010. En el centro de Playa del C...   \n",
       "1  Referencia #28925. En el centro de Playa del C...   \n",
       "2  Referencia #29031. La Papaya un proyecto altam...   \n",
       "3  Referencia #29032. Visite las nuevas Acqua Ter...   \n",
       "4  Referencia #33970. TodavÃ­a tenemos algunas un...   \n",
       "\n",
       "                                               title  \\\n",
       "0  Departamento en Venta. Ref. #28010. 3 Dormitor...   \n",
       "1  Departamento en Venta. Ref. #28925. 3 Dormitor...   \n",
       "2  Departamento en Venta. Ref. #29031. 1 Dormitor...   \n",
       "3  Departamento en Venta. Ref. #29032. 2 Dormitor...   \n",
       "4  Departamento en Venta. Ref. #33970. Encanto Ri...   \n",
       "\n",
       "                                     image_thumbnail     pais        estado  \\\n",
       "0  https://thumbs-cf.properati.com/3/q4Ws9xQT8Yu3...  MÃ©xico  Quintana Roo   \n",
       "1  https://thumbs-cf.properati.com/8/7W4OI5hIXPdY...  MÃ©xico  Quintana Roo   \n",
       "2  https://thumbs-cf.properati.com/0/4h1_ZbVNWly0...  MÃ©xico  Quintana Roo   \n",
       "3  https://thumbs-cf.properati.com/0/Mxv1JulyoQBM...  MÃ©xico  Quintana Roo   \n",
       "4  https://thumbs-cf.properati.com/9/jzkZFLJUFVEw...  MÃ©xico  Quintana Roo   \n",
       "\n",
       "     municipio           colonia  \n",
       "0  Solidaridad  Playa del Carmen  \n",
       "1  Solidaridad  Playa del Carmen  \n",
       "2  Solidaridad  Playa del Carmen  \n",
       "3  Solidaridad  Playa del Carmen  \n",
       "4  Solidaridad  Playa del Carmen  \n",
       "\n",
       "[5 rows x 23 columns]"
      ]
     },
     "execution_count": 12,
     "metadata": {},
     "output_type": "execute_result"
    }
   ],
   "source": [
    "df.head()"
   ]
  },
  {
   "cell_type": "code",
   "execution_count": 13,
   "metadata": {},
   "outputs": [
    {
     "data": {
      "text/plain": [
       "MÃ©xico                       188068\n",
       "Brasil                           456\n",
       "Estados Unidos de AmÃ©rica         1\n",
       "Name: pais, dtype: int64"
      ]
     },
     "execution_count": 13,
     "metadata": {},
     "output_type": "execute_result"
    }
   ],
   "source": [
    "# Paises distitnos de Mexico\n",
    "df['pais'].value_counts()"
   ]
  },
  {
   "cell_type": "code",
   "execution_count": 14,
   "metadata": {},
   "outputs": [],
   "source": [
    "# Eliminar Paises distinto de Mexico\n",
    "df = df[df['pais'] == 'MÃ©xico'].reset_index(drop = True)\n",
    "\n",
    "# Eliminar Columna pais ya que todo son Mexico\n",
    "df.drop(['pais'], axis = 1, inplace = True)\n",
    "# Eliminar columna place_with_parent_names y place_name\n",
    "df.drop(['place_with_parent_names', 'place_name'], axis = 1, inplace = True)"
   ]
  },
  {
   "cell_type": "markdown",
   "metadata": {},
   "source": [
    "## Eliminar Variable lat-lon\n",
    "\n",
    "_Esta variable sera eliminada ya que existen variables independientes con la misma información_"
   ]
  },
  {
   "cell_type": "code",
   "execution_count": 15,
   "metadata": {},
   "outputs": [
    {
     "data": {
      "text/plain": [
       "lat-lon    31934\n",
       "lat        31934\n",
       "dtype: int64"
      ]
     },
     "execution_count": 15,
     "metadata": {},
     "output_type": "execute_result"
    }
   ],
   "source": [
    "df.iloc[:, 3:5].isnull().sum()"
   ]
  },
  {
   "cell_type": "markdown",
   "metadata": {},
   "source": [
    "_Observamos la misma cantidad de null en ambas variables, lo que indica que estan relacionadas_"
   ]
  },
  {
   "cell_type": "code",
   "execution_count": 16,
   "metadata": {},
   "outputs": [],
   "source": [
    "# Elimnar lat-lon\n",
    "df.drop(['lat-lon'], axis = 1, inplace = True)"
   ]
  },
  {
   "cell_type": "markdown",
   "metadata": {},
   "source": [
    "## Cambio de Nombres de Variables"
   ]
  },
  {
   "cell_type": "code",
   "execution_count": 17,
   "metadata": {},
   "outputs": [
    {
     "data": {
      "text/plain": [
       "['created_on',\n",
       " 'operation',\n",
       " 'property_type',\n",
       " 'lat',\n",
       " 'lon',\n",
       " 'price',\n",
       " 'currency',\n",
       " 'price_aprox_local_currency',\n",
       " 'price_aprox_usd',\n",
       " 'surface_total_in_m2',\n",
       " 'surface_covered_in_m2',\n",
       " 'price_per_m2',\n",
       " 'properati_url',\n",
       " 'description',\n",
       " 'title',\n",
       " 'image_thumbnail',\n",
       " 'estado',\n",
       " 'municipio',\n",
       " 'colonia']"
      ]
     },
     "execution_count": 17,
     "metadata": {},
     "output_type": "execute_result"
    }
   ],
   "source": [
    "# Observamos el nombre de las variables\n",
    "list(df.columns)"
   ]
  },
  {
   "cell_type": "code",
   "execution_count": 18,
   "metadata": {},
   "outputs": [],
   "source": [
    "continuas = ['lat', 'lon', 'price', 'price_aprox_local_currency', 'price_aprox_usd',\n",
    "            'surface_total_in_m2', 'surface_covered_in_m2', 'price_per_m2']\n",
    "discretas = ['operation', 'property_type', 'currency', 'estado', 'municipio', 'colonia']\n",
    "fechas = ['created_on']\n",
    "text = ['properati_url', 'description', 'title', 'image_thumbnail']"
   ]
  },
  {
   "cell_type": "code",
   "execution_count": 19,
   "metadata": {},
   "outputs": [],
   "source": [
    "# Renombrar variables continuas\n",
    "df.rename(columns = dict(zip(continuas, list(map(lambda x: 'c_' + x, continuas)))), inplace = True)\n",
    "# Renombrar variables discretas\n",
    "df.rename(columns = dict(zip(discretas, list(map(lambda x: 'v_' + x, discretas)))), inplace = True)\n",
    "# Renombrar variables fecha\n",
    "df.rename(columns = dict(zip(fechas, list(map(lambda x: 'd_' + x, fechas)))), inplace = True)\n",
    "# Renombrar variables continuas\n",
    "df.rename(columns = dict(zip(text, list(map(lambda x: 't_' + x, text)))), inplace = True)"
   ]
  },
  {
   "cell_type": "markdown",
   "metadata": {},
   "source": [
    "## Estadistica Descriptiva"
   ]
  },
  {
   "cell_type": "code",
   "execution_count": 20,
   "metadata": {},
   "outputs": [
    {
     "data": {
      "text/html": [
       "<div>\n",
       "<style scoped>\n",
       "    .dataframe tbody tr th:only-of-type {\n",
       "        vertical-align: middle;\n",
       "    }\n",
       "\n",
       "    .dataframe tbody tr th {\n",
       "        vertical-align: top;\n",
       "    }\n",
       "\n",
       "    .dataframe thead th {\n",
       "        text-align: right;\n",
       "    }\n",
       "</style>\n",
       "<table border=\"1\" class=\"dataframe\">\n",
       "  <thead>\n",
       "    <tr style=\"text-align: right;\">\n",
       "      <th></th>\n",
       "      <th>c_lat</th>\n",
       "      <th>c_lon</th>\n",
       "      <th>c_price</th>\n",
       "      <th>c_price_aprox_local_currency</th>\n",
       "      <th>c_price_aprox_usd</th>\n",
       "      <th>c_surface_total_in_m2</th>\n",
       "      <th>c_surface_covered_in_m2</th>\n",
       "      <th>c_price_per_m2</th>\n",
       "    </tr>\n",
       "  </thead>\n",
       "  <tbody>\n",
       "    <tr>\n",
       "      <th>count</th>\n",
       "      <td>156134.000000</td>\n",
       "      <td>156134.000000</td>\n",
       "      <td>1.854540e+05</td>\n",
       "      <td>1.854540e+05</td>\n",
       "      <td>1.854540e+05</td>\n",
       "      <td>97630.000000</td>\n",
       "      <td>1.806350e+05</td>\n",
       "      <td>1.669080e+05</td>\n",
       "    </tr>\n",
       "    <tr>\n",
       "      <th>mean</th>\n",
       "      <td>21.034042</td>\n",
       "      <td>-99.013353</td>\n",
       "      <td>2.559722e+06</td>\n",
       "      <td>3.183243e+06</td>\n",
       "      <td>1.692449e+05</td>\n",
       "      <td>448.098812</td>\n",
       "      <td>1.993314e+03</td>\n",
       "      <td>1.624773e+04</td>\n",
       "    </tr>\n",
       "    <tr>\n",
       "      <th>std</th>\n",
       "      <td>2.973528</td>\n",
       "      <td>5.170212</td>\n",
       "      <td>6.038333e+06</td>\n",
       "      <td>7.963734e+06</td>\n",
       "      <td>4.234115e+05</td>\n",
       "      <td>3017.154134</td>\n",
       "      <td>5.637098e+05</td>\n",
       "      <td>5.318321e+05</td>\n",
       "    </tr>\n",
       "    <tr>\n",
       "      <th>min</th>\n",
       "      <td>14.843818</td>\n",
       "      <td>-117.228632</td>\n",
       "      <td>5.000000e+01</td>\n",
       "      <td>9.404200e+02</td>\n",
       "      <td>5.000000e+01</td>\n",
       "      <td>-396.000000</td>\n",
       "      <td>-3.240000e+02</td>\n",
       "      <td>8.000000e-03</td>\n",
       "    </tr>\n",
       "    <tr>\n",
       "      <th>10%</th>\n",
       "      <td>18.917542</td>\n",
       "      <td>-103.438171</td>\n",
       "      <td>1.350000e+04</td>\n",
       "      <td>1.486416e+04</td>\n",
       "      <td>7.902900e+02</td>\n",
       "      <td>0.000000</td>\n",
       "      <td>4.600000e+01</td>\n",
       "      <td>9.976033e+01</td>\n",
       "    </tr>\n",
       "    <tr>\n",
       "      <th>20%</th>\n",
       "      <td>19.161508</td>\n",
       "      <td>-101.002460</td>\n",
       "      <td>1.550000e+05</td>\n",
       "      <td>2.526931e+05</td>\n",
       "      <td>1.343505e+04</td>\n",
       "      <td>35.000000</td>\n",
       "      <td>7.000000e+01</td>\n",
       "      <td>1.813672e+03</td>\n",
       "    </tr>\n",
       "    <tr>\n",
       "      <th>30%</th>\n",
       "      <td>19.367960</td>\n",
       "      <td>-100.356804</td>\n",
       "      <td>5.800000e+05</td>\n",
       "      <td>6.720197e+05</td>\n",
       "      <td>3.572958e+04</td>\n",
       "      <td>90.000000</td>\n",
       "      <td>9.000000e+01</td>\n",
       "      <td>6.428571e+03</td>\n",
       "    </tr>\n",
       "    <tr>\n",
       "      <th>40%</th>\n",
       "      <td>19.454332</td>\n",
       "      <td>-99.603079</td>\n",
       "      <td>9.500000e+05</td>\n",
       "      <td>1.090307e+06</td>\n",
       "      <td>5.796887e+04</td>\n",
       "      <td>120.000000</td>\n",
       "      <td>1.200000e+02</td>\n",
       "      <td>8.333333e+03</td>\n",
       "    </tr>\n",
       "    <tr>\n",
       "      <th>50%</th>\n",
       "      <td>20.124282</td>\n",
       "      <td>-99.227787</td>\n",
       "      <td>1.400000e+06</td>\n",
       "      <td>1.565707e+06</td>\n",
       "      <td>8.324464e+04</td>\n",
       "      <td>160.000000</td>\n",
       "      <td>1.500000e+02</td>\n",
       "      <td>9.941002e+03</td>\n",
       "    </tr>\n",
       "    <tr>\n",
       "      <th>60%</th>\n",
       "      <td>20.696542</td>\n",
       "      <td>-99.168088</td>\n",
       "      <td>1.880000e+06</td>\n",
       "      <td>2.105777e+06</td>\n",
       "      <td>1.119588e+05</td>\n",
       "      <td>200.000000</td>\n",
       "      <td>1.900000e+02</td>\n",
       "      <td>1.141026e+04</td>\n",
       "    </tr>\n",
       "    <tr>\n",
       "      <th>70%</th>\n",
       "      <td>21.039522</td>\n",
       "      <td>-98.979620</td>\n",
       "      <td>2.570554e+06</td>\n",
       "      <td>2.873766e+06</td>\n",
       "      <td>1.527908e+05</td>\n",
       "      <td>282.000000</td>\n",
       "      <td>2.350000e+02</td>\n",
       "      <td>1.327921e+04</td>\n",
       "    </tr>\n",
       "    <tr>\n",
       "      <th>80%</th>\n",
       "      <td>22.272659</td>\n",
       "      <td>-97.837900</td>\n",
       "      <td>3.567480e+06</td>\n",
       "      <td>4.063874e+06</td>\n",
       "      <td>2.160658e+05</td>\n",
       "      <td>400.000000</td>\n",
       "      <td>3.000000e+02</td>\n",
       "      <td>1.619048e+04</td>\n",
       "    </tr>\n",
       "    <tr>\n",
       "      <th>90%</th>\n",
       "      <td>25.643093</td>\n",
       "      <td>-89.636932</td>\n",
       "      <td>5.900000e+06</td>\n",
       "      <td>6.936676e+06</td>\n",
       "      <td>3.688054e+05</td>\n",
       "      <td>674.000000</td>\n",
       "      <td>4.310000e+02</td>\n",
       "      <td>2.350000e+04</td>\n",
       "    </tr>\n",
       "    <tr>\n",
       "      <th>max</th>\n",
       "      <td>41.577487</td>\n",
       "      <td>99.206936</td>\n",
       "      <td>9.450000e+08</td>\n",
       "      <td>9.364513e+08</td>\n",
       "      <td>4.978873e+07</td>\n",
       "      <td>200000.000000</td>\n",
       "      <td>2.303030e+08</td>\n",
       "      <td>1.995000e+08</td>\n",
       "    </tr>\n",
       "  </tbody>\n",
       "</table>\n",
       "</div>"
      ],
      "text/plain": [
       "               c_lat          c_lon       c_price  \\\n",
       "count  156134.000000  156134.000000  1.854540e+05   \n",
       "mean       21.034042     -99.013353  2.559722e+06   \n",
       "std         2.973528       5.170212  6.038333e+06   \n",
       "min        14.843818    -117.228632  5.000000e+01   \n",
       "10%        18.917542    -103.438171  1.350000e+04   \n",
       "20%        19.161508    -101.002460  1.550000e+05   \n",
       "30%        19.367960    -100.356804  5.800000e+05   \n",
       "40%        19.454332     -99.603079  9.500000e+05   \n",
       "50%        20.124282     -99.227787  1.400000e+06   \n",
       "60%        20.696542     -99.168088  1.880000e+06   \n",
       "70%        21.039522     -98.979620  2.570554e+06   \n",
       "80%        22.272659     -97.837900  3.567480e+06   \n",
       "90%        25.643093     -89.636932  5.900000e+06   \n",
       "max        41.577487      99.206936  9.450000e+08   \n",
       "\n",
       "       c_price_aprox_local_currency  c_price_aprox_usd  c_surface_total_in_m2  \\\n",
       "count                  1.854540e+05       1.854540e+05           97630.000000   \n",
       "mean                   3.183243e+06       1.692449e+05             448.098812   \n",
       "std                    7.963734e+06       4.234115e+05            3017.154134   \n",
       "min                    9.404200e+02       5.000000e+01            -396.000000   \n",
       "10%                    1.486416e+04       7.902900e+02               0.000000   \n",
       "20%                    2.526931e+05       1.343505e+04              35.000000   \n",
       "30%                    6.720197e+05       3.572958e+04              90.000000   \n",
       "40%                    1.090307e+06       5.796887e+04             120.000000   \n",
       "50%                    1.565707e+06       8.324464e+04             160.000000   \n",
       "60%                    2.105777e+06       1.119588e+05             200.000000   \n",
       "70%                    2.873766e+06       1.527908e+05             282.000000   \n",
       "80%                    4.063874e+06       2.160658e+05             400.000000   \n",
       "90%                    6.936676e+06       3.688054e+05             674.000000   \n",
       "max                    9.364513e+08       4.978873e+07          200000.000000   \n",
       "\n",
       "       c_surface_covered_in_m2  c_price_per_m2  \n",
       "count             1.806350e+05    1.669080e+05  \n",
       "mean              1.993314e+03    1.624773e+04  \n",
       "std               5.637098e+05    5.318321e+05  \n",
       "min              -3.240000e+02    8.000000e-03  \n",
       "10%               4.600000e+01    9.976033e+01  \n",
       "20%               7.000000e+01    1.813672e+03  \n",
       "30%               9.000000e+01    6.428571e+03  \n",
       "40%               1.200000e+02    8.333333e+03  \n",
       "50%               1.500000e+02    9.941002e+03  \n",
       "60%               1.900000e+02    1.141026e+04  \n",
       "70%               2.350000e+02    1.327921e+04  \n",
       "80%               3.000000e+02    1.619048e+04  \n",
       "90%               4.310000e+02    2.350000e+04  \n",
       "max               2.303030e+08    1.995000e+08  "
      ]
     },
     "execution_count": 20,
     "metadata": {},
     "output_type": "execute_result"
    }
   ],
   "source": [
    "df.describe(percentiles = [x / 10 for x in range(1, 10)])"
   ]
  },
  {
   "cell_type": "markdown",
   "metadata": {},
   "source": [
    "_Al observar las variales de coordenadas vemos que los valores maximos y minimos de latitud y longitud difieren en las coordenadas maximas y minimas del territorio mexicano, al crear los distintos graficos se analizaran estos casos._\n",
    "\n",
    "_En el caso del precio de propiedades se analizará el valor maximo de esta variable ya que existe una propiedad con un precio superior a los 900 millones de pesos mexicanos._\n",
    "\n",
    "_La variable superficie total será analizada por el caso del primer percentil donde la longitud es de 0 metros cuadrados_"
   ]
  },
  {
   "cell_type": "markdown",
   "metadata": {},
   "source": [
    "## Graficas"
   ]
  },
  {
   "cell_type": "markdown",
   "metadata": {},
   "source": [
    "### Latitud"
   ]
  },
  {
   "cell_type": "code",
   "execution_count": 107,
   "metadata": {},
   "outputs": [
    {
     "data": {
      "image/png": "[encoded data removed]",
      "text/plain": [
       "<Figure size 720x504 with 1 Axes>"
      ]
     },
     "metadata": {
      "needs_background": "light"
     },
     "output_type": "display_data"
    }
   ],
   "source": [
    "plt.figure(figsize=(10, 7))\n",
    "plt.hist(df['c_lat'], bins = 100)\n",
    "plt.xlabel('Latitud')\n",
    "plt.title('Histograma de Latitud')\n",
    "plt.show()"
   ]
  },
  {
   "cell_type": "markdown",
   "metadata": {},
   "source": [
    "_Observamos que existen valores mayores a 35 gracias al eje horizotal de la gráfica, estos son valores extremos ya que no tienen muchos registros_"
   ]
  },
  {
   "cell_type": "markdown",
   "metadata": {},
   "source": [
    "### Longitud"
   ]
  },
  {
   "cell_type": "code",
   "execution_count": 108,
   "metadata": {},
   "outputs": [
    {
     "data": {
      "image/png": "[encoded data removed]",
      "text/plain": [
       "<Figure size 720x504 with 1 Axes>"
      ]
     },
     "metadata": {
      "needs_background": "light"
     },
     "output_type": "display_data"
    }
   ],
   "source": [
    "plt.figure(figsize=(10, 7))\n",
    "plt.hist(df['c_lon'], bins = 100)\n",
    "plt.xlabel('Longitud')\n",
    "plt.title('Histograma de Longitud')\n",
    "plt.show()"
   ]
  },
  {
   "cell_type": "markdown",
   "metadata": {},
   "source": [
    "_Existen valores mayores a -60, los cuales son valores extremos y serán eliminados o ajustados_"
   ]
  },
  {
   "cell_type": "markdown",
   "metadata": {},
   "source": [
    "### Estados"
   ]
  },
  {
   "cell_type": "code",
   "execution_count": 45,
   "metadata": {},
   "outputs": [
    {
     "data": {
      "text/plain": [
       "Distrito Federal                   27911\n",
       "Estado de MÃ©xico                  20747\n",
       "Veracruz de Ignacio de la Llave    13747\n",
       "YucatÃ¡n                           13737\n",
       "Nuevo LeÃ³n                        13537\n",
       "QuerÃ©taro                         13535\n",
       "Morelos                            13531\n",
       "Puebla                             10358\n",
       "Jalisco                             7158\n",
       "Quintana Roo                        6953\n",
       "San Luis PotosÃ­                    5344\n",
       "Guerrero                            5333\n",
       "Tamaulipas                          5082\n",
       "Chiapas                             4329\n",
       "Baja California                     3883\n",
       "Chihuahua                           3315\n",
       "Sinaloa                             3127\n",
       "Guanajuato                          3008\n",
       "Tabasco                             2147\n",
       "Hidalgo                             1672\n",
       "Aguascalientes                      1511\n",
       "Baja California Sur                 1491\n",
       "Sonora                              1374\n",
       "Colima                              1173\n",
       "Nayarit                             1063\n",
       "Durango                              853\n",
       "Campeche                             783\n",
       "Tlaxcala                             618\n",
       "Oaxaca                               465\n",
       "Zacatecas                            263\n",
       "Coahuila de Zaragoza                  16\n",
       "MichoacÃ¡n de Ocampo                   4\n",
       "Name: v_estado, dtype: int64"
      ]
     },
     "execution_count": 45,
     "metadata": {},
     "output_type": "execute_result"
    }
   ],
   "source": [
    "conteo_estados = df['v_estado'].value_counts()\n",
    "conteo_estados"
   ]
  },
  {
   "cell_type": "code",
   "execution_count": 166,
   "metadata": {},
   "outputs": [
    {
     "data": {
      "image/png": "[encoded data removed]",
      "text/plain": [
       "<Figure size 720x504 with 1 Axes>"
      ]
     },
     "metadata": {
      "needs_background": "light"
     },
     "output_type": "display_data"
    }
   ],
   "source": [
    "plt.figure(figsize=(10, 7))\n",
    "plt.bar(conteo_estados.index, conteo_estados.values)\n",
    "plt.xticks(rotation=90)\n",
    "plt.title('Numero de Publiaciones por Estado')\n",
    "plt.show()"
   ]
  },
  {
   "cell_type": "code",
   "execution_count": 164,
   "metadata": {},
   "outputs": [
    {
     "data": {
      "text/plain": [
       "v_estado\n",
       "Quintana Roo                       2774670.350\n",
       "Nuevo LeÃ³n                        2566570.100\n",
       "Baja California Sur                2368661.330\n",
       "Morelos                            2081002.720\n",
       "Puebla                             1932817.880\n",
       "QuerÃ©taro                         1882811.910\n",
       "Distrito Federal                   1789662.250\n",
       "Jalisco                            1783716.690\n",
       "YucatÃ¡n                           1689794.000\n",
       "Guanajuato                         1444981.815\n",
       "Estado de MÃ©xico                  1437441.585\n",
       "Sinaloa                            1338104.770\n",
       "Chiapas                            1337787.470\n",
       "San Luis PotosÃ­                   1288239.680\n",
       "Oaxaca                             1288239.680\n",
       "Nayarit                            1238985.860\n",
       "Veracruz de Ignacio de la Llave    1238692.070\n",
       "Guerrero                           1139866.940\n",
       "Chihuahua                          1050659.920\n",
       "Coahuila de Zaragoza                973002.825\n",
       "Aguascalientes                      971134.570\n",
       "Hidalgo                             886903.530\n",
       "Durango                             867084.450\n",
       "MichoacÃ¡n de Ocampo                827795.280\n",
       "Colima                              821500.540\n",
       "Baja California                     802672.480\n",
       "Sonora                              743215.240\n",
       "Tabasco                             743215.240\n",
       "Zacatecas                           693667.440\n",
       "Tlaxcala                            673848.360\n",
       "Tamaulipas                          584731.900\n",
       "Campeche                             24779.630\n",
       "dtype: float64"
      ]
     },
     "execution_count": 164,
     "metadata": {},
     "output_type": "execute_result"
    }
   ],
   "source": [
    "price = pd.pivot_table(df, values = 'c_price_aprox_local_currency', index = 'v_estado', aggfunc = np.median)\n",
    "price.sort_values('c_price_aprox_local_currency', ascending=False, inplace = True)\n",
    "price = pd.Series(index = price.index, data = [x[0] for x in price.values])\n",
    "price"
   ]
  },
  {
   "cell_type": "code",
   "execution_count": 165,
   "metadata": {},
   "outputs": [
    {
     "data": {
      "image/png": "[encoded data removed]",
      "text/plain": [
       "<Figure size 720x504 with 1 Axes>"
      ]
     },
     "metadata": {
      "needs_background": "light"
     },
     "output_type": "display_data"
    }
   ],
   "source": [
    "plt.figure(figsize=(10, 7))\n",
    "plt.bar(price.index, price.values)\n",
    "plt.xticks(rotation=90)\n",
    "plt.title('Mediana de Precios por Estado')\n",
    "plt.show()"
   ]
  },
  {
   "cell_type": "markdown",
   "metadata": {},
   "source": [
    "### Municipios"
   ]
  },
  {
   "cell_type": "code",
   "execution_count": 76,
   "metadata": {},
   "outputs": [
    {
     "data": {
      "text/plain": [
       "MÃ©rida             12174\n",
       "QuerÃ©taro          10043\n",
       "Veracruz             9892\n",
       "Benito JuÃ¡rez       8889\n",
       "Cuernavaca           6255\n",
       "Monterrey            5724\n",
       "San Luis PotosÃ­     5010\n",
       "Miguel Hidalgo       4640\n",
       "                     4516\n",
       "Puebla               4362\n",
       "Name: v_municipio, dtype: int64"
      ]
     },
     "execution_count": 76,
     "metadata": {},
     "output_type": "execute_result"
    }
   ],
   "source": [
    "conteo_municipios = df['v_municipio'].value_counts()[0:10]\n",
    "conteo_municipios"
   ]
  },
  {
   "cell_type": "code",
   "execution_count": 112,
   "metadata": {},
   "outputs": [
    {
     "data": {
      "image/png": "[encoded data removed]",
      "text/plain": [
       "<Figure size 720x504 with 1 Axes>"
      ]
     },
     "metadata": {
      "needs_background": "light"
     },
     "output_type": "display_data"
    }
   ],
   "source": [
    "plt.figure(figsize=(10, 7))\n",
    "plt.bar(conteo_municipios.index, conteo_municipios.values)\n",
    "plt.xticks(rotation=90)\n",
    "plt.title('10 Municipios con mas Publicaciones')\n",
    "plt.show()"
   ]
  },
  {
   "cell_type": "code",
   "execution_count": 116,
   "metadata": {},
   "outputs": [
    {
     "data": {
      "text/plain": [
       "v_municipio\n",
       "El Grullo                   6.018720e+07\n",
       "Temascalapa                 2.138070e+07\n",
       "Rayones                     1.783717e+07\n",
       "Villa de Tezontepec         1.615638e+07\n",
       "CoatlÃ¡n del RÃ­o           1.598722e+07\n",
       "MocochÃ¡                    1.511563e+07\n",
       "San Francisco de Conchos    1.486431e+07\n",
       "RÃ­o Grande                 1.305884e+07\n",
       "Suma                        1.288545e+07\n",
       "Galeana                     1.259072e+07\n",
       "dtype: float64"
      ]
     },
     "execution_count": 116,
     "metadata": {},
     "output_type": "execute_result"
    }
   ],
   "source": [
    "price_m = pd.pivot_table(df, values = 'c_price_aprox_local_currency', index = 'v_municipio', aggfunc = np.median)\n",
    "price_m.sort_values('c_price_aprox_local_currency', ascending=False, inplace = True)\n",
    "price_m = pd.Series(index = price_m.index, data = [x[0] for x in price_m.values])[0:10]\n",
    "price_m"
   ]
  },
  {
   "cell_type": "code",
   "execution_count": 118,
   "metadata": {},
   "outputs": [
    {
     "data": {
      "image/png": "[encoded data removed]",
      "text/plain": [
       "<Figure size 720x504 with 1 Axes>"
      ]
     },
     "metadata": {
      "needs_background": "light"
     },
     "output_type": "display_data"
    }
   ],
   "source": [
    "plt.figure(figsize=(10, 7))\n",
    "plt.bar(price_m.index, price_m.values)\n",
    "plt.xticks(rotation=90)\n",
    "plt.title('Mediana de Precios por Municipio')\n",
    "plt.show()"
   ]
  },
  {
   "cell_type": "markdown",
   "metadata": {},
   "source": [
    "_Esta informacion puede tener sesgo ya que pueden existir municipios con datos únicos y precios muy caros, por lo que no indica un valor real por municipio, se usara la suma de precios para observar los 10 municipios con más publicaciones y mayores precios_"
   ]
  },
  {
   "cell_type": "code",
   "execution_count": 119,
   "metadata": {},
   "outputs": [
    {
     "data": {
      "text/plain": [
       "v_municipio\n",
       "Miguel Hidalgo             4.057065e+10\n",
       "Benito JuÃ¡rez             3.782285e+10\n",
       "San Pedro Garza GarcÃ­a    3.654061e+10\n",
       "MÃ©rida                    3.030658e+10\n",
       "QuerÃ©taro                 2.700693e+10\n",
       "Monterrey                  2.483438e+10\n",
       "Cuernavaca                 2.401454e+10\n",
       "Veracruz                   1.821099e+10\n",
       "Ãlvaro ObregÃ³n           1.691574e+10\n",
       "AtizapÃ¡n de Zaragoza      1.680759e+10\n",
       "dtype: float64"
      ]
     },
     "execution_count": 119,
     "metadata": {},
     "output_type": "execute_result"
    }
   ],
   "source": [
    "price_s = pd.pivot_table(df, values = 'c_price_aprox_local_currency', index = 'v_municipio', aggfunc = np.sum)\n",
    "price_s.sort_values('c_price_aprox_local_currency', ascending=False, inplace = True)\n",
    "price_s = pd.Series(index = price_s.index, data = [x[0] for x in price_s.values])[0:10]\n",
    "price_s"
   ]
  },
  {
   "cell_type": "code",
   "execution_count": 120,
   "metadata": {},
   "outputs": [
    {
     "name": "stderr",
     "output_type": "stream",
     "text": [
      "/home/edco17/anaconda3/lib/python3.8/site-packages/matplotlib/backends/backend_agg.py:214: RuntimeWarning: Glyph 129 missing from current font.\n",
      "  font.set_text(s, 0.0, flags=flags)\n",
      "/home/edco17/anaconda3/lib/python3.8/site-packages/matplotlib/backends/backend_agg.py:183: RuntimeWarning: Glyph 129 missing from current font.\n",
      "  font.set_text(s, 0, flags=flags)\n"
     ]
    },
    {
     "data": {
      "image/png": "[encoded data removed]",
      "text/plain": [
       "<Figure size 720x504 with 1 Axes>"
      ]
     },
     "metadata": {
      "needs_background": "light"
     },
     "output_type": "display_data"
    }
   ],
   "source": [
    "plt.figure(figsize=(10, 7))\n",
    "plt.bar(price_s.index, price_s.values)\n",
    "plt.xticks(rotation=90)\n",
    "plt.title('Suma de Precios por Municipio')\n",
    "plt.show()"
   ]
  },
  {
   "cell_type": "markdown",
   "metadata": {},
   "source": [
    "### Precios vs Renta"
   ]
  },
  {
   "cell_type": "code",
   "execution_count": 168,
   "metadata": {},
   "outputs": [],
   "source": [
    "operation = df['v_operation'].value_counts()"
   ]
  },
  {
   "cell_type": "code",
   "execution_count": 175,
   "metadata": {},
   "outputs": [
    {
     "data": {
      "text/plain": [
       "['sell', 'rent']"
      ]
     },
     "execution_count": 175,
     "metadata": {},
     "output_type": "execute_result"
    }
   ],
   "source": [
    "list(operation.index)"
   ]
  },
  {
   "cell_type": "code",
   "execution_count": 177,
   "metadata": {},
   "outputs": [
    {
     "data": {
      "image/png": "[encoded data removed]",
      "text/plain": [
       "<Figure size 720x504 with 1 Axes>"
      ]
     },
     "metadata": {
      "needs_background": "light"
     },
     "output_type": "display_data"
    }
   ],
   "source": [
    "plt.figure(figsize=(10, 7))\n",
    "plt.bar(x = operation.index, height = operation.values, color = ['orange', 'blue'])\n",
    "plt.title('Publicaciones por Operacion')\n",
    "plt.show()"
   ]
  },
  {
   "cell_type": "markdown",
   "metadata": {},
   "source": [
    "### Precios Ventas"
   ]
  },
  {
   "cell_type": "code",
   "execution_count": 178,
   "metadata": {},
   "outputs": [],
   "source": [
    "precio_venta = df[df['v_operation'] == 'sell']['c_price_aprox_local_currency']"
   ]
  },
  {
   "cell_type": "code",
   "execution_count": 179,
   "metadata": {},
   "outputs": [
    {
     "name": "stderr",
     "output_type": "stream",
     "text": [
      "/home/edco17/anaconda3/lib/python3.8/site-packages/numpy/lib/histograms.py:839: RuntimeWarning: invalid value encountered in greater_equal\n",
      "  keep = (tmp_a >= first_edge)\n",
      "/home/edco17/anaconda3/lib/python3.8/site-packages/numpy/lib/histograms.py:840: RuntimeWarning: invalid value encountered in less_equal\n",
      "  keep &= (tmp_a <= last_edge)\n"
     ]
    },
    {
     "data": {
      "image/png": "[encoded data removed]",
      "text/plain": [
       "<Figure size 720x504 with 1 Axes>"
      ]
     },
     "metadata": {
      "needs_background": "light"
     },
     "output_type": "display_data"
    }
   ],
   "source": [
    "plt.figure(figsize=(10, 7))\n",
    "plt.hist(precio_venta.values, bins = 100, color = 'orange')\n",
    "plt.title('Distribución de Precios en Venta')\n",
    "plt.show()"
   ]
  },
  {
   "cell_type": "markdown",
   "metadata": {},
   "source": [
    "_Existen registros que son mayores a los 900 millones de pesos, estos se deben de revisar, se tomara un rango entre 0 y 15 millones de pesos para observar la distribucion de precios_"
   ]
  },
  {
   "cell_type": "code",
   "execution_count": 180,
   "metadata": {},
   "outputs": [],
   "source": [
    "ope = df['v_operation'] == 'sell'\n",
    "rango = df['c_price_aprox_local_currency'] <= 15000000\n",
    "precio_venta_2 = df[ope & rango]['c_price_aprox_local_currency']"
   ]
  },
  {
   "cell_type": "code",
   "execution_count": 181,
   "metadata": {},
   "outputs": [
    {
     "data": {
      "image/png": "[encoded data removed]",
      "text/plain": [
       "<Figure size 720x504 with 1 Axes>"
      ]
     },
     "metadata": {
      "needs_background": "light"
     },
     "output_type": "display_data"
    }
   ],
   "source": [
    "plt.figure(figsize=(10, 7))\n",
    "plt.hist(precio_venta_2.values, bins = 50, color = 'orange')\n",
    "plt.title('Distribución de Precios en Venta Menores a 15,000,000')\n",
    "plt.show()"
   ]
  },
  {
   "cell_type": "markdown",
   "metadata": {},
   "source": [
    "### Precio Renta"
   ]
  },
  {
   "cell_type": "code",
   "execution_count": 182,
   "metadata": {},
   "outputs": [],
   "source": [
    "precio_renta = df[df['v_operation'] == 'rent']['c_price_aprox_local_currency']"
   ]
  },
  {
   "cell_type": "code",
   "execution_count": 184,
   "metadata": {},
   "outputs": [
    {
     "data": {
      "image/png": "[encoded data removed]",
      "text/plain": [
       "<Figure size 720x504 with 1 Axes>"
      ]
     },
     "metadata": {
      "needs_background": "light"
     },
     "output_type": "display_data"
    }
   ],
   "source": [
    "plt.figure(figsize=(10, 7))\n",
    "plt.hist(precio_renta.values, bins = 100, color = 'blue')\n",
    "plt.title('Distribución de Precios en Renta')\n",
    "plt.show()"
   ]
  },
  {
   "cell_type": "code",
   "execution_count": 185,
   "metadata": {},
   "outputs": [],
   "source": [
    "ope_r = df['v_operation'] == 'rent'\n",
    "rango_r = df['c_price_aprox_local_currency'] <= 250000\n",
    "precio_venta_2_r = df[ope_r & rango_r]['c_price_aprox_local_currency']"
   ]
  },
  {
   "cell_type": "code",
   "execution_count": 186,
   "metadata": {},
   "outputs": [
    {
     "data": {
      "image/png": "[encoded data removed]",
      "text/plain": [
       "<Figure size 720x504 with 1 Axes>"
      ]
     },
     "metadata": {
      "needs_background": "light"
     },
     "output_type": "display_data"
    }
   ],
   "source": [
    "plt.figure(figsize=(10, 7))\n",
    "plt.hist(precio_venta_2_r.values, bins = 50, color = 'blue')\n",
    "plt.title('Distribución de Precios en Renta Menores a 250,000')\n",
    "plt.show()"
   ]
  },
  {
   "cell_type": "markdown",
   "metadata": {},
   "source": [
    "### Moneda"
   ]
  },
  {
   "cell_type": "code",
   "execution_count": 187,
   "metadata": {},
   "outputs": [],
   "source": [
    "moneda = df['v_currency'].value_counts()"
   ]
  },
  {
   "cell_type": "code",
   "execution_count": 202,
   "metadata": {},
   "outputs": [
    {
     "data": {
      "image/png": "[encoded data removed]",
      "text/plain": [
       "<Figure size 720x504 with 1 Axes>"
      ]
     },
     "metadata": {
      "needs_background": "light"
     },
     "output_type": "display_data"
    }
   ],
   "source": [
    "plt.figure(figsize=(10, 7))\n",
    "plt.bar(moneda.index, moneda.values, color = ['green', 'blue', 'aqua', 'yellow'])\n",
    "plt.title('Monedas por Publicacion')\n",
    "plt.show()"
   ]
  },
  {
   "cell_type": "markdown",
   "metadata": {},
   "source": [
    "_Se revisaran las publicaciones con moneda distinta al peso mexicano_"
   ]
  },
  {
   "cell_type": "markdown",
   "metadata": {},
   "source": [
    "### Tipo de Inmueble"
   ]
  },
  {
   "cell_type": "code",
   "execution_count": 216,
   "metadata": {},
   "outputs": [],
   "source": [
    "casa = pd.pivot_table(df[df['v_property_type'] == 'house'], values = ['c_price_aprox_local_currency'],\n",
    "              index = 'v_estado', aggfunc = np.median).sort_values('c_price_aprox_local_currency', ascending=False)\n",
    "\n",
    "depa = pd.pivot_table(df[df['v_property_type'] == 'apartment'], values = ['c_price_aprox_local_currency'],\n",
    "              index = 'v_estado', aggfunc = np.median).sort_values('c_price_aprox_local_currency', ascending=False)\n",
    "\n",
    "ph = pd.pivot_table(df[df['v_property_type'] == 'PH'], values = ['c_price_aprox_local_currency'],\n",
    "              index = 'v_estado', aggfunc = np.median).sort_values('c_price_aprox_local_currency', ascending=False)\n",
    "\n",
    "tienda = pd.pivot_table(df[df['v_property_type'] == 'store'], values = ['c_price_aprox_local_currency'],\n",
    "              index = 'v_estado', aggfunc = np.median).sort_values('c_price_aprox_local_currency', ascending=False)"
   ]
  },
  {
   "cell_type": "code",
   "execution_count": 244,
   "metadata": {},
   "outputs": [
    {
     "data": {
      "image/png": "[encoded data removed]",
      "text/plain": [
       "<Figure size 1296x1080 with 4 Axes>"
      ]
     },
     "metadata": {
      "needs_background": "light"
     },
     "output_type": "display_data"
    }
   ],
   "source": [
    "fig, ax = plt.subplots(2,2, figsize=(18, 15))\n",
    "fig.tight_layout(pad=18.0)\n",
    "\n",
    "# Casas\n",
    "ax[0][0].bar(casa.index, casa.c_price_aprox_local_currency)\n",
    "ax[0][0].set_title('Publicacion de Casas por Estado')\n",
    "ax[0][0].tick_params(labelrotation=90)\n",
    "\n",
    "#  Departamentos\n",
    "ax[0][1].bar(depa.index, depa.c_price_aprox_local_currency)\n",
    "ax[0][1].set_title('Publicacion de Departamentos por Estado')\n",
    "ax[0][1].tick_params(labelrotation=90)\n",
    "\n",
    "# Pent House\n",
    "ax[1][0].bar(ph.index, ph.c_price_aprox_local_currency)\n",
    "ax[1][0].set_title('Publicacion de Pent Houses por Estado')\n",
    "ax[1][0].tick_params(labelrotation=90)\n",
    "\n",
    "# Tienda\n",
    "ax[1][1].bar(tienda.index, tienda.c_price_aprox_local_currency)\n",
    "ax[1][1].set_title('Publicacion de Tiendas por Estado')\n",
    "plt.xticks(rotation = 90)\n",
    "\n",
    "plt.show()"
   ]
  },
  {
   "cell_type": "markdown",
   "metadata": {},
   "source": [
    "## d_created_on to Datetime"
   ]
  },
  {
   "cell_type": "code",
   "execution_count": 254,
   "metadata": {},
   "outputs": [],
   "source": [
    "df['d_created_on'] = pd.to_datetime(df['d_created_on'], format='%d/%m/%Y')"
   ]
  },
  {
   "cell_type": "code",
   "execution_count": 259,
   "metadata": {},
   "outputs": [
    {
     "data": {
      "text/plain": [
       "d_created_on\n",
       "1     1635073.49\n",
       "2     1680064.74\n",
       "3     1808919.33\n",
       "4     1872628.89\n",
       "5     1683630.27\n",
       "6     1585525.89\n",
       "7     1535978.09\n",
       "8     1654892.58\n",
       "9     1442333.11\n",
       "10    1367840.26\n",
       "11    1763897.61\n",
       "12    2076439.96\n",
       "Name: c_price_aprox_local_currency, dtype: float64"
      ]
     },
     "execution_count": 259,
     "metadata": {},
     "output_type": "execute_result"
    }
   ],
   "source": [
    "#df.set_index('d_created_on')\n",
    "df.set_index('d_created_on').groupby(by=[df.set_index('d_created_on').index.month]).agg(np.median)['c_price_aprox_local_currency']"
   ]
  }
 ],
 "metadata": {
  "kernelspec": {
   "display_name": "diplomado",
   "language": "python",
   "name": "diplomado"
  },
  "language_info": {
   "codemirror_mode": {
    "name": "ipython",
    "version": 3
   },
   "file_extension": ".py",
   "mimetype": "text/x-python",
   "name": "python",
   "nbconvert_exporter": "python",
   "pygments_lexer": "ipython3",
   "version": "3.8.3"
  }
 },
 "nbformat": 4,
 "nbformat_minor": 4
}
